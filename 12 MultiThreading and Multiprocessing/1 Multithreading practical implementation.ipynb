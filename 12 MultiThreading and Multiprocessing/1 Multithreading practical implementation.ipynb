{
 "cells": [
  {
   "cell_type": "markdown",
   "id": "781a1be3-42c2-469f-a176-e9ef59436bb7",
   "metadata": {},
   "source": [
    "### Multithreading practical example:"
   ]
  },
  {
   "cell_type": "markdown",
   "id": "336b0f93-76e5-4ea3-8b4e-9db8917e5c99",
   "metadata": {},
   "source": [
    "### When to use multithreading:-\n",
    "1. I\\O bound tasks: tasks that spend more time waiting for I\\O operations. (file operations, network requests)\n",
    "2. Concurrent execution: when you want to improve the throughput of your application by performing multiple operations concurrently. "
   ]
  },
  {
   "cell_type": "code",
   "execution_count": 5,
   "id": "b4bf5e60-f541-4b3a-ba6f-e150aba3a43a",
   "metadata": {},
   "outputs": [
    {
     "name": "stdout",
     "output_type": "stream",
     "text": [
      "number: 0letter: a\n",
      "\n",
      "letter: bnumber: 1\n",
      "\n",
      "number: 2\n",
      "letter: c\n",
      "number: 3\n",
      "letter: d\n",
      "number: 4\n",
      "letter: e\n",
      "10.024576425552368\n"
     ]
    }
   ],
   "source": [
    "###When to use multithreading:-\n",
    "#### I\\O bound tasks: tasks that spend more time waiting for I\\O operations. (file operations, network requests)\n",
    "#### Concurrent execution: when you want to improve the throughput of your application by performing multiple operations concurrently.\n",
    "\n",
    "import threading\n",
    "import time\n",
    "\n",
    "\n",
    "def print_numbers():\n",
    "    for i in range(5):\n",
    "        time.sleep(2)\n",
    "        print(f'number: {i}')\n",
    "\n",
    "def print_letters():\n",
    "    for letter in 'abcde':\n",
    "        time.sleep(2)\n",
    "        print(f'letter: {letter}')\n",
    "\n",
    "# Create 2 separate threads to see their concurrent working.\n",
    "t1 = threading.Thread(target=print_numbers)\n",
    "t2 = threading.Thread(target=print_letters)\n",
    "\n",
    "t = time.time()\n",
    "\n",
    "# Start the thread:-\n",
    "t1.start()\n",
    "t2.start()\n",
    "\n",
    "# waits for the thread to complete.\n",
    "t1.join()\n",
    "t2.join()\n",
    "\n",
    "\n",
    "finished_time = time.time() - t\n",
    "print(finished_time)"
   ]
  },
  {
   "cell_type": "code",
   "execution_count": null,
   "id": "56a1ac73-2ae2-4895-b7b0-bba29d890734",
   "metadata": {},
   "outputs": [],
   "source": []
  }
 ],
 "metadata": {
  "kernelspec": {
   "display_name": "Python 3 (ipykernel)",
   "language": "python",
   "name": "python3"
  },
  "language_info": {
   "codemirror_mode": {
    "name": "ipython",
    "version": 3
   },
   "file_extension": ".py",
   "mimetype": "text/x-python",
   "name": "python",
   "nbconvert_exporter": "python",
   "pygments_lexer": "ipython3",
   "version": "3.13.5"
  }
 },
 "nbformat": 4,
 "nbformat_minor": 5
}
