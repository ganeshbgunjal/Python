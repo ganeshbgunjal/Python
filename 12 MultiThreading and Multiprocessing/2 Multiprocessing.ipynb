{
 "cells": [
  {
   "cell_type": "markdown",
   "id": "4f8a2a95-f8df-4d93-a981-b262789dbef6",
   "metadata": {},
   "source": [
    "## Multiprocessing:--\n",
    "Processes that runs in parellel.\n",
    "### When to use: \n",
    "    1. CPU based tasks like mathematical computation, data processing.\n",
    "    2. Parellel execution: multiple cores of CPU."
   ]
  },
  {
   "cell_type": "code",
   "execution_count": 1,
   "id": "ca133b28-d50e-4e70-ad32-bd6052d69519",
   "metadata": {},
   "outputs": [],
   "source": [
    "import multiprocessing\n",
    "import time"
   ]
  },
  {
   "cell_type": "code",
   "execution_count": 2,
   "id": "f80d801c-8ba4-4b44-b3b6-6a4c8c8e6e37",
   "metadata": {},
   "outputs": [
    {
     "name": "stdout",
     "output_type": "stream",
     "text": [
      "0.3497939109802246\n"
     ]
    }
   ],
   "source": [
    "def square_numbers():\n",
    "    for i in range(5):\n",
    "        time.sleep(1)\n",
    "        print(f'Square of {i} = {i**2}')\n",
    "\n",
    "def cube_numbers():\n",
    "    for i in range(5):\n",
    "        time.sleep(1.5)\n",
    "        print(f'Square of {i} = {i*i*i}')\n",
    "\n",
    "if __name__== \"__main__\":\n",
    "\n",
    "    #Create 2 processes: \n",
    "    p1 = multiprocessing.Process(target = square_numbers)\n",
    "    p2 = multiprocessing.Process(target = cube_numbers)\n",
    "    t = time.time()\n",
    "    #start the process:\n",
    "    p1.start()\n",
    "    p2.start()\n",
    "    \n",
    "    #wait for the process to complete:\n",
    "    p1.join()\n",
    "    p2.join()\n",
    "    \n",
    "    finished_time = time.time()-t\n",
    "    print(finished_time)"
   ]
  },
  {
   "cell_type": "code",
   "execution_count": null,
   "id": "421d858f-45e0-4d06-8b0e-3d4911818ce9",
   "metadata": {},
   "outputs": [],
   "source": []
  }
 ],
 "metadata": {
  "kernelspec": {
   "display_name": "Python 3 (ipykernel)",
   "language": "python",
   "name": "python3"
  },
  "language_info": {
   "codemirror_mode": {
    "name": "ipython",
    "version": 3
   },
   "file_extension": ".py",
   "mimetype": "text/x-python",
   "name": "python",
   "nbconvert_exporter": "python",
   "pygments_lexer": "ipython3",
   "version": "3.13.5"
  }
 },
 "nbformat": 4,
 "nbformat_minor": 5
}
