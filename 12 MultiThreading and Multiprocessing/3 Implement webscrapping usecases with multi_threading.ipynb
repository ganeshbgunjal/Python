{
 "cells": [
  {
   "cell_type": "markdown",
   "id": "3f96ef6d-d213-4cbe-9820-beca0c38aa43",
   "metadata": {},
   "source": [
    "### Real World example:- Multithreading for I/O bound tasks:\n",
    "### Scenario:- webscrapping\n",
    "Web scrapping often involves making numerous requests to fetch web pages. These tasks are I/O boundbe because they spend a lot of time waiting for responses from servers. Multithreading can significantly imporve the performance by allowing multiple web pages to be fetched concurrently. \n"
   ]
  },
  {
   "cell_type": "code",
   "execution_count": 1,
   "id": "7b3805f4-65bd-4483-9ab2-b894ec0a6828",
   "metadata": {},
   "outputs": [],
   "source": [
    "'''https://python.langchain.com/docs/tutorials/\n",
    "\n",
    "https://python.langchain.com/docs/how_to/\n",
    "\n",
    "https://python.langchain.com/docs/concepts/'''\n",
    "\n",
    "import threading\n",
    "import requests\n"
   ]
  },
  {
   "cell_type": "code",
   "execution_count": 8,
   "id": "8ae5cfd8-4253-47fc-95bf-4387e453e76f",
   "metadata": {},
   "outputs": [
    {
     "name": "stdout",
     "output_type": "stream",
     "text": [
      "Fetched 16321 from https://python.langchain.com/docs/concepts/ \n",
      "Fetched 9859 from https://python.langchain.com/docs/tutorials/ \n",
      "\n",
      "\n",
      "Fetched 19457 from https://python.langchain.com/docs/how_to/ \n",
      "\n",
      "All Web pages fetched!\n"
     ]
    }
   ],
   "source": [
    "from bs4 import BeautifulSoup   #this is beautifulsoup 4 library. \n",
    "urls = [\n",
    "        'https://python.langchain.com/docs/tutorials/',\n",
    "\n",
    "        'https://python.langchain.com/docs/how_to/',\n",
    "\n",
    "        'https://python.langchain.com/docs/concepts/'\n",
    "]\n",
    "\n",
    "def fetch_content(url):\n",
    "    response = requests.get(url)\n",
    "    soup = BeautifulSoup(response.content,'html.parser')\n",
    "    print(f'Fetched {len(soup.text)} from {url} \\n')\n",
    "\n",
    "threads = []\n",
    "\n",
    "for url in urls:\n",
    "    thread = threading.Thread(target=fetch_content,args=(url,))\n",
    "    threads.append(thread)\n",
    "    thread.start()\n",
    "\n",
    "for thread in threads:\n",
    "    thread.join()\n",
    "\n",
    "print('All Web pages fetched!')"
   ]
  },
  {
   "cell_type": "code",
   "execution_count": null,
   "id": "1d55040d-5df9-462d-b935-9029d9070de6",
   "metadata": {},
   "outputs": [],
   "source": []
  }
 ],
 "metadata": {
  "kernelspec": {
   "display_name": "Python 3 (ipykernel)",
   "language": "python",
   "name": "python3"
  },
  "language_info": {
   "codemirror_mode": {
    "name": "ipython",
    "version": 3
   },
   "file_extension": ".py",
   "mimetype": "text/x-python",
   "name": "python",
   "nbconvert_exporter": "python",
   "pygments_lexer": "ipython3",
   "version": "3.13.5"
  }
 },
 "nbformat": 4,
 "nbformat_minor": 5
}
