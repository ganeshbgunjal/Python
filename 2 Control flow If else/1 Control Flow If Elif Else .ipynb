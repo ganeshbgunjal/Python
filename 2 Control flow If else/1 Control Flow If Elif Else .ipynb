{
 "cells": [
  {
   "cell_type": "markdown",
   "id": "c899e6f8-049c-4023-b750-29501e473902",
   "metadata": {},
   "source": [
    "## Control Flow Statements"
   ]
  },
  {
   "cell_type": "markdown",
   "id": "028c74b6-d1fb-42e4-b7ef-f4296554bb62",
   "metadata": {},
   "source": [
    "### 1 If Elif Else:\n",
    "If statements evaluates the condition, executes the block only when condition is true."
   ]
  },
  {
   "cell_type": "code",
   "execution_count": 1,
   "id": "48ebfff5-e51b-4f24-8426-d3ff0f0865b4",
   "metadata": {},
   "outputs": [],
   "source": [
    "age = 21\n",
    "if age >21:\n",
    "    print('Not granted')"
   ]
  },
  {
   "cell_type": "code",
   "execution_count": 2,
   "id": "3329774b-4327-4bf1-a048-f8c5c1755eae",
   "metadata": {},
   "outputs": [
    {
     "name": "stdout",
     "output_type": "stream",
     "text": [
      "Not granted\n"
     ]
    }
   ],
   "source": [
    "age = 21\n",
    "if age >=21:\n",
    "    print('Not granted')    #condition is true here."
   ]
  },
  {
   "cell_type": "markdown",
   "id": "efc26853-fc7b-4d55-8fa5-ccee071a1ba0",
   "metadata": {},
   "source": [
    "### Else:\n",
    "When If part is not executed, then else part excutes by default."
   ]
  },
  {
   "cell_type": "code",
   "execution_count": 3,
   "id": "c3bedde0-b890-4d30-9e9b-ba7443fd837d",
   "metadata": {},
   "outputs": [
    {
     "name": "stdout",
     "output_type": "stream",
     "text": [
      "Permission not granted\n"
     ]
    }
   ],
   "source": [
    "age = 21\n",
    "if age >21:\n",
    "    print('Permission Granted')\n",
    "else:\n",
    "    print('Permission not granted')"
   ]
  },
  {
   "cell_type": "markdown",
   "id": "b9308e5d-5d24-46d2-afe3-204fc2d0f352",
   "metadata": {},
   "source": [
    "### Elif Statements:\n",
    "It allow you to check multiple statements. It is short form Else If in python."
   ]
  },
  {
   "cell_type": "code",
   "execution_count": 4,
   "id": "588daf58-62fa-427b-a6b9-d8f0c1517137",
   "metadata": {},
   "outputs": [
    {
     "name": "stdout",
     "output_type": "stream",
     "text": [
      "you are adult\n"
     ]
    }
   ],
   "source": [
    "age = 20\n",
    "if age <13:\n",
    "    print('you are a child.')\n",
    "elif age <18:\n",
    "    print('you are teenager')\n",
    "else:\n",
    "    print('you are adult')"
   ]
  },
  {
   "cell_type": "code",
   "execution_count": 5,
   "id": "cbcdb29a-c660-4af8-86b4-bdd3f9b7ecd2",
   "metadata": {},
   "outputs": [
    {
     "name": "stdout",
     "output_type": "stream",
     "text": [
      "you are teenager\n"
     ]
    }
   ],
   "source": [
    "age = 17\n",
    "if age <13:\n",
    "    print('you are a child.')\n",
    "elif age <18:\n",
    "    print('you are teenager')\n",
    "else:\n",
    "    print('you are adult')"
   ]
  },
  {
   "cell_type": "markdown",
   "id": "98a1a946-e16e-43f1-9b84-78b29714b807",
   "metadata": {},
   "source": [
    "### Nested Statements:-\n",
    "If Else inside If Else.\n"
   ]
  },
  {
   "cell_type": "code",
   "execution_count": 6,
   "id": "24bc9f47-bb58-42fb-ba32-654a74da8304",
   "metadata": {},
   "outputs": [
    {
     "name": "stdin",
     "output_type": "stream",
     "text": [
      "Enter number:  3\n"
     ]
    },
    {
     "name": "stdout",
     "output_type": "stream",
     "text": [
      "Number is odd\n"
     ]
    }
   ],
   "source": [
    "number = int(input('Enter number: '))\n",
    "if number >0:\n",
    "    if number % 2==0:\n",
    "            print('Number is even')\n",
    "    else:\n",
    "        print('Number is odd')\n",
    "else:\n",
    "    print('Number is Negative')"
   ]
  },
  {
   "cell_type": "markdown",
   "id": "88c240bb-ce15-4e20-a6fa-c27b636755bc",
   "metadata": {},
   "source": [
    "### Practical Examples:"
   ]
  },
  {
   "cell_type": "markdown",
   "id": "f44ea807-6b84-45a5-a9a5-ad96ed90efb3",
   "metadata": {},
   "source": [
    "1. Determine whether the year is leap year or not."
   ]
  },
  {
   "cell_type": "code",
   "execution_count": 7,
   "id": "70cccb07-c8fb-46dd-a45c-d9be230ee218",
   "metadata": {},
   "outputs": [
    {
     "name": "stdin",
     "output_type": "stream",
     "text": [
      "Enter year:  1997\n"
     ]
    },
    {
     "name": "stdout",
     "output_type": "stream",
     "text": [
      "Given year is not leap year\n"
     ]
    }
   ],
   "source": [
    "year = int(input('Enter year: '))\n",
    "if (year % 4 == 0 and year % 100 != 0) or (year % 400 == 0):\n",
    "    print('Given year is leap year')\n",
    "else:\n",
    "    print('Given year is not leap year')"
   ]
  },
  {
   "cell_type": "code",
   "execution_count": 8,
   "id": "e98204b5-366f-4621-8d83-9788c90d4937",
   "metadata": {},
   "outputs": [
    {
     "name": "stdin",
     "output_type": "stream",
     "text": [
      "Enter year:  2000\n"
     ]
    },
    {
     "name": "stdout",
     "output_type": "stream",
     "text": [
      "Given year is leap year\n"
     ]
    }
   ],
   "source": [
    "year = int(input('Enter year: '))\n",
    "if (year % 4 == 0 and year % 100 != 0) or (year % 400 == 0):\n",
    "    print('Given year is leap year')\n",
    "else:\n",
    "    print('Given year is not leap year')"
   ]
  },
  {
   "cell_type": "markdown",
   "id": "c0b924ae-08ad-4ef0-999e-921fbdde312d",
   "metadata": {},
   "source": [
    "### using nested If else:--"
   ]
  },
  {
   "cell_type": "code",
   "execution_count": 11,
   "id": "8a94d9f3-4e57-4914-9a47-8b7a6fed020e",
   "metadata": {},
   "outputs": [
    {
     "name": "stdout",
     "output_type": "stream",
     "text": [
      "2000 is a leap year\n"
     ]
    }
   ],
   "source": [
    "### year = int(input('Enter year: '))\n",
    "if year % 4==0:\n",
    "    if year %100 == 0:\n",
    "        if year %400 == 0:\n",
    "            print(f'{year} is a leap year')\n",
    "        else:\n",
    "            print(f'{year} is not a leap year')\n",
    "    else:\n",
    "        print(f'{year} is a leap year')\n",
    "else:\n",
    "    print(f'{year} is not a leap year')"
   ]
  },
  {
   "cell_type": "markdown",
   "id": "e9d87a46-4477-4b5f-bbc5-7116c3ccec8c",
   "metadata": {},
   "source": [
    "## Make Simple Calculator:"
   ]
  },
  {
   "cell_type": "code",
   "execution_count": 22,
   "id": "335b16b6-0da1-498c-9416-e9de1e11cef8",
   "metadata": {},
   "outputs": [
    {
     "name": "stdin",
     "output_type": "stream",
     "text": [
      "Enter num1:  4\n",
      "Enter num2:  4\n",
      "Enter choice(1/2/3/4):  3\n"
     ]
    },
    {
     "name": "stdout",
     "output_type": "stream",
     "text": [
      "multiplication: 16\n"
     ]
    }
   ],
   "source": [
    "num1 = int(input('Enter num1: '))\n",
    "num2 = int(input('Enter num2: '))\n",
    "\n",
    "choice = int(input('Enter choice(1/2/3/4): '))\n",
    "\n",
    "addition = num1 + num2\n",
    "substraction = num1 - num2\n",
    "multiplication = num1 * num2\n",
    "division = num1 /num2\n",
    "\n",
    "if choice == 1:\n",
    "    print(f'Addition: {addition}')\n",
    "elif choice == 2:\n",
    "    print(f'Substraction: {substraction}')\n",
    "elif choice == 3:\n",
    "    print(f'multiplication: {multiplication}')\n",
    "elif choice == 4:\n",
    "    if num2 !=0:\n",
    "        division = num1/num2\n",
    "        print(f'division: {division}')\n",
    "    else:\n",
    "        print('Divide by zero is not possible')\n",
    "else:\n",
    "    print('Invalid Choice')"
   ]
  },
  {
   "cell_type": "markdown",
   "id": "6e416bf9-ee8b-4384-a133-3a4552503707",
   "metadata": {},
   "source": [
    "### Determine the tickets based on student age:"
   ]
  },
  {
   "cell_type": "code",
   "execution_count": 14,
   "id": "cb692558-222d-4c6f-9fc8-23df812592ea",
   "metadata": {},
   "outputs": [
    {
     "name": "stdin",
     "output_type": "stream",
     "text": [
      "Enter age:  7\n",
      "Are you student?[yes/no]:  n\n"
     ]
    },
    {
     "name": "stdout",
     "output_type": "stream",
     "text": [
      "$10\n"
     ]
    }
   ],
   "source": [
    "age = int(input(\"Enter age: \"))\n",
    "is_student = input('Are you student?[yes/no]: ').lower()\n",
    "\n",
    "if age <5:\n",
    "    price = 'free'\n",
    "elif age <=12:\n",
    "    price = '$10'\n",
    "elif age <=17:\n",
    "    if is_student == 'yes':\n",
    "        price = '$12'\n",
    "    else:\n",
    "        price = '$15'\n",
    "elif age <=60:\n",
    "    if is_student=='yes':\n",
    "        price = '$18'\n",
    "    else:\n",
    "        price = '$20'\n",
    "else:\n",
    "    price = '$25'\n",
    "print(price)\n",
    "    "
   ]
  },
  {
   "cell_type": "code",
   "execution_count": null,
   "id": "deeb245e-1ed2-4c54-874a-8093827d6f78",
   "metadata": {},
   "outputs": [],
   "source": []
  }
 ],
 "metadata": {
  "kernelspec": {
   "display_name": "Python 3 (ipykernel)",
   "language": "python",
   "name": "python3"
  },
  "language_info": {
   "codemirror_mode": {
    "name": "ipython",
    "version": 3
   },
   "file_extension": ".py",
   "mimetype": "text/x-python",
   "name": "python",
   "nbconvert_exporter": "python",
   "pygments_lexer": "ipython3",
   "version": "3.13.5"
  }
 },
 "nbformat": 4,
 "nbformat_minor": 5
}
