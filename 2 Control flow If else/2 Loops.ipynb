{
 "cells": [
  {
   "cell_type": "markdown",
   "id": "733c0bb5-2bf1-4437-ad05-2f30fdeffca8",
   "metadata": {},
   "source": [
    "## Loops: "
   ]
  },
  {
   "cell_type": "markdown",
   "id": "4d963c0b-699e-4200-93b5-f87981990e0c",
   "metadata": {},
   "source": [
    "A loop is a programming tool used to repeat a block of code multiple times — either for a fixed number of times or until a condition is met."
   ]
  },
  {
   "cell_type": "markdown",
   "id": "474df70d-00f5-4e1d-b292-6dc887b9a0df",
   "metadata": {},
   "source": [
    "### 1. For Loop:\n",
    "for loop – used when you know how many times to repeat\n",
    "\n"
   ]
  },
  {
   "cell_type": "code",
   "execution_count": 3,
   "id": "f732b03a-ec12-4e04-97c8-f5600c52027a",
   "metadata": {},
   "outputs": [
    {
     "name": "stdout",
     "output_type": "stream",
     "text": [
      "0\n",
      "1\n",
      "2\n",
      "3\n",
      "4\n"
     ]
    }
   ],
   "source": [
    "for i in range(5):\n",
    "    print(i)\n"
   ]
  },
  {
   "cell_type": "code",
   "execution_count": 4,
   "id": "004f4a20-39e6-4403-a069-6fb56b3fcf0c",
   "metadata": {},
   "outputs": [
    {
     "name": "stdout",
     "output_type": "stream",
     "text": [
      "1\n",
      "2\n",
      "3\n",
      "4\n",
      "5\n",
      "6\n",
      "7\n",
      "8\n",
      "9\n",
      "10\n"
     ]
    }
   ],
   "source": [
    "for i in range(1,11):\n",
    "    print(i)"
   ]
  },
  {
   "cell_type": "code",
   "execution_count": 7,
   "id": "1dbd7702-aa55-4e59-b3a0-2391ff4bfc0b",
   "metadata": {},
   "outputs": [
    {
     "data": {
      "text/plain": [
       "range(1, 10, 2)"
      ]
     },
     "execution_count": 7,
     "metadata": {},
     "output_type": "execute_result"
    }
   ],
   "source": [
    "range(1,10,2)"
   ]
  },
  {
   "cell_type": "code",
   "execution_count": 8,
   "id": "6404af46-353d-44e2-be0e-ffd6cba64e6c",
   "metadata": {},
   "outputs": [
    {
     "name": "stdout",
     "output_type": "stream",
     "text": [
      "1\n",
      "2\n",
      "3\n",
      "4\n",
      "5\n",
      "6\n",
      "7\n",
      "8\n",
      "9\n"
     ]
    }
   ],
   "source": [
    "for i in range(1,10,1):\n",
    "    print(i)"
   ]
  },
  {
   "cell_type": "code",
   "execution_count": 10,
   "id": "283b0b33-2607-474e-b6cf-6b59bbf4a399",
   "metadata": {},
   "outputs": [
    {
     "name": "stdout",
     "output_type": "stream",
     "text": [
      "1\n",
      "3\n",
      "5\n",
      "7\n",
      "9\n"
     ]
    }
   ],
   "source": [
    "for i in range(1,11,2):\n",
    "    print(i)"
   ]
  },
  {
   "cell_type": "code",
   "execution_count": 14,
   "id": "33127b5e-2419-4ce7-b7e4-35aecdf212c5",
   "metadata": {},
   "outputs": [
    {
     "name": "stdout",
     "output_type": "stream",
     "text": [
      "10\n",
      "9\n",
      "8\n",
      "7\n",
      "6\n",
      "5\n",
      "4\n",
      "3\n",
      "2\n"
     ]
    }
   ],
   "source": [
    "for i in range(10,1,-1):\n",
    "    print(i)"
   ]
  },
  {
   "cell_type": "code",
   "execution_count": 15,
   "id": "570a2412-0d99-4995-aa20-3db5a12d88be",
   "metadata": {},
   "outputs": [
    {
     "name": "stdout",
     "output_type": "stream",
     "text": [
      "10\n",
      "8\n",
      "6\n",
      "4\n",
      "2\n"
     ]
    }
   ],
   "source": [
    "for i in range(10,1,-2):\n",
    "    print(i)"
   ]
  },
  {
   "cell_type": "code",
   "execution_count": 16,
   "id": "3654427d-3ea6-4fe7-8802-96b09f570cc6",
   "metadata": {},
   "outputs": [
    {
     "name": "stdout",
     "output_type": "stream",
     "text": [
      "G\n",
      "a\n",
      "n\n",
      "e\n",
      "s\n",
      "h\n"
     ]
    }
   ],
   "source": [
    "string = 'Ganesh'\n",
    "for i in string:\n",
    "    print(i)"
   ]
  },
  {
   "cell_type": "markdown",
   "id": "be56731c-2d6e-4d83-bbc2-104a8854dde6",
   "metadata": {},
   "source": [
    "## While Loop:\n",
    "It continues as long as the condition is true."
   ]
  },
  {
   "cell_type": "code",
   "execution_count": 19,
   "id": "b6d2b22c-3935-4122-bdbf-45752006fabf",
   "metadata": {},
   "outputs": [
    {
     "name": "stdout",
     "output_type": "stream",
     "text": [
      "0\n",
      "1\n",
      "2\n",
      "3\n",
      "4\n"
     ]
    }
   ],
   "source": [
    "count = 0\n",
    "while count <5:\n",
    "    print(count)\n",
    "    count+=1"
   ]
  },
  {
   "cell_type": "code",
   "execution_count": 23,
   "id": "eb8863c4-e9ed-4fed-ad39-e3e4f91041dc",
   "metadata": {},
   "outputs": [
    {
     "name": "stdout",
     "output_type": "stream",
     "text": [
      "21\n"
     ]
    }
   ],
   "source": [
    "lst = [1,2,3,4,5,6]\n",
    "sum = 0\n",
    "i =0\n",
    "while i <len(lst):\n",
    "    sum+=lst[i]\n",
    "    i+=1\n",
    "print(sum)\n",
    "   "
   ]
  },
  {
   "cell_type": "code",
   "execution_count": 26,
   "id": "2eee55b3-e8d3-44c3-b139-d95cf9977cb7",
   "metadata": {},
   "outputs": [
    {
     "name": "stdout",
     "output_type": "stream",
     "text": [
      "21\n"
     ]
    }
   ],
   "source": [
    "lst = [1,2,3,4,5,6]\n",
    "\n",
    "summ = 0\n",
    "for i in lst:\n",
    "    summ+=i\n",
    "print(summ)\n",
    "    "
   ]
  },
  {
   "cell_type": "markdown",
   "id": "0d78b442-9f42-4ec2-99e5-c6de1267e24c",
   "metadata": {},
   "source": [
    "### Loop Control Statements: "
   ]
  },
  {
   "cell_type": "markdown",
   "id": "f5ffe563-1081-435c-8bdd-7791ced6b768",
   "metadata": {},
   "source": [
    "**1. Break:** Break statement exits the loop.  \n",
    "**2. Continue:** it immediately skips the rest of the code in the current iteration and jumps to the next iteration of the loop."
   ]
  },
  {
   "cell_type": "code",
   "execution_count": 27,
   "id": "9769b08a-51b0-4809-8d88-1172139c03ec",
   "metadata": {},
   "outputs": [
    {
     "name": "stdout",
     "output_type": "stream",
     "text": [
      "1\n",
      "2\n",
      "3\n",
      "4\n",
      "5\n",
      "6\n"
     ]
    }
   ],
   "source": [
    "for i in range(1,11):\n",
    "    print(i)\n",
    "    if i == 6:\n",
    "        break"
   ]
  },
  {
   "cell_type": "code",
   "execution_count": 30,
   "id": "739c7b6f-3a8f-4832-95c2-ef2ee1a281a8",
   "metadata": {},
   "outputs": [
    {
     "name": "stdout",
     "output_type": "stream",
     "text": [
      "1\n",
      "2\n",
      "3\n",
      "4\n",
      "5\n",
      "6\n",
      "8\n",
      "9\n",
      "10\n"
     ]
    }
   ],
   "source": [
    "for i in range(1,11):\n",
    "    if i == 7:\n",
    "        continue\n",
    "    print(i)\n"
   ]
  },
  {
   "cell_type": "markdown",
   "id": "736b2b11-99a8-4ba6-8439-bf021c1d72c0",
   "metadata": {},
   "source": [
    "### Pass Statement:"
   ]
  },
  {
   "cell_type": "code",
   "execution_count": 31,
   "id": "bfa74710-4480-4c17-96c6-6b4ef083647d",
   "metadata": {},
   "outputs": [
    {
     "name": "stdout",
     "output_type": "stream",
     "text": [
      "1\n",
      "2\n",
      "3\n",
      "4\n",
      "5\n",
      "6\n",
      "7\n",
      "8\n",
      "9\n"
     ]
    }
   ],
   "source": [
    "for i in range(1,10):\n",
    "    if i == 6:\n",
    "        pass\n",
    "    print(i)"
   ]
  },
  {
   "cell_type": "code",
   "execution_count": 32,
   "id": "6621f1e7-8b9a-4e67-bb7c-4642f2a433ed",
   "metadata": {},
   "outputs": [],
   "source": [
    "for i in range(1,11):\n",
    "    pass"
   ]
  },
  {
   "cell_type": "markdown",
   "id": "bde585c2-8d94-4435-a122-5eec6795fcd9",
   "metadata": {},
   "source": [
    "### Nested Loops:\n",
    "Loop inside is Nested loop."
   ]
  },
  {
   "cell_type": "code",
   "execution_count": 33,
   "id": "ec8e9e42-4015-4b76-8927-e0556ce1ec32",
   "metadata": {},
   "outputs": [
    {
     "name": "stdout",
     "output_type": "stream",
     "text": [
      "i:0, j:0\n",
      "i:0, j:1\n",
      "i:1, j:0\n",
      "i:1, j:1\n",
      "i:2, j:0\n",
      "i:2, j:1\n"
     ]
    }
   ],
   "source": [
    "for i in range(3):\n",
    "    for j in range(2):\n",
    "        print(f'i:{i}, j:{j}')"
   ]
  },
  {
   "cell_type": "markdown",
   "id": "2613895d-7d5c-475a-b1ac-51b5264aba39",
   "metadata": {},
   "source": [
    "### Calculate the sum of first N numbers using while and for loop."
   ]
  },
  {
   "cell_type": "code",
   "execution_count": 40,
   "id": "a5cfefa7-dbb5-4312-ab1c-b00e175b9489",
   "metadata": {},
   "outputs": [
    {
     "name": "stdin",
     "output_type": "stream",
     "text": [
      "Enter a number:  5\n"
     ]
    },
    {
     "name": "stdout",
     "output_type": "stream",
     "text": [
      "Sum using While loop: 15\n"
     ]
    }
   ],
   "source": [
    "num = int(input('Enter a number: '))\n",
    "\n",
    "sum = 0\n",
    "i=1\n",
    "\n",
    "while i<=num:\n",
    "    sum=sum+i\n",
    "    i+=1\n",
    "print(f'Sum using While loop: {sum}')"
   ]
  },
  {
   "cell_type": "code",
   "execution_count": 41,
   "id": "0e919742-e587-41ac-8461-5743f880898d",
   "metadata": {},
   "outputs": [
    {
     "name": "stdin",
     "output_type": "stream",
     "text": [
      "Enter a num:  5\n"
     ]
    },
    {
     "name": "stdout",
     "output_type": "stream",
     "text": [
      "Sum using For loop: 15\n"
     ]
    }
   ],
   "source": [
    "num = int(input('Enter a num: '))\n",
    "\n",
    "sum = 0\n",
    "\n",
    "for i in range(num+1):\n",
    "    sum=sum+i\n",
    "print(f'Sum using For loop: {sum}')"
   ]
  },
  {
   "cell_type": "markdown",
   "id": "2a5f1503-3da3-40bd-993b-734a2f175545",
   "metadata": {},
   "source": [
    "### Calculate prime numbers between 1 to N.\n",
    "A number is prime if:\n",
    "\n",
    "It is greater than 1\n",
    "\n",
    "It has no divisors other than 1 and itself"
   ]
  },
  {
   "cell_type": "code",
   "execution_count": 45,
   "id": "f07b4a3e-4c24-4d56-ae9f-c8d2257ada8c",
   "metadata": {},
   "outputs": [
    {
     "name": "stdin",
     "output_type": "stream",
     "text": [
      "Ente number:  20\n"
     ]
    },
    {
     "name": "stdout",
     "output_type": "stream",
     "text": [
      "Prime numbers between 1 to 20 are:\n",
      "2\n",
      "3\n",
      "5\n",
      "7\n",
      "11\n",
      "13\n",
      "17\n",
      "19\n"
     ]
    }
   ],
   "source": [
    "n = int(input('Ente number: '))\n",
    "print(f'Prime numbers between 1 to {n} are:')\n",
    "for num in range(2,n+1):\n",
    "    is_prime = True\n",
    "    for i in range(2,num):\n",
    "        if num % i ==0:\n",
    "            is_prime = False\n",
    "            break\n",
    "    if is_prime:\n",
    "        print(num)"
   ]
  },
  {
   "cell_type": "code",
   "execution_count": 47,
   "id": "e2a5a028-8691-4cff-a8d8-d5f418ae2929",
   "metadata": {},
   "outputs": [
    {
     "name": "stdout",
     "output_type": "stream",
     "text": [
      "2\n",
      "3\n",
      "5\n",
      "7\n",
      "11\n",
      "13\n",
      "17\n",
      "19\n",
      "23\n",
      "29\n",
      "31\n",
      "37\n",
      "41\n",
      "43\n",
      "47\n",
      "53\n",
      "59\n",
      "61\n",
      "67\n",
      "71\n",
      "73\n",
      "79\n",
      "83\n",
      "89\n",
      "97\n"
     ]
    }
   ],
   "source": [
    "n = 100\n",
    "for num in range(2,n+1):\n",
    "    if num>1:\n",
    "        for i in range(2,num):\n",
    "            if num % i == 0:\n",
    "                break\n",
    "        else:\n",
    "            print(num)"
   ]
  },
  {
   "cell_type": "code",
   "execution_count": null,
   "id": "80fe293e-e4db-48cd-93f0-b3113a7b35c2",
   "metadata": {},
   "outputs": [],
   "source": []
  }
 ],
 "metadata": {
  "kernelspec": {
   "display_name": "Python 3 (ipykernel)",
   "language": "python",
   "name": "python3"
  },
  "language_info": {
   "codemirror_mode": {
    "name": "ipython",
    "version": 3
   },
   "file_extension": ".py",
   "mimetype": "text/x-python",
   "name": "python",
   "nbconvert_exporter": "python",
   "pygments_lexer": "ipython3",
   "version": "3.13.5"
  }
 },
 "nbformat": 4,
 "nbformat_minor": 5
}
