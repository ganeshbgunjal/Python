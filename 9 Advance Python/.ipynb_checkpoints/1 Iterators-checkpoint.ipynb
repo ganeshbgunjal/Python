{
 "cells": [
  {
   "cell_type": "markdown",
   "id": "08d358dc-1cbb-43d2-b906-27346d6d01db",
   "metadata": {},
   "source": [
    "### Iterators:--"
   ]
  },
  {
   "cell_type": "markdown",
   "id": "4b8c7ea9-5862-4b52-8545-5533ab0ff91e",
   "metadata": {},
   "source": [
    "Iterators are the advanced python concepts that allows for efficient looping and memory management. Iterators provides a way to access elements of a collection sequentially without underlying the structure. "
   ]
  },
  {
   "cell_type": "code",
   "execution_count": 1,
   "id": "9bc747ca-179c-49c5-9751-35d87697017e",
   "metadata": {},
   "outputs": [
    {
     "name": "stdout",
     "output_type": "stream",
     "text": [
      "1\n",
      "2\n",
      "3\n",
      "4\n",
      "5\n"
     ]
    }
   ],
   "source": [
    "my_list = [1,2,3,4,5]\n",
    "\n",
    "for i in my_list:\n",
    "    print(i)\n",
    "    "
   ]
  },
  {
   "cell_type": "code",
   "execution_count": 2,
   "id": "974730a4-dfbe-4abc-86be-ae817b66a74c",
   "metadata": {},
   "outputs": [
    {
     "name": "stdout",
     "output_type": "stream",
     "text": [
      "<class 'list'>\n"
     ]
    }
   ],
   "source": [
    "print(type(my_list))"
   ]
  },
  {
   "cell_type": "markdown",
   "id": "3edfbe19-a843-4513-80a9-3ca800b045a3",
   "metadata": {},
   "source": [
    "#### Creating a Iterator:"
   ]
  },
  {
   "cell_type": "code",
   "execution_count": 3,
   "id": "ecec4fd3-9608-45d2-9013-9fbd9bdce5d7",
   "metadata": {},
   "outputs": [
    {
     "name": "stdout",
     "output_type": "stream",
     "text": [
      "<class 'list_iterator'>\n"
     ]
    }
   ],
   "source": [
    "iterator = iter(my_list)\n",
    "print(type(iterator))"
   ]
  },
  {
   "cell_type": "code",
   "execution_count": 4,
   "id": "e5d04384-3f8c-49de-88cc-e5e8bb918c24",
   "metadata": {},
   "outputs": [
    {
     "name": "stdout",
     "output_type": "stream",
     "text": [
      "<list_iterator object at 0x000001C70863AC50>\n"
     ]
    }
   ],
   "source": [
    "print(iterator)"
   ]
  },
  {
   "cell_type": "markdown",
   "id": "968b9a31-7962-465d-a56f-04a5917d9e53",
   "metadata": {},
   "source": [
    "To Iterate thr this, we need to use next() function/keyword for this."
   ]
  },
  {
   "cell_type": "code",
   "execution_count": 5,
   "id": "66695d15-4a6e-45ba-b7cd-2313f98379dc",
   "metadata": {},
   "outputs": [
    {
     "data": {
      "text/plain": [
       "1"
      ]
     },
     "execution_count": 5,
     "metadata": {},
     "output_type": "execute_result"
    }
   ],
   "source": [
    "next(iterator)"
   ]
  },
  {
   "cell_type": "code",
   "execution_count": 6,
   "id": "6c11ecbb-9f74-4427-a612-a697df584704",
   "metadata": {},
   "outputs": [
    {
     "data": {
      "text/plain": [
       "2"
      ]
     },
     "execution_count": 6,
     "metadata": {},
     "output_type": "execute_result"
    }
   ],
   "source": [
    "next(iterator)"
   ]
  },
  {
   "cell_type": "code",
   "execution_count": 7,
   "id": "7b88e209-66a0-46bb-a3d2-917de921f913",
   "metadata": {},
   "outputs": [
    {
     "data": {
      "text/plain": [
       "3"
      ]
     },
     "execution_count": 7,
     "metadata": {},
     "output_type": "execute_result"
    }
   ],
   "source": [
    "next(iterator)"
   ]
  },
  {
   "cell_type": "code",
   "execution_count": 8,
   "id": "fa299951-26d0-420d-ac8a-bb13a4031efa",
   "metadata": {},
   "outputs": [
    {
     "data": {
      "text/plain": [
       "4"
      ]
     },
     "execution_count": 8,
     "metadata": {},
     "output_type": "execute_result"
    }
   ],
   "source": [
    "next(iterator)"
   ]
  },
  {
   "cell_type": "code",
   "execution_count": 9,
   "id": "14bae813-82a4-4ca4-8e9d-c7351e2704f6",
   "metadata": {},
   "outputs": [
    {
     "data": {
      "text/plain": [
       "5"
      ]
     },
     "execution_count": 9,
     "metadata": {},
     "output_type": "execute_result"
    }
   ],
   "source": [
    "next(iterator)"
   ]
  },
  {
   "cell_type": "code",
   "execution_count": 11,
   "id": "37bdcd98-d90d-4b3d-b75b-e47b41f7bf0a",
   "metadata": {},
   "outputs": [
    {
     "ename": "StopIteration",
     "evalue": "",
     "output_type": "error",
     "traceback": [
      "\u001b[1;31m---------------------------------------------------------------------------\u001b[0m",
      "\u001b[1;31mStopIteration\u001b[0m                             Traceback (most recent call last)",
      "Cell \u001b[1;32mIn[11], line 1\u001b[0m\n\u001b[1;32m----> 1\u001b[0m \u001b[38;5;28mnext\u001b[39m(iterator)\n",
      "\u001b[1;31mStopIteration\u001b[0m: "
     ]
    }
   ],
   "source": [
    "next(iterator)   #stops the iteration"
   ]
  },
  {
   "cell_type": "markdown",
   "id": "b94af24f-ccff-41d9-9d05-4915ff353dd8",
   "metadata": {},
   "source": [
    "#### Using try and except block:--"
   ]
  },
  {
   "cell_type": "code",
   "execution_count": 14,
   "id": "9675e1ec-e02c-430c-945e-89ea644754ee",
   "metadata": {},
   "outputs": [],
   "source": [
    "iterator1 = iter(my_list)"
   ]
  },
  {
   "cell_type": "code",
   "execution_count": 17,
   "id": "6d7fd11f-82ee-4971-bff2-56b2e29a5a6b",
   "metadata": {},
   "outputs": [
    {
     "name": "stdout",
     "output_type": "stream",
     "text": [
      "There is no element left the in list/collection\n"
     ]
    }
   ],
   "source": [
    "try:\n",
    "    print(next(iterator))\n",
    "except StopIteration:\n",
    "    print('There is no element left the in list/collection')"
   ]
  },
  {
   "cell_type": "markdown",
   "id": "0ececcfa-c1cc-4457-8111-233d46165c73",
   "metadata": {},
   "source": [
    "#### for String Iterators:"
   ]
  },
  {
   "cell_type": "code",
   "execution_count": 20,
   "id": "f2815f1d-810e-499e-a64c-088811e45ebb",
   "metadata": {},
   "outputs": [
    {
     "name": "stdout",
     "output_type": "stream",
     "text": [
      "H\n",
      "e\n",
      "l\n",
      "l\n",
      "o\n"
     ]
    }
   ],
   "source": [
    "my_string = 'Hello'\n",
    "string_iterators = iter(my_string)\n",
    "\n",
    "print(next(string_iterators))\n",
    "print(next(string_iterators))\n",
    "print(next(string_iterators))\n",
    "print(next(string_iterators))\n",
    "print(next(string_iterators))\n"
   ]
  },
  {
   "cell_type": "code",
   "execution_count": 21,
   "id": "04cad751-e5cc-4050-9e78-ef18b8ff31ff",
   "metadata": {},
   "outputs": [
    {
     "name": "stdout",
     "output_type": "stream",
     "text": [
      "No string element left in the list\n"
     ]
    }
   ],
   "source": [
    "try:\n",
    "    print(next(string_iterators))\n",
    "except Exception as e:\n",
    "    print('No string element left in the list')\n",
    "    "
   ]
  },
  {
   "cell_type": "code",
   "execution_count": null,
   "id": "4299ad68-94e1-4126-be79-8adfa096c580",
   "metadata": {},
   "outputs": [],
   "source": []
  }
 ],
 "metadata": {
  "kernelspec": {
   "display_name": "Python 3 (ipykernel)",
   "language": "python",
   "name": "python3"
  },
  "language_info": {
   "codemirror_mode": {
    "name": "ipython",
    "version": 3
   },
   "file_extension": ".py",
   "mimetype": "text/x-python",
   "name": "python",
   "nbconvert_exporter": "python",
   "pygments_lexer": "ipython3",
   "version": "3.13.5"
  }
 },
 "nbformat": 4,
 "nbformat_minor": 5
}
