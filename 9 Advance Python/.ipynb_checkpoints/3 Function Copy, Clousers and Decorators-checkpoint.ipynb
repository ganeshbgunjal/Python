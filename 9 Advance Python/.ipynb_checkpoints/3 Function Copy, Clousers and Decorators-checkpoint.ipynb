{
 "cells": [
  {
   "cell_type": "markdown",
   "id": "2485fec8-c221-4c88-a393-7dbbdd0ebfac",
   "metadata": {},
   "source": [
    "### Decorators:\n",
    "Decorators are the most powerful feature in the python that allows you to modify the behaviour of a function or class method. They are commonly used to add functionality to function or class without modifying their actual code.\n"
   ]
  },
  {
   "cell_type": "markdown",
   "id": "32b37cea-4756-453c-bbc0-dd00f27e9c7c",
   "metadata": {},
   "source": [
    "#### How Decorators Work?\n",
    "\n",
    "In Python, functions are first-class objects (you can pass them as arguments, return them from other functions, and store them in variables).\n",
    "\n",
    "A decorator takes a function as input, adds some extra code around it, and returns a new function.\n",
    "\n",
    "They’re often used for logging, authentication, performance measurement, caching, etc."
   ]
  },
  {
   "cell_type": "markdown",
   "id": "4a3510b6-bf22-4aed-ad95-5b16f644c017",
   "metadata": {},
   "source": [
    "#### Before understanding decorators, let's first understand function copies and closures."
   ]
  },
  {
   "cell_type": "markdown",
   "id": "3317c2bf-ffe7-4fbf-b4b1-ba152d0aabaf",
   "metadata": {},
   "source": [
    "#### Function Copy:"
   ]
  },
  {
   "cell_type": "code",
   "execution_count": 1,
   "id": "5bc4d706-99b8-467b-ac41-fe741fc05bb6",
   "metadata": {},
   "outputs": [],
   "source": [
    "def welcome():\n",
    "    return 'Welcome to the advance python!'"
   ]
  },
  {
   "cell_type": "code",
   "execution_count": 2,
   "id": "655b1cf6-9312-46b7-b98c-9ecbcdf39940",
   "metadata": {},
   "outputs": [
    {
     "data": {
      "text/plain": [
       "'Welcome to the advance python!'"
      ]
     },
     "execution_count": 2,
     "metadata": {},
     "output_type": "execute_result"
    }
   ],
   "source": [
    "welcome()"
   ]
  },
  {
   "cell_type": "code",
   "execution_count": 3,
   "id": "8307bb53-9c4f-49c5-9fa6-c60c3a205ee0",
   "metadata": {},
   "outputs": [
    {
     "name": "stdout",
     "output_type": "stream",
     "text": [
      "Welcome to the advance python!\n",
      "Welcome to the advance python!\n"
     ]
    }
   ],
   "source": [
    "wel = welcome\n",
    "print(wel())\n",
    "del welcome\n",
    "print(wel())"
   ]
  },
  {
   "cell_type": "markdown",
   "id": "d6cb6eec-1bd5-4e1e-a411-60ad6eeead1f",
   "metadata": {},
   "source": [
    "#### Closures: Means Function inside a function."
   ]
  },
  {
   "cell_type": "code",
   "execution_count": 4,
   "id": "66c4f91c-ff79-45d3-83fc-2fbf9ced9b27",
   "metadata": {},
   "outputs": [],
   "source": [
    "def main_welcome():\n",
    "    msg= 'Welcome'\n",
    "    def sub_welcome_method():\n",
    "        print('Welcome to the advance python course!')\n",
    "        print(msg)\n",
    "        print('Learn these concpets properly!')\n",
    "    return sub_welcome_method()"
   ]
  },
  {
   "cell_type": "code",
   "execution_count": 5,
   "id": "e4986575-bce1-4a0d-829b-5373d30f6f4f",
   "metadata": {},
   "outputs": [
    {
     "name": "stdout",
     "output_type": "stream",
     "text": [
      "Welcome to the advance python course!\n",
      "Welcome\n",
      "Learn these concpets properly!\n"
     ]
    }
   ],
   "source": [
    "main_welcome()"
   ]
  },
  {
   "cell_type": "markdown",
   "id": "9ad4e23b-e645-4bb0-95dc-011644993e4e",
   "metadata": {},
   "source": [
    "#### Another approach:"
   ]
  },
  {
   "cell_type": "code",
   "execution_count": 6,
   "id": "90239acd-1b68-4807-a94d-3d925ba8fda6",
   "metadata": {},
   "outputs": [],
   "source": [
    "def main_welcome(msg):\n",
    "    def sub_welcome_method():\n",
    "        print('Welcome to the advance python course!')\n",
    "        print(msg)\n",
    "        print('Learn these concpets properly!')\n",
    "    return sub_welcome_method()"
   ]
  },
  {
   "cell_type": "code",
   "execution_count": 7,
   "id": "00fd6188-7f5c-462e-ac6f-6a859f8f8e62",
   "metadata": {},
   "outputs": [
    {
     "name": "stdout",
     "output_type": "stream",
     "text": [
      "Welcome to the advance python course!\n",
      "Welcome!\n",
      "Learn these concpets properly!\n"
     ]
    }
   ],
   "source": [
    "main_welcome('Welcome!')     #so its beauty of this, that we can print msg like this also."
   ]
  },
  {
   "cell_type": "markdown",
   "id": "22689c4a-7dee-4984-8946-e3717162feaa",
   "metadata": {},
   "source": [
    "#### Now lets see Decorators:"
   ]
  },
  {
   "cell_type": "code",
   "execution_count": 8,
   "id": "db65c6f9-7822-457d-a87b-520be26bbf4f",
   "metadata": {},
   "outputs": [],
   "source": [
    "def main_welcome(func):\n",
    "    def sub_welcome_method():\n",
    "        print('welcome to the python advance functions')\n",
    "        func()\n",
    "        print('Pls learn these concepts properly!')\n",
    "    return sub_welcome_method()"
   ]
  },
  {
   "cell_type": "code",
   "execution_count": 9,
   "id": "75dd9fed-6ea3-4ce6-b190-c41af884538f",
   "metadata": {},
   "outputs": [
    {
     "name": "stdout",
     "output_type": "stream",
     "text": [
      "This is an advance python course\n"
     ]
    }
   ],
   "source": [
    "def course_introduction():\n",
    "    print('This is an advance python course')\n",
    "\n",
    "course_introduction()"
   ]
  },
  {
   "cell_type": "code",
   "execution_count": 11,
   "id": "e42b7d75-2897-49b2-9515-70e4ee890d05",
   "metadata": {},
   "outputs": [
    {
     "name": "stdout",
     "output_type": "stream",
     "text": [
      "welcome to the python advance functions\n",
      "This is an advance python course\n",
      "Pls learn these concepts properly!\n"
     ]
    }
   ],
   "source": [
    "main_welcome(course_introduction)   #function inside function callled. see carefully."
   ]
  },
  {
   "cell_type": "markdown",
   "id": "6e075968-d107-4c88-9b48-b03390dedd48",
   "metadata": {},
   "source": [
    "#### Now lets see actual working of Decorators:"
   ]
  },
  {
   "cell_type": "code",
   "execution_count": 13,
   "id": "6120fd04-2e95-48ed-9121-c1d64d83e293",
   "metadata": {},
   "outputs": [
    {
     "name": "stdout",
     "output_type": "stream",
     "text": [
      "welcome to the python advance functions\n",
      "This is an advance python course\n",
      "Pls learn these concepts properly!\n"
     ]
    }
   ],
   "source": [
    "@main_welcome\n",
    "def course_introduction():\n",
    "    print('This is an advance python course')     #this is the beauti of decorators\n"
   ]
  },
  {
   "cell_type": "code",
   "execution_count": 14,
   "id": "1b44037a-895f-49e9-a01d-9d9c358b4f9c",
   "metadata": {},
   "outputs": [],
   "source": [
    "def main_function(func):\n",
    "    def wrapper():\n",
    "        print('Something is happening before function called')\n",
    "        func()\n",
    "        print('Something is happening after function called')\n",
    "    return wrapper()\n",
    "    "
   ]
  },
  {
   "cell_type": "code",
   "execution_count": 15,
   "id": "5c62180e-b969-45dc-845d-da6d140ba857",
   "metadata": {},
   "outputs": [
    {
     "name": "stdout",
     "output_type": "stream",
     "text": [
      "Something is happening before function called\n",
      "Welcome all for this course!\n",
      "Something is happening after function called\n"
     ]
    }
   ],
   "source": [
    "@main_function\n",
    "def say_hello():\n",
    "    print('Welcome all for this course!')"
   ]
  },
  {
   "cell_type": "code",
   "execution_count": null,
   "id": "744c9f56-ec2f-468d-b1ca-8c6dea19ed04",
   "metadata": {},
   "outputs": [],
   "source": []
  }
 ],
 "metadata": {
  "kernelspec": {
   "display_name": "Python 3 (ipykernel)",
   "language": "python",
   "name": "python3"
  },
  "language_info": {
   "codemirror_mode": {
    "name": "ipython",
    "version": 3
   },
   "file_extension": ".py",
   "mimetype": "text/x-python",
   "name": "python",
   "nbconvert_exporter": "python",
   "pygments_lexer": "ipython3",
   "version": "3.13.5"
  }
 },
 "nbformat": 4,
 "nbformat_minor": 5
}
