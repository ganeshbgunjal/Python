{
 "cells": [
  {
   "cell_type": "markdown",
   "id": "b64a8304-5029-4034-90b7-9504b81c5a2a",
   "metadata": {},
   "source": [
    "### Generators:-"
   ]
  },
  {
   "cell_type": "markdown",
   "id": "6314b2e4-aa14-4c99-8bb5-65ee112d9d03",
   "metadata": {},
   "source": [
    "Generators are the simpler way to create Iterators. They use the yield keyword to produce a series of values lazily, which means they generate value on the fly and do not store them in the memory."
   ]
  },
  {
   "cell_type": "code",
   "execution_count": 1,
   "id": "36872849-183a-485f-83ff-1fc1d4ef208d",
   "metadata": {},
   "outputs": [],
   "source": [
    "def square(n):\n",
    "    for i in range(3):\n",
    "        return i**2"
   ]
  },
  {
   "cell_type": "code",
   "execution_count": 2,
   "id": "b280b715-5aee-4bf8-92f0-0652aba8adef",
   "metadata": {},
   "outputs": [
    {
     "data": {
      "text/plain": [
       "0"
      ]
     },
     "execution_count": 2,
     "metadata": {},
     "output_type": "execute_result"
    }
   ],
   "source": [
    "square(3)"
   ]
  },
  {
   "cell_type": "markdown",
   "id": "54053d67-f1e7-4cc5-835b-62f76c162e58",
   "metadata": {},
   "source": [
    "#### So here Generators are useful. Generators uses yeild keyword as follows:-"
   ]
  },
  {
   "cell_type": "code",
   "execution_count": 5,
   "id": "00a8fb08-ca98-49af-a618-67bf51769f83",
   "metadata": {},
   "outputs": [
    {
     "name": "stdout",
     "output_type": "stream",
     "text": [
      "0\n",
      "1\n",
      "4\n",
      "9\n"
     ]
    }
   ],
   "source": [
    "def squares(n):\n",
    "    for i in range(4):\n",
    "        yield i**2\n",
    "\n",
    "for i in squares(3):\n",
    "    print(i)"
   ]
  },
  {
   "cell_type": "markdown",
   "id": "14818f8e-ed77-4c98-8747-740181704043",
   "metadata": {},
   "source": [
    "#### Or another approach is as follow:--"
   ]
  },
  {
   "cell_type": "code",
   "execution_count": 6,
   "id": "49592392-59ed-4d8e-94a7-3e4134b81e50",
   "metadata": {},
   "outputs": [],
   "source": [
    "a=squares(4)"
   ]
  },
  {
   "cell_type": "code",
   "execution_count": 7,
   "id": "bc413003-8619-4de9-a4f8-36c55a0fef12",
   "metadata": {},
   "outputs": [
    {
     "data": {
      "text/plain": [
       "0"
      ]
     },
     "execution_count": 7,
     "metadata": {},
     "output_type": "execute_result"
    }
   ],
   "source": [
    "next(a)"
   ]
  },
  {
   "cell_type": "code",
   "execution_count": 8,
   "id": "93e64836-7213-45d4-b08c-10980c3cd38a",
   "metadata": {},
   "outputs": [
    {
     "data": {
      "text/plain": [
       "1"
      ]
     },
     "execution_count": 8,
     "metadata": {},
     "output_type": "execute_result"
    }
   ],
   "source": [
    "next(a)"
   ]
  },
  {
   "cell_type": "code",
   "execution_count": 9,
   "id": "1f003b15-d104-46b7-aa5b-a3ed9f4bda27",
   "metadata": {},
   "outputs": [
    {
     "data": {
      "text/plain": [
       "4"
      ]
     },
     "execution_count": 9,
     "metadata": {},
     "output_type": "execute_result"
    }
   ],
   "source": [
    "next(a)"
   ]
  },
  {
   "cell_type": "code",
   "execution_count": 10,
   "id": "491a17ff-3f35-4143-90e5-b275cae30b48",
   "metadata": {},
   "outputs": [
    {
     "data": {
      "text/plain": [
       "9"
      ]
     },
     "execution_count": 10,
     "metadata": {},
     "output_type": "execute_result"
    }
   ],
   "source": [
    "next(a)"
   ]
  },
  {
   "cell_type": "code",
   "execution_count": 12,
   "id": "894e307c-879d-4e55-a988-d81e1e39429f",
   "metadata": {},
   "outputs": [
    {
     "ename": "StopIteration",
     "evalue": "",
     "output_type": "error",
     "traceback": [
      "\u001b[1;31m---------------------------------------------------------------------------\u001b[0m",
      "\u001b[1;31mStopIteration\u001b[0m                             Traceback (most recent call last)",
      "Cell \u001b[1;32mIn[12], line 1\u001b[0m\n\u001b[1;32m----> 1\u001b[0m \u001b[38;5;28mnext\u001b[39m(a)\n",
      "\u001b[1;31mStopIteration\u001b[0m: "
     ]
    }
   ],
   "source": [
    "next(a)    #iteration is stopped."
   ]
  },
  {
   "cell_type": "code",
   "execution_count": null,
   "id": "74f1e98e-a62e-4a67-a6b0-acedab4b1a48",
   "metadata": {},
   "outputs": [],
   "source": []
  }
 ],
 "metadata": {
  "kernelspec": {
   "display_name": "Python 3 (ipykernel)",
   "language": "python",
   "name": "python3"
  },
  "language_info": {
   "codemirror_mode": {
    "name": "ipython",
    "version": 3
   },
   "file_extension": ".py",
   "mimetype": "text/x-python",
   "name": "python",
   "nbconvert_exporter": "python",
   "pygments_lexer": "ipython3",
   "version": "3.13.5"
  }
 },
 "nbformat": 4,
 "nbformat_minor": 5
}
