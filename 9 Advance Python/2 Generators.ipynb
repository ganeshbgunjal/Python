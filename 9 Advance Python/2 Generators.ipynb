{
 "cells": [
  {
   "cell_type": "markdown",
   "id": "b64a8304-5029-4034-90b7-9504b81c5a2a",
   "metadata": {},
   "source": [
    "### Generators:-"
   ]
  },
  {
   "cell_type": "markdown",
   "id": "6314b2e4-aa14-4c99-8bb5-65ee112d9d03",
   "metadata": {},
   "source": [
    "Generators are the simpler way to create Iterators. They use the yield keyword to produce a series of values lazily, which means they generate value on the fly and do not store them in the memory."
   ]
  },
  {
   "cell_type": "code",
   "execution_count": 1,
   "id": "36872849-183a-485f-83ff-1fc1d4ef208d",
   "metadata": {},
   "outputs": [],
   "source": [
    "def square(n):\n",
    "    for i in range(3):\n",
    "        return i**2"
   ]
  },
  {
   "cell_type": "code",
   "execution_count": 2,
   "id": "b280b715-5aee-4bf8-92f0-0652aba8adef",
   "metadata": {},
   "outputs": [
    {
     "data": {
      "text/plain": [
       "0"
      ]
     },
     "execution_count": 2,
     "metadata": {},
     "output_type": "execute_result"
    }
   ],
   "source": [
    "square(3)"
   ]
  },
  {
   "cell_type": "markdown",
   "id": "54053d67-f1e7-4cc5-835b-62f76c162e58",
   "metadata": {},
   "source": [
    "#### So here Generators are useful. Generators uses yeild keyword as follows:-"
   ]
  },
  {
   "cell_type": "code",
   "execution_count": 5,
   "id": "00a8fb08-ca98-49af-a618-67bf51769f83",
   "metadata": {},
   "outputs": [
    {
     "name": "stdout",
     "output_type": "stream",
     "text": [
      "0\n",
      "1\n",
      "4\n",
      "9\n"
     ]
    }
   ],
   "source": [
    "def squares(n):\n",
    "    for i in range(4):\n",
    "        yield i**2\n",
    "\n",
    "for i in squares(3):\n",
    "    print(i)"
   ]
  },
  {
   "cell_type": "markdown",
   "id": "14818f8e-ed77-4c98-8747-740181704043",
   "metadata": {},
   "source": [
    "#### Or another approach is as follow:--"
   ]
  },
  {
   "cell_type": "code",
   "execution_count": 6,
   "id": "49592392-59ed-4d8e-94a7-3e4134b81e50",
   "metadata": {},
   "outputs": [],
   "source": [
    "a=squares(4)"
   ]
  },
  {
   "cell_type": "code",
   "execution_count": 7,
   "id": "bc413003-8619-4de9-a4f8-36c55a0fef12",
   "metadata": {},
   "outputs": [
    {
     "data": {
      "text/plain": [
       "0"
      ]
     },
     "execution_count": 7,
     "metadata": {},
     "output_type": "execute_result"
    }
   ],
   "source": [
    "next(a)"
   ]
  },
  {
   "cell_type": "code",
   "execution_count": 8,
   "id": "93e64836-7213-45d4-b08c-10980c3cd38a",
   "metadata": {},
   "outputs": [
    {
     "data": {
      "text/plain": [
       "1"
      ]
     },
     "execution_count": 8,
     "metadata": {},
     "output_type": "execute_result"
    }
   ],
   "source": [
    "next(a)"
   ]
  },
  {
   "cell_type": "code",
   "execution_count": 9,
   "id": "1f003b15-d104-46b7-aa5b-a3ed9f4bda27",
   "metadata": {},
   "outputs": [
    {
     "data": {
      "text/plain": [
       "4"
      ]
     },
     "execution_count": 9,
     "metadata": {},
     "output_type": "execute_result"
    }
   ],
   "source": [
    "next(a)"
   ]
  },
  {
   "cell_type": "code",
   "execution_count": 10,
   "id": "491a17ff-3f35-4143-90e5-b275cae30b48",
   "metadata": {},
   "outputs": [
    {
     "data": {
      "text/plain": [
       "9"
      ]
     },
     "execution_count": 10,
     "metadata": {},
     "output_type": "execute_result"
    }
   ],
   "source": [
    "next(a)"
   ]
  },
  {
   "cell_type": "code",
   "execution_count": 12,
   "id": "894e307c-879d-4e55-a988-d81e1e39429f",
   "metadata": {},
   "outputs": [
    {
     "ename": "StopIteration",
     "evalue": "",
     "output_type": "error",
     "traceback": [
      "\u001b[1;31m---------------------------------------------------------------------------\u001b[0m",
      "\u001b[1;31mStopIteration\u001b[0m                             Traceback (most recent call last)",
      "Cell \u001b[1;32mIn[12], line 1\u001b[0m\n\u001b[1;32m----> 1\u001b[0m \u001b[38;5;28mnext\u001b[39m(a)\n",
      "\u001b[1;31mStopIteration\u001b[0m: "
     ]
    }
   ],
   "source": [
    "next(a)    #iteration is stopped."
   ]
  },
  {
   "cell_type": "markdown",
   "id": "ea94a618-4652-4574-bb3a-bceb7b54b921",
   "metadata": {},
   "source": [
    "#### another Important thing of generators:--"
   ]
  },
  {
   "cell_type": "code",
   "execution_count": 26,
   "id": "84b6c179-276f-4055-84fc-3bc6b1a5bf4d",
   "metadata": {},
   "outputs": [],
   "source": [
    "def my_generator():\n",
    "    yield 1\n",
    "    yield 2\n",
    "    yield 3\n",
    "    yield 4"
   ]
  },
  {
   "cell_type": "code",
   "execution_count": 27,
   "id": "3181c607-1fee-493d-8d20-716cdafcd5cd",
   "metadata": {},
   "outputs": [],
   "source": [
    "gen = my_generator()"
   ]
  },
  {
   "cell_type": "code",
   "execution_count": 15,
   "id": "6352191b-b059-4ea8-8a3c-6071fabd1a9d",
   "metadata": {},
   "outputs": [
    {
     "data": {
      "text/plain": [
       "1"
      ]
     },
     "execution_count": 15,
     "metadata": {},
     "output_type": "execute_result"
    }
   ],
   "source": [
    "next(gen)"
   ]
  },
  {
   "cell_type": "code",
   "execution_count": 16,
   "id": "cda5de70-129c-4457-b9cb-17a336882e9d",
   "metadata": {},
   "outputs": [
    {
     "data": {
      "text/plain": [
       "2"
      ]
     },
     "execution_count": 16,
     "metadata": {},
     "output_type": "execute_result"
    }
   ],
   "source": [
    "next(gen)"
   ]
  },
  {
   "cell_type": "code",
   "execution_count": 17,
   "id": "db96aca3-76a4-4ba3-b6da-c5933333842c",
   "metadata": {},
   "outputs": [
    {
     "data": {
      "text/plain": [
       "3"
      ]
     },
     "execution_count": 17,
     "metadata": {},
     "output_type": "execute_result"
    }
   ],
   "source": [
    "next(gen)"
   ]
  },
  {
   "cell_type": "code",
   "execution_count": 18,
   "id": "d22c0a62-e5e7-4f92-8058-444a9a6e5b62",
   "metadata": {},
   "outputs": [
    {
     "data": {
      "text/plain": [
       "4"
      ]
     },
     "execution_count": 18,
     "metadata": {},
     "output_type": "execute_result"
    }
   ],
   "source": [
    "next(gen)"
   ]
  },
  {
   "cell_type": "code",
   "execution_count": 20,
   "id": "10bc6feb-aa01-42d1-b994-b54dfd508575",
   "metadata": {},
   "outputs": [
    {
     "ename": "StopIteration",
     "evalue": "",
     "output_type": "error",
     "traceback": [
      "\u001b[1;31m---------------------------------------------------------------------------\u001b[0m",
      "\u001b[1;31mStopIteration\u001b[0m                             Traceback (most recent call last)",
      "Cell \u001b[1;32mIn[20], line 1\u001b[0m\n\u001b[1;32m----> 1\u001b[0m \u001b[38;5;28mnext\u001b[39m(gen)\n",
      "\u001b[1;31mStopIteration\u001b[0m: "
     ]
    }
   ],
   "source": [
    "next(gen)    #iteration stops here."
   ]
  },
  {
   "cell_type": "code",
   "execution_count": 28,
   "id": "13ef34ce-fc5e-463e-9155-556179ba82af",
   "metadata": {},
   "outputs": [
    {
     "name": "stdout",
     "output_type": "stream",
     "text": [
      "1\n",
      "2\n",
      "3\n",
      "4\n"
     ]
    }
   ],
   "source": [
    "for val in gen:\n",
    "    print(val)        #here iteation was stopped. we execute above code again and direct executed this code after object creation.."
   ]
  },
  {
   "cell_type": "markdown",
   "id": "7829f02c-7758-4146-8e65-94ff96bf263c",
   "metadata": {},
   "source": [
    "#### Practical Example: Reading large files\n",
    "Generators are generally useful for reading large files because they allow you to process one line at a time wihtout loading all the file in the memory."
   ]
  },
  {
   "cell_type": "code",
   "execution_count": 29,
   "id": "45a1c5ec-65f7-4310-aa59-323273431da7",
   "metadata": {},
   "outputs": [],
   "source": [
    "def read_large_file(file_path):\n",
    "    with open(file_path,'r') as file:\n",
    "        for line in file:\n",
    "            yield line"
   ]
  },
  {
   "cell_type": "code",
   "execution_count": 33,
   "id": "b12b4d26-d65f-4af6-8014-cc61407fafc0",
   "metadata": {},
   "outputs": [
    {
     "name": "stdout",
     "output_type": "stream",
     "text": [
      "Generators in Python are special functions that allow you to create lazy iterators.\n",
      "Instead of returning all results at once, they use the yield keyword to produce values\n",
      "one at a time when requested. This makes them memory-efficient, especially when dealing\n",
      "with large datasets or files. A common use case is reading big files line by line, where\n",
      "a normal list would consume too much RAM. Generators start execution where they last\n",
      "left off, meaning no recalculations are needed for already-yielded items. They are also\n",
      "faster to start, because they donâ€™t have to build a full data structure upfront.\n",
      "Generator expressions, similar to list comprehensions but with parentheses, provide\n",
      "a quick way to create generators. Many built-in Python functions like range() and\n",
      "zip() are implemented as generators internally. In short, generators give you\n",
      "an elegant, Pythonic way to handle large or infinite sequences without wasting memory.\n"
     ]
    }
   ],
   "source": [
    "file_path = 'large_file.txt'\n",
    "for line in read_large_file(file_path):\n",
    "    print(line.strip())     #strip() removes the extra spaces."
   ]
  },
  {
   "cell_type": "code",
   "execution_count": null,
   "id": "950c1c44-2a7f-46d8-9b1f-3fafe424b41f",
   "metadata": {},
   "outputs": [],
   "source": []
  }
 ],
 "metadata": {
  "kernelspec": {
   "display_name": "Python 3 (ipykernel)",
   "language": "python",
   "name": "python3"
  },
  "language_info": {
   "codemirror_mode": {
    "name": "ipython",
    "version": 3
   },
   "file_extension": ".py",
   "mimetype": "text/x-python",
   "name": "python",
   "nbconvert_exporter": "python",
   "pygments_lexer": "ipython3",
   "version": "3.13.5"
  }
 },
 "nbformat": 4,
 "nbformat_minor": 5
}
