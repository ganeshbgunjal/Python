{
 "cells": [
  {
   "cell_type": "markdown",
   "id": "f8fd8960-3893-4b23-b976-6c038c0a67ef",
   "metadata": {},
   "source": [
    "#### You can create multiple loggers for different parts of your applications:--"
   ]
  },
  {
   "cell_type": "code",
   "execution_count": 1,
   "id": "2490a941-892f-45c4-a741-830ca46f9d1a",
   "metadata": {},
   "outputs": [],
   "source": [
    "import logging"
   ]
  },
  {
   "cell_type": "markdown",
   "id": "a01a5b66-dd72-489e-83e7-0b0f41f55e25",
   "metadata": {},
   "source": [
    "#### Create logger for module1:"
   ]
  },
  {
   "cell_type": "code",
   "execution_count": 2,
   "id": "768c9178-d480-44e7-bfee-d9f0b1c24dee",
   "metadata": {},
   "outputs": [],
   "source": [
    "logger1 = logging.getLogger('Module 1')\n",
    "logger1.setLevel(logging.DEBUG)"
   ]
  },
  {
   "cell_type": "markdown",
   "id": "b6f90b53-4baf-4e8e-afb4-aa1f6f5bfb5a",
   "metadata": {},
   "source": [
    "#### Create logger for module2:-"
   ]
  },
  {
   "cell_type": "code",
   "execution_count": 4,
   "id": "02a41ee1-ae9d-463f-84cf-e2d6a6e2328e",
   "metadata": {},
   "outputs": [],
   "source": [
    "logger2 = logging.getLogger('Module 2')\n",
    "logger2.setLevel(logging.WARNING)\n",
    "\n",
    "logger = logging.getLogger()\n",
    "for handler in logger.handlers[:]:\n",
    "    logger.removeHandler(handler)\n",
    "\n",
    "# Configue logging settings:    \n",
    "logging.basicConfig(\n",
    "    level=logging.DEBUG,\n",
    "    format = '%(asctime)s-%(name)s-%(levelname)s-%(message)s',    \n",
    "    datefmt = '%Y-%m-%d %H-%M-%S'\n",
    ")"
   ]
  },
  {
   "cell_type": "markdown",
   "id": "e0ca8739-061f-41ae-9d86-ef8e5c818b99",
   "metadata": {},
   "source": [
    "#### Log messages with diffferent messages"
   ]
  },
  {
   "cell_type": "code",
   "execution_count": 5,
   "id": "269ce4f1-7902-42ac-9e91-23f037b951d7",
   "metadata": {},
   "outputs": [
    {
     "name": "stderr",
     "output_type": "stream",
     "text": [
      "2025-08-22 09-58-12-Module 1-DEBUG-This is debug message for module 1\n",
      "2025-08-22 09-58-12-Module 1-WARNING-This is warning message for module 2\n",
      "2025-08-22 09-58-12-Module 1-ERROR-This is warning error for module 2\n"
     ]
    }
   ],
   "source": [
    "logger1.debug('This is debug message for module 1')\n",
    "logger1.warning('This is warning message for module 2')\n",
    "logger1.error('This is warning error for module 2')"
   ]
  },
  {
   "cell_type": "code",
   "execution_count": null,
   "id": "ee8b820a-74a2-465d-9a3b-c98434680df9",
   "metadata": {},
   "outputs": [],
   "source": []
  }
 ],
 "metadata": {
  "kernelspec": {
   "display_name": "Python 3 (ipykernel)",
   "language": "python",
   "name": "python3"
  },
  "language_info": {
   "codemirror_mode": {
    "name": "ipython",
    "version": 3
   },
   "file_extension": ".py",
   "mimetype": "text/x-python",
   "name": "python",
   "nbconvert_exporter": "python",
   "pygments_lexer": "ipython3",
   "version": "3.13.5"
  }
 },
 "nbformat": 4,
 "nbformat_minor": 5
}
