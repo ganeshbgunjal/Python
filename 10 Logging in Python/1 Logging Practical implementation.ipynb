{
 "cells": [
  {
   "cell_type": "markdown",
   "id": "668dd770-ba22-46e6-b4d9-6728d957c144",
   "metadata": {},
   "source": [
    "### Logging:"
   ]
  },
  {
   "cell_type": "markdown",
   "id": "53b6b40e-d162-4b26-ac40-22e47139f196",
   "metadata": {},
   "source": [
    "**Logging** is a crucial option of a any application, providing a way to track events, errors and operational information. Python's built in logging module offers a flexible framework for emmiting log messages from python program. "
   ]
  },
  {
   "cell_type": "code",
   "execution_count": 1,
   "id": "c61cdd74-dd3e-47f1-a8c6-f24956a9dd9b",
   "metadata": {},
   "outputs": [],
   "source": [
    "# import logging"
   ]
  },
  {
   "cell_type": "markdown",
   "id": "75e9b390-8c22-4776-b8dd-adac8903a990",
   "metadata": {},
   "source": [
    "#### Confiure the basic logging setting:- "
   ]
  },
  {
   "cell_type": "code",
   "execution_count": 2,
   "id": "9ee83646-345f-4174-894a-0b0b5d74b8ca",
   "metadata": {},
   "outputs": [],
   "source": [
    "# logging.basicConfig(level=logging.DEBUG,format=\"%(levelname)s: %(message)s\")"
   ]
  },
  {
   "cell_type": "markdown",
   "id": "eccd21d7-f967-479b-95bb-ff21854e1c0c",
   "metadata": {},
   "source": [
    "#### Log messages with severity levels:-"
   ]
  },
  {
   "cell_type": "code",
   "execution_count": 3,
   "id": "7357ad68-bb50-443a-9320-b720c47e9290",
   "metadata": {},
   "outputs": [],
   "source": [
    "# logging.debug('This is a debug message')\n",
    "# logging.info('This is a info message')\n",
    "# logging.debug('This is a debug message')\n",
    "# logging.error('This is a error message')\n",
    "# logging.critical('This is a critical  message')"
   ]
  },
  {
   "cell_type": "markdown",
   "id": "0a60562e-741a-496b-8839-f45dbd061176",
   "metadata": {},
   "source": [
    "#### This code is not part of the course. done from chatgpt:"
   ]
  },
  {
   "cell_type": "code",
   "execution_count": 4,
   "id": "5b22f511-87f4-4eb4-ad5d-dcb4b14046f5",
   "metadata": {},
   "outputs": [
    {
     "name": "stderr",
     "output_type": "stream",
     "text": [
      "2025-08-22 08:35:13,028 - DEBUG - This is a debug message\n",
      "2025-08-22 08:35:13,030 - INFO - This is an info message\n",
      "2025-08-22 08:35:13,032 - WARNING - This is a warning message\n",
      "2025-08-22 08:35:13,036 - ERROR - This is an error message\n",
      "2025-08-22 08:35:13,037 - CRITICAL - This is a critical message\n"
     ]
    }
   ],
   "source": [
    "import logging\n",
    "\n",
    "# Configure logging with date & time\n",
    "logging.basicConfig(\n",
    "    level=logging.DEBUG,\n",
    "    format=\"%(asctime)s - %(levelname)s - %(message)s\"\n",
    ")\n",
    "\n",
    "logging.debug('This is a debug message')\n",
    "logging.info('This is an info message')\n",
    "logging.warning('This is a warning message')\n",
    "logging.error('This is an error message')\n",
    "logging.critical('This is a critical message')\n"
   ]
  },
  {
   "cell_type": "markdown",
   "id": "66d1e928-5461-43ac-a881-21f0b14a27d1",
   "metadata": {},
   "source": [
    "### Log Levels:\n",
    "#### The python module has several log levels indicating the severity of events. The modules are:\n",
    "1. DEBUG: Detailed information, typically of interest only when diagnosing problem.\n",
    "2. INFO: Confirmation that things are working a expected.\n",
    "3. WARNING: This indicates that something unexpected happened or indicative of some problems near in the future(e.g.: low disk space). The software is still working fine.\n",
    "4. ERROR: Due to a more serious problem. the software has not been able to perform some fucntion.\n",
    "5. CRITICAL: A very serious error, indicating that the program itself maybe unable to continue running."
   ]
  },
  {
   "cell_type": "markdown",
   "id": "2565f1b9-973a-42f4-8c5d-55acb2544fb7",
   "metadata": {},
   "source": [
    "### Configuring logging:"
   ]
  },
  {
   "cell_type": "code",
   "execution_count": 5,
   "id": "26023186-c2e4-431e-b267-245ee99a6770",
   "metadata": {},
   "outputs": [],
   "source": [
    "logging.basicConfig(\n",
    "    level=logging.debug,\n",
    "    format = '%(asctime)s-%(name)s-%(levelname)s-%(message)s',    \n",
    "    datefmt = '%Y-%m-%d %H-%M-%S'\n",
    ")\n",
    "\n",
    "#Different severity levels:--\n",
    "logging.debug('This is a debug message')\n",
    "logging.info('This is an info message')\n",
    "logging.warning('This is a warning message')\n",
    "logging.error('This is an error message')\n",
    "logging.critical('This is a critical message')"
   ]
  },
  {
   "cell_type": "code",
   "execution_count": null,
   "id": "fe61b84f-009f-4b56-9bd4-fc4d1c123823",
   "metadata": {},
   "outputs": [],
   "source": []
  }
 ],
 "metadata": {
  "kernelspec": {
   "display_name": "Python 3 (ipykernel)",
   "language": "python",
   "name": "python3"
  },
  "language_info": {
   "codemirror_mode": {
    "name": "ipython",
    "version": 3
   },
   "file_extension": ".py",
   "mimetype": "text/x-python",
   "name": "python",
   "nbconvert_exporter": "python",
   "pygments_lexer": "ipython3",
   "version": "3.13.5"
  }
 },
 "nbformat": 4,
 "nbformat_minor": 5
}
