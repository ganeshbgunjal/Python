{
 "cells": [
  {
   "cell_type": "markdown",
   "id": "e5d62b36-8925-40e4-a5d7-0ab631088ac4",
   "metadata": {},
   "source": [
    "### Logging with real example:-"
   ]
  },
  {
   "cell_type": "code",
   "execution_count": 1,
   "id": "e85d2aae-a5c5-4970-8c94-888881b31606",
   "metadata": {},
   "outputs": [],
   "source": [
    "import logging"
   ]
  },
  {
   "cell_type": "markdown",
   "id": "ed668a4e-9e07-4cc3-b095-d347c590f33b",
   "metadata": {},
   "source": [
    "#### Basic logging settings:"
   ]
  },
  {
   "cell_type": "code",
   "execution_count": 5,
   "id": "35b75f37-d9f6-43eb-917c-59cbf9965320",
   "metadata": {},
   "outputs": [
    {
     "name": "stderr",
     "output_type": "stream",
     "text": [
      "2025-08-22 15-41-55-ArithmaticApp-DEBUG-Adding 20 + 15 = 35\n",
      "2025-08-22 15-41-55-ArithmaticApp-DEBUG-Substracting 20 - 10 = 10\n",
      "2025-08-22 15-41-55-ArithmaticApp-DEBUG-Multiplying 15 * 10 = 150\n",
      "2025-08-22 15-41-55-ArithmaticApp-DEBUG-Dividing 20 / 10 = 2.0\n"
     ]
    },
    {
     "data": {
      "text/plain": [
       "2.0"
      ]
     },
     "execution_count": 5,
     "metadata": {},
     "output_type": "execute_result"
    }
   ],
   "source": [
    "logging.basicConfig(\n",
    "    level=logging.DEBUG,\n",
    "    format = '%(asctime)s-%(name)s-%(levelname)s-%(message)s',    \n",
    "    datefmt = '%Y-%m-%d %H-%M-%S',\n",
    "    handlers = [\n",
    "        logging.FileHandler('app1.log',mode='w'),\n",
    "        logging.StreamHandler()  #StreamHandler() is used when you want your logs to appear on the \n",
    "                                    #console instead of (or in addition to) being saved in a file.\n",
    "    ]\n",
    ")\n",
    "\n",
    "logger = logging.getLogger('ArithmaticApp')\n",
    "\n",
    "def add(a,b):\n",
    "    result = a+b\n",
    "    logger.debug(f'Adding {a} + {b} = {result}')\n",
    "    return result\n",
    "\n",
    "def sub(a,b):\n",
    "    result = a-b\n",
    "    logger.debug(f'Substracting {a} - {b} = {result}')\n",
    "    return result\n",
    "\n",
    "def multiply(a,b):\n",
    "    result = a*b\n",
    "    logger.debug(f'Multiplying {a} * {b} = {result}')\n",
    "    return result\n",
    "\n",
    "def divide(a,b):\n",
    "    try: \n",
    "        result = a/b\n",
    "        logger.debug(f'Dividing {a} / {b} = {result}')\n",
    "        return result\n",
    "    except ZeroDivisionError:\n",
    "        logger.error('Division by zero Error!')\n",
    "        return None\n",
    "\n",
    "add(20,15)\n",
    "sub(20,10)\n",
    "multiply(15,10)\n",
    "divide(20,10)"
   ]
  },
  {
   "cell_type": "code",
   "execution_count": null,
   "id": "98b4152d-f31a-4acd-b810-61d5a2cf9381",
   "metadata": {},
   "outputs": [],
   "source": []
  }
 ],
 "metadata": {
  "kernelspec": {
   "display_name": "Python 3 (ipykernel)",
   "language": "python",
   "name": "python3"
  },
  "language_info": {
   "codemirror_mode": {
    "name": "ipython",
    "version": 3
   },
   "file_extension": ".py",
   "mimetype": "text/x-python",
   "name": "python",
   "nbconvert_exporter": "python",
   "pygments_lexer": "ipython3",
   "version": "3.13.5"
  }
 },
 "nbformat": 4,
 "nbformat_minor": 5
}
