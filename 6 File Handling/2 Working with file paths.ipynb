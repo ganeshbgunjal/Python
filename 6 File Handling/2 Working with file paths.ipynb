{
 "cells": [
  {
   "cell_type": "markdown",
   "id": "66c90b8c-db28-4b27-b3ca-6cd45d67552e",
   "metadata": {},
   "source": [
    "### Working with the file paths:"
   ]
  },
  {
   "cell_type": "code",
   "execution_count": 1,
   "id": "f4bbdc6f-6db7-4936-9530-a3b2d6bfa4d6",
   "metadata": {},
   "outputs": [],
   "source": [
    "import os"
   ]
  },
  {
   "cell_type": "code",
   "execution_count": 2,
   "id": "6f6eb011-41a2-464d-b481-88ff50df577c",
   "metadata": {},
   "outputs": [
    {
     "ename": "FileExistsError",
     "evalue": "[WinError 183] Cannot create a file when that file already exists: 'package'",
     "output_type": "error",
     "traceback": [
      "\u001b[1;31m---------------------------------------------------------------------------\u001b[0m",
      "\u001b[1;31mFileExistsError\u001b[0m                           Traceback (most recent call last)",
      "Cell \u001b[1;32mIn[2], line 2\u001b[0m\n\u001b[0;32m      1\u001b[0m new_directory \u001b[38;5;241m=\u001b[39m \u001b[38;5;124m'\u001b[39m\u001b[38;5;124mpackage\u001b[39m\u001b[38;5;124m'\u001b[39m\n\u001b[1;32m----> 2\u001b[0m os\u001b[38;5;241m.\u001b[39mmkdir(new_directory)\n\u001b[0;32m      3\u001b[0m \u001b[38;5;28mprint\u001b[39m(\u001b[38;5;124mf\u001b[39m\u001b[38;5;124m'\u001b[39m\u001b[38;5;124mNew directory \u001b[39m\u001b[38;5;132;01m{\u001b[39;00mnew_directory\u001b[38;5;132;01m}\u001b[39;00m\u001b[38;5;124m is created\u001b[39m\u001b[38;5;124m'\u001b[39m)\n",
      "\u001b[1;31mFileExistsError\u001b[0m: [WinError 183] Cannot create a file when that file already exists: 'package'"
     ]
    }
   ],
   "source": [
    "new_directory = 'package'\n",
    "os.mkdir(new_directory)\n",
    "print(f'New directory {new_directory} is created')"
   ]
  },
  {
   "cell_type": "code",
   "execution_count": null,
   "id": "2924e8db-b241-40d3-acbe-0de840404eda",
   "metadata": {},
   "outputs": [],
   "source": [
    "os.getcwd()"
   ]
  },
  {
   "cell_type": "markdown",
   "id": "3b467b92-893e-491c-9f06-a74d73c977aa",
   "metadata": {},
   "source": [
    "#### Listing all the file and directories:\n"
   ]
  },
  {
   "cell_type": "code",
   "execution_count": null,
   "id": "1c1bf7b3-7823-41be-bbad-9d486cc0ae05",
   "metadata": {},
   "outputs": [],
   "source": [
    "items = os.listdir('.')    # this '.' means we are looking for current working directory.\n",
    "print(items)"
   ]
  },
  {
   "cell_type": "markdown",
   "id": "57b2191b-c61f-4c13-b63d-4d7158c79862",
   "metadata": {},
   "source": [
    "#### Joining Paths:"
   ]
  },
  {
   "cell_type": "code",
   "execution_count": null,
   "id": "c1917d89-9a8b-4092-b524-1680b0fdec39",
   "metadata": {},
   "outputs": [],
   "source": [
    "dir_name = 'folder'\n",
    "file_name = 'file.txt'\n",
    "full_path = os.path.join(os.getcwd(),dir_name,file_name)\n",
    "print(full_path)"
   ]
  },
  {
   "cell_type": "markdown",
   "id": "582f18ba-eb06-4ae1-9077-76facd5d5d35",
   "metadata": {},
   "source": [
    "only creates the path string — it does not actually create the folder or the file. You have to create them manually in code."
   ]
  },
  {
   "cell_type": "code",
   "execution_count": null,
   "id": "22154cd9-1568-4f2c-bc4d-2f4497063a88",
   "metadata": {},
   "outputs": [],
   "source": [
    "dir_name = 'folder'\n",
    "file_name = 'file.txt'\n",
    "full_path = os.path.join(dir_name,file_name)\n",
    "print(full_path)\n",
    "\n",
    "# Step 1: Create folder if it doesn't exist\n",
    "\n",
    "if not os.path.exists(dir_name):\n",
    "    os.mkdir(dir_name)    #create folder\n",
    "\n",
    "# Step 2: Create the file and write something\n",
    "\n",
    "with open(full_path,'w') as file:\n",
    "    file.write('Hello Ganesh. this is for learning folde creation in directory by joining paths')\n",
    "\n",
    "print(f'File created at: {full_path}')\n",
    "\n",
    "#setp 3 reading content from file:\n",
    "with open(full_path,'r') as file:\n",
    "    data = file.read()\n",
    "    print(data)\n",
    "    "
   ]
  },
  {
   "cell_type": "code",
   "execution_count": 3,
   "id": "ab04db23-b430-492e-b0e8-e03788408b6e",
   "metadata": {},
   "outputs": [
    {
     "name": "stdout",
     "output_type": "stream",
     "text": [
      "The path \"example1.txt\" does not exists\n"
     ]
    }
   ],
   "source": [
    "path = 'example1.txt'\n",
    "if os.path.exists(path):\n",
    "    print(f'The path \"{path}\" exists')\n",
    "else:\n",
    "    print(f'The path \"{path}\" does not exists')"
   ]
  },
  {
   "cell_type": "markdown",
   "id": "3a47911d-b2f2-4b0d-8862-348e8c1bbd0e",
   "metadata": {},
   "source": [
    "#### Checking if path is a file or directory:"
   ]
  },
  {
   "cell_type": "code",
   "execution_count": 6,
   "id": "546fb00b-1114-424e-b53a-187ae086b8e9",
   "metadata": {},
   "outputs": [
    {
     "name": "stdout",
     "output_type": "stream",
     "text": [
      "The path is neither file nor directory\n"
     ]
    }
   ],
   "source": [
    "path = 'example2.txt'    #file is not present. so it will go to else block.\n",
    "if os.path.isfile(path):\n",
    "    print(f'Given path \"{path}\" is a file')\n",
    "elif os.path.isdir(path):\n",
    "    print(f'Given path \"{path}\" is a directory')\n",
    "else:\n",
    "    print(f'The path is neither file nor directory')\n"
   ]
  },
  {
   "cell_type": "code",
   "execution_count": 7,
   "id": "76bc0da1-6371-427d-81f3-23be2dc1cedb",
   "metadata": {},
   "outputs": [
    {
     "name": "stdout",
     "output_type": "stream",
     "text": [
      "Given path \"example.txt\" is a file\n"
     ]
    }
   ],
   "source": [
    "path = 'example.txt'    #file is present, so it will show its a file.\n",
    "if os.path.isfile(path):\n",
    "    print(f'Given path \"{path}\" is a file')\n",
    "elif os.path.isdir(path):\n",
    "    print(f'Given path \"{path}\" is a directory')\n",
    "else:\n",
    "    print(f'The path is neither file nor directory')\n"
   ]
  },
  {
   "cell_type": "markdown",
   "id": "6643f3a4-1a1b-4afb-8eca-14086a22c2f4",
   "metadata": {},
   "source": [
    "#### Getting the absolute path(full path):"
   ]
  },
  {
   "cell_type": "code",
   "execution_count": 8,
   "id": "94a25f3d-00db-47e4-a7c4-ce574a55e45a",
   "metadata": {},
   "outputs": [
    {
     "name": "stdout",
     "output_type": "stream",
     "text": [
      "D:\\2. Udemy Course\\1 Python\\1 Python\\6 File Handling\\example.txt\n"
     ]
    }
   ],
   "source": [
    "relative_path = 'example.txt'\n",
    "absolute_path = os.path.abspath(relative_path)\n",
    "print(absolute_path)"
   ]
  },
  {
   "cell_type": "code",
   "execution_count": null,
   "id": "bd89a15e-b2b2-4119-a20c-a3f554f60448",
   "metadata": {},
   "outputs": [],
   "source": []
  }
 ],
 "metadata": {
  "kernelspec": {
   "display_name": "Python 3 (ipykernel)",
   "language": "python",
   "name": "python3"
  },
  "language_info": {
   "codemirror_mode": {
    "name": "ipython",
    "version": 3
   },
   "file_extension": ".py",
   "mimetype": "text/x-python",
   "name": "python",
   "nbconvert_exporter": "python",
   "pygments_lexer": "ipython3",
   "version": "3.13.5"
  }
 },
 "nbformat": 4,
 "nbformat_minor": 5
}
