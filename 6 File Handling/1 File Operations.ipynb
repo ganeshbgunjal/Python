{
 "cells": [
  {
   "cell_type": "markdown",
   "id": "7c508ec0-b15c-4250-bfb8-da86edd54a0c",
   "metadata": {},
   "source": [
    "### File Operations:-- Read and Write files.\n",
    "File handling is a crucial part of programming languages. Python provies built-in functions and methods to read from and write to files, both text and binary. "
   ]
  },
  {
   "cell_type": "markdown",
   "id": "661dd2ad-8b4a-43bd-8e31-b2244d2aa227",
   "metadata": {},
   "source": [
    "#### Read a whole File:"
   ]
  },
  {
   "cell_type": "code",
   "execution_count": 1,
   "id": "560b30c7-bbc2-4910-bf3d-4054032cb70e",
   "metadata": {},
   "outputs": [
    {
     "name": "stdout",
     "output_type": "stream",
     "text": [
      "Hello Python!\n",
      "This course for data science and machine learning.this is nexe line for append mode.\n",
      "this is to understand the append and write mode.\n",
      "this is next line for append mode.\n",
      "this is to understand the append and write mode.first line\n",
      "second line\n",
      "third line\n",
      "fourth line\n",
      "\n",
      "first line\n",
      "second line\n",
      "third line\n",
      "fourth line\n",
      "\n"
     ]
    }
   ],
   "source": [
    "with open('example.txt','r') as file:\n",
    "    data = file.read()\n",
    "    print(data)     #we write data manually in txt file and only fetched here."
   ]
  },
  {
   "cell_type": "code",
   "execution_count": 2,
   "id": "3bf47bea-355d-45c4-a296-1a47214ae8f8",
   "metadata": {},
   "outputs": [
    {
     "name": "stdout",
     "output_type": "stream",
     "text": [
      "Hello Python!\n",
      "This course for data science and machine learning.this is nexe line for append mode.\n",
      "this is to understand the append and write mode.\n",
      "this is next line for append mode.\n",
      "this is to understand the append and write mode.first line\n",
      "second line\n",
      "third line\n",
      "fourth line\n",
      "\n",
      "first line\n",
      "second line\n",
      "third line\n",
      "fourth line\n"
     ]
    }
   ],
   "source": [
    "with open('example.txt','r') as file:\n",
    "    for line in file:\n",
    "        print(line.strip())   # .strip() function removes new line characters.\n",
    "    "
   ]
  },
  {
   "cell_type": "markdown",
   "id": "f359c551-e9a9-4e14-b44e-b146a165452d",
   "metadata": {},
   "source": [
    "#### writing a file(overwiting): previous data will be ovewritten."
   ]
  },
  {
   "cell_type": "code",
   "execution_count": 3,
   "id": "0e267c91-1ad4-4b1f-812f-afbcb1e71e80",
   "metadata": {},
   "outputs": [],
   "source": [
    "with open('example.txt','w') as file:\n",
    "    file.write('Hello Python!\\n')\n",
    "    file.write('This course for data science and machine learning.')\n",
    "\n",
    "#whole data replace with these 2 lines. so dont use w mode like this. "
   ]
  },
  {
   "cell_type": "markdown",
   "id": "5e6b7502-5702-4fb9-92a9-9d9bc63fe97d",
   "metadata": {},
   "source": [
    "#### Write a file without overwriting:"
   ]
  },
  {
   "cell_type": "code",
   "execution_count": 4,
   "id": "f5336b4d-b4c4-43cf-8690-00a633d54f4a",
   "metadata": {},
   "outputs": [],
   "source": [
    "with open('example.txt','a') as file:\n",
    "    file.write('\\nthis is next line for append mode.\\n')\n",
    "    file.write('this is to understand the append and write mode.')"
   ]
  },
  {
   "cell_type": "code",
   "execution_count": 5,
   "id": "9fd954d2-806c-4fa1-9ef7-68bf5594d3d3",
   "metadata": {},
   "outputs": [],
   "source": [
    "lines = ['\\nfirst line\\n','second line\\n','third line\\n','fourth line\\n']\n",
    "with open('example.txt','a') as file:\n",
    "    file.writelines(lines)"
   ]
  },
  {
   "cell_type": "markdown",
   "id": "3f7e8b34-5167-4cf2-b36e-f034c684f8b6",
   "metadata": {},
   "source": [
    "### Binary files:"
   ]
  },
  {
   "cell_type": "code",
   "execution_count": 8,
   "id": "fac6b8dd-d5ba-4417-9ac0-de450e8f93da",
   "metadata": {},
   "outputs": [],
   "source": [
    "import pickle \n",
    "\n",
    "data = {'id':1,'name':'ganesh','city':'pune'}\n",
    "\n",
    "#convert to binary\n",
    "binary_data = pickle.dumps(data)\n",
    "\n",
    "\n",
    "#write to binary file\n",
    "with open('example.bin','wb') as file:\n",
    "    file.write(binary_data)"
   ]
  },
  {
   "cell_type": "code",
   "execution_count": 10,
   "id": "f54d6fc2-959b-4bda-96d9-6a6e63ba1378",
   "metadata": {},
   "outputs": [
    {
     "name": "stdout",
     "output_type": "stream",
     "text": [
      "{'id': 1, 'name': 'ganesh', 'city': 'pune'}\n"
     ]
    }
   ],
   "source": [
    "with open('example.bin','rb') as file:\n",
    "    data = pickle.load(file)\n",
    "    print(data)"
   ]
  },
  {
   "cell_type": "markdown",
   "id": "4081eae2-8f98-41a3-a4f4-78c3798e0ca7",
   "metadata": {},
   "source": [
    "#### Read the content from the source file and write it to the destination file:"
   ]
  },
  {
   "cell_type": "code",
   "execution_count": 11,
   "id": "82eff23b-f510-4305-a385-e6a4960a94e6",
   "metadata": {},
   "outputs": [],
   "source": [
    "with open('example.txt','r') as source_file:\n",
    "    data = source_file.read()\n",
    "\n",
    "with open('destination.txt','w') as destination_file:\n",
    "    destination_file.write(data)"
   ]
  },
  {
   "cell_type": "markdown",
   "id": "ca38a557-760e-42c5-a320-f50d3e4ab7a7",
   "metadata": {},
   "source": [
    "**check destination file. data is copied from source file to destinatin file.**"
   ]
  },
  {
   "cell_type": "markdown",
   "id": "e3dc21b3-d6e0-4057-a0ce-3179142ad0da",
   "metadata": {},
   "source": [
    "#### Read the text file and count the lines, words, and characters:"
   ]
  },
  {
   "cell_type": "code",
   "execution_count": 13,
   "id": "e7eb420a-4a31-4385-81a2-57e94dafba72",
   "metadata": {},
   "outputs": [
    {
     "name": "stdout",
     "output_type": "stream",
     "text": [
      "Lines: 8\n",
      "Words: 34\n",
      "Characters: 195\n"
     ]
    }
   ],
   "source": [
    "lines = 0\n",
    "words = 0\n",
    "characters = 0\n",
    "\n",
    "with open('example.txt','r') as file:\n",
    "    for line in file:\n",
    "        lines = lines+1\n",
    "        words = words+len(line.split())\n",
    "        characters = characters+len(line)\n",
    "\n",
    "print(f'Lines: {lines}')\n",
    "print(f'Words: {words}')\n",
    "print(f'Characters: {characters}')\n",
    "\n",
    "   "
   ]
  },
  {
   "cell_type": "markdown",
   "id": "28235438-9b2b-4278-8005-9340b0d48dd6",
   "metadata": {},
   "source": [
    "#### Writing and then reading file:"
   ]
  },
  {
   "cell_type": "markdown",
   "id": "9a85450b-3b6d-484e-9f34-c9ce374a4b50",
   "metadata": {},
   "source": [
    "W+ mode is is used to open a file for both reading and writing. if the file does not exists, it will be created. If the file exists, data is truncated.(ie. file is overwritten)"
   ]
  },
  {
   "cell_type": "code",
   "execution_count": 16,
   "id": "b8f5e185-02d3-481b-b802-bf71ddd8f30f",
   "metadata": {},
   "outputs": [
    {
     "name": "stdout",
     "output_type": "stream",
     "text": [
      "Hello pyton world!\n",
      "This is for learning of w+ mode.\n",
      "It will delete previous data as written above and will add these lines in the file.\n"
     ]
    }
   ],
   "source": [
    "with open('example.txt','w+') as file:\n",
    "    file.write('Hello pyton world!\\n')\n",
    "    file.write('This is for learning of w+ mode.\\n')\n",
    "    file.write('It will delete previous data as written above and will add these lines in the file.')\n",
    "\n",
    "    # move the cursor at the beginning. now its at the end now.\n",
    "    file.seek(0)\n",
    "\n",
    "    #reading data from the file\n",
    "    data = file.read()\n",
    "    print(data)"
   ]
  },
  {
   "cell_type": "code",
   "execution_count": null,
   "id": "d1ccd5e7-bb5f-41a8-ad68-c1566ef3de28",
   "metadata": {},
   "outputs": [],
   "source": []
  }
 ],
 "metadata": {
  "kernelspec": {
   "display_name": "Python 3 (ipykernel)",
   "language": "python",
   "name": "python3"
  },
  "language_info": {
   "codemirror_mode": {
    "name": "ipython",
    "version": 3
   },
   "file_extension": ".py",
   "mimetype": "text/x-python",
   "name": "python",
   "nbconvert_exporter": "python",
   "pygments_lexer": "ipython3",
   "version": "3.13.5"
  }
 },
 "nbformat": 4,
 "nbformat_minor": 5
}
