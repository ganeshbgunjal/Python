{
 "cells": [
  {
   "cell_type": "markdown",
   "id": "49144b99-426b-4841-977f-2b3305fc84e6",
   "metadata": {},
   "source": [
    "### Exception Handling with Try Except Else and Finally:"
   ]
  },
  {
   "cell_type": "markdown",
   "id": "8f6e66ff-d0f2-4e6b-9fa1-6678fe0f2089",
   "metadata": {},
   "source": [
    "Exception handling allows you to handle errrors vey gracefully. It takes necessory action without stopping the program execution.   \n",
    "Exception handling includes Try, Except, Else, Finally blocks."
   ]
  },
  {
   "cell_type": "markdown",
   "id": "8af8fc49-def9-4eb8-83a9-35f4ba18e7fa",
   "metadata": {},
   "source": [
    "#### What are exceptions?\n",
    "exceptions are the events that distrupts the normal flow of the program. they occures when error is encountered during the program execution. "
   ]
  },
  {
   "cell_type": "markdown",
   "id": "9f12d64d-dcc3-49c2-b8c3-6c2af6511701",
   "metadata": {},
   "source": [
    "#### Some of the execeptions are as follows:\n",
    "1. ZeZeroDivisionError\t\n",
    "2. FileNotFoundError\t\n",
    "3. ValueError\n",
    "4. TypeError\n",
    "5. IndexError"
   ]
  },
  {
   "cell_type": "code",
   "execution_count": 1,
   "id": "736e2907-1bd4-4452-a881-6a48c0d11daf",
   "metadata": {},
   "outputs": [
    {
     "ename": "NameError",
     "evalue": "name 'b' is not defined",
     "output_type": "error",
     "traceback": [
      "\u001b[1;31m---------------------------------------------------------------------------\u001b[0m",
      "\u001b[1;31mNameError\u001b[0m                                 Traceback (most recent call last)",
      "Cell \u001b[1;32mIn[1], line 1\u001b[0m\n\u001b[1;32m----> 1\u001b[0m a\u001b[38;5;241m=\u001b[39mb\n",
      "\u001b[1;31mNameError\u001b[0m: name 'b' is not defined"
     ]
    }
   ],
   "source": [
    "a=b     #this is exeception. NameError: "
   ]
  },
  {
   "cell_type": "markdown",
   "id": "9fcf8826-84f2-46d5-b9cd-634c7391239d",
   "metadata": {},
   "source": [
    "#### above code using exceptions:-"
   ]
  },
  {
   "cell_type": "code",
   "execution_count": 2,
   "id": "03d3c7a5-2487-4ac6-b2bf-34dfe10a7614",
   "metadata": {},
   "outputs": [
    {
     "name": "stdout",
     "output_type": "stream",
     "text": [
      "Error: name 'b' is not defined\n"
     ]
    }
   ],
   "source": [
    "try:\n",
    "    a=b\n",
    "except Exception as e:\n",
    "    print(f'Error: {e}')"
   ]
  },
  {
   "cell_type": "code",
   "execution_count": 3,
   "id": "0d62cce7-5266-4e87-b740-27638045c71d",
   "metadata": {},
   "outputs": [
    {
     "name": "stdout",
     "output_type": "stream",
     "text": [
      "Error: division by zero\n"
     ]
    }
   ],
   "source": [
    "try:\n",
    "    10/0\n",
    "except Exception as e:\n",
    "    print(f'Error: {e}')"
   ]
  },
  {
   "cell_type": "code",
   "execution_count": 4,
   "id": "67651094-2ad2-45c9-9c07-b72a66408923",
   "metadata": {},
   "outputs": [
    {
     "name": "stdout",
     "output_type": "stream",
     "text": [
      "Error: name 'b' is not defined\n"
     ]
    }
   ],
   "source": [
    "try:\n",
    "    1/2\n",
    "    a=b\n",
    "except Exception as e:\n",
    "    print(f'Error: {e}')     #it will show value error also. "
   ]
  },
  {
   "cell_type": "code",
   "execution_count": 5,
   "id": "68187f0f-8125-4048-98d3-fe8f07463651",
   "metadata": {},
   "outputs": [
    {
     "name": "stdin",
     "output_type": "stream",
     "text": [
      "Enter number:  0\n"
     ]
    },
    {
     "name": "stdout",
     "output_type": "stream",
     "text": [
      "Can not divide by zero. enter another number.\n"
     ]
    }
   ],
   "source": [
    "try:\n",
    "    num = int(input('Enter number: '))\n",
    "    result = 10/num\n",
    "except ValueError:\n",
    "    print(f'This is not valid number.')\n",
    "except ZeroDivisionError:\n",
    "    print(f'Can not divide by zero. enter another number.')"
   ]
  },
  {
   "cell_type": "code",
   "execution_count": 6,
   "id": "4e756aad-6acb-4ca7-86c2-38bd5d686d4d",
   "metadata": {},
   "outputs": [
    {
     "name": "stdin",
     "output_type": "stream",
     "text": [
      "Enter num:  d\n"
     ]
    },
    {
     "name": "stdout",
     "output_type": "stream",
     "text": [
      "This is not valid number.\n"
     ]
    }
   ],
   "source": [
    "try:\n",
    "    num = int(input('Enter num: '))\n",
    "    result = 10/num\n",
    "except ValueError:\n",
    "    print(f'This is not valid number.')\n",
    "except ZeroDivisionError:\n",
    "    print(f'Can not divide by zero. enter another number.')\n",
    "except Exception as e:\n",
    "    print(f'Error: {e}')\n",
    "else:\n",
    "    print(f'Result: {result}')"
   ]
  },
  {
   "cell_type": "markdown",
   "id": "ec7e4f97-44ca-4e84-8cd9-257ed01e1c6d",
   "metadata": {},
   "source": [
    "#### Try Except Else Finally block:"
   ]
  },
  {
   "cell_type": "code",
   "execution_count": 7,
   "id": "eb669673-6bc5-48e2-bdcd-2ca0eef579e9",
   "metadata": {},
   "outputs": [
    {
     "name": "stdin",
     "output_type": "stream",
     "text": [
      "Enter num:  0\n"
     ]
    },
    {
     "name": "stdout",
     "output_type": "stream",
     "text": [
      "Can not divide by zero, enter some another number.\n",
      "execution completed!\n"
     ]
    }
   ],
   "source": [
    "try:\n",
    "    num = int(input('Enter num: '))\n",
    "    result = 10/num\n",
    "except ValueError:\n",
    "    print(f'This is not valid number.')\n",
    "except ZeroDivisionError:\n",
    "    print(f'Can not divide by zero, enter some another number.')\n",
    "except Exception as e:\n",
    "    print(e)\n",
    "else:\n",
    "    print(f'Result: {result}')\n",
    "finally:            #at any situation, this block will execute.\n",
    "    print('execution completed!')"
   ]
  },
  {
   "cell_type": "markdown",
   "id": "a08d8a51-c46d-47e6-a92a-6c4801aa078b",
   "metadata": {},
   "source": [
    "#### File handling and exception handling:--"
   ]
  },
  {
   "cell_type": "code",
   "execution_count": 8,
   "id": "0f24cc5e-0291-4468-8a74-767a90fd8104",
   "metadata": {},
   "outputs": [
    {
     "name": "stdout",
     "output_type": "stream",
     "text": [
      "Error: [Errno 2] No such file or directory: 'example1.txt'\n"
     ]
    }
   ],
   "source": [
    "try:\n",
    "    with open('example1.txt','r') as file:\n",
    "        content = file.read()\n",
    "        print(content)\n",
    "except Exception as e:\n",
    "    print(f'Error: {e}')\n",
    "finally: \n",
    "    if 'file' in locals() and  not file.closed:\n",
    "        file.close()\n",
    "        print('file is closed')"
   ]
  },
  {
   "cell_type": "code",
   "execution_count": 9,
   "id": "ad7c0aa1-6295-49a2-a0af-1f2a90a21c0f",
   "metadata": {},
   "outputs": [
    {
     "name": "stdout",
     "output_type": "stream",
     "text": [
      "This is for undestanding of try except and finally block.\n",
      "file is closed\n"
     ]
    }
   ],
   "source": [
    "try:\n",
    "    with open('example2.txt','r') as file:\n",
    "        content = file.read()\n",
    "        print(content)\n",
    "except Exception as e:\n",
    "    print(f'Error: {e}')\n",
    "finally: \n",
    "    if 'file' in locals() or  not file.closed:\n",
    "        file.close()\n",
    "        print('file is closed')"
   ]
  },
  {
   "cell_type": "code",
   "execution_count": null,
   "id": "dc7c8cce-5287-4617-80ea-933e8b951113",
   "metadata": {},
   "outputs": [],
   "source": []
  }
 ],
 "metadata": {
  "kernelspec": {
   "display_name": "Python 3 (ipykernel)",
   "language": "python",
   "name": "python3"
  },
  "language_info": {
   "codemirror_mode": {
    "name": "ipython",
    "version": 3
   },
   "file_extension": ".py",
   "mimetype": "text/x-python",
   "name": "python",
   "nbconvert_exporter": "python",
   "pygments_lexer": "ipython3",
   "version": "3.13.5"
  }
 },
 "nbformat": 4,
 "nbformat_minor": 5
}
