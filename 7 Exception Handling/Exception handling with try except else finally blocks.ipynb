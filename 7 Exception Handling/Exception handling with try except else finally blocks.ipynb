{
 "cells": [
  {
   "cell_type": "markdown",
   "id": "49144b99-426b-4841-977f-2b3305fc84e6",
   "metadata": {},
   "source": [
    "### Exception Handling with Try Except Else and Finally:"
   ]
  },
  {
   "cell_type": "markdown",
   "id": "8f6e66ff-d0f2-4e6b-9fa1-6678fe0f2089",
   "metadata": {},
   "source": [
    "Exception handling allows you to handle errrors vey gracefully. It takes necessory action without stopping the program execution.   \n",
    "Exception handling includes Try, Except, Else, Finally blocks."
   ]
  },
  {
   "cell_type": "markdown",
   "id": "8af8fc49-def9-4eb8-83a9-35f4ba18e7fa",
   "metadata": {},
   "source": [
    "#### What are exceptions?\n",
    "exceptions are the events that distrupts the normal flow of the program. they occures when error is encountered during the program execution. "
   ]
  },
  {
   "cell_type": "markdown",
   "id": "9f12d64d-dcc3-49c2-b8c3-6c2af6511701",
   "metadata": {},
   "source": [
    "#### Some of the execeptions are as follows:\n",
    "1. ZeZeroDivisionError\t\n",
    "2. FileNotFoundError\t\n",
    "3. ValueError\n",
    "4. TypeError\n",
    "5. IndexError"
   ]
  },
  {
   "cell_type": "code",
   "execution_count": 2,
   "id": "736e2907-1bd4-4452-a881-6a48c0d11daf",
   "metadata": {},
   "outputs": [
    {
     "ename": "NameError",
     "evalue": "name 'b' is not defined",
     "output_type": "error",
     "traceback": [
      "\u001b[1;31m---------------------------------------------------------------------------\u001b[0m",
      "\u001b[1;31mNameError\u001b[0m                                 Traceback (most recent call last)",
      "Cell \u001b[1;32mIn[2], line 1\u001b[0m\n\u001b[1;32m----> 1\u001b[0m a\u001b[38;5;241m=\u001b[39mb\n",
      "\u001b[1;31mNameError\u001b[0m: name 'b' is not defined"
     ]
    }
   ],
   "source": [
    "a=b     #this is exeception. NameError: "
   ]
  },
  {
   "cell_type": "code",
   "execution_count": 4,
   "id": "436342fe-15fc-46d1-a532-39312c64ab50",
   "metadata": {},
   "outputs": [
    {
     "ename": "ZeroDivisionError",
     "evalue": "division by zero",
     "output_type": "error",
     "traceback": [
      "\u001b[1;31m---------------------------------------------------------------------------\u001b[0m",
      "\u001b[1;31mZeroDivisionError\u001b[0m                         Traceback (most recent call last)",
      "Cell \u001b[1;32mIn[4], line 1\u001b[0m\n\u001b[1;32m----> 1\u001b[0m \u001b[38;5;241m10\u001b[39m\u001b[38;5;241m/\u001b[39m\u001b[38;5;241m0\u001b[39m\n",
      "\u001b[1;31mZeroDivisionError\u001b[0m: division by zero"
     ]
    }
   ],
   "source": [
    "10/0     #zeroDivisionError\n"
   ]
  },
  {
   "cell_type": "markdown",
   "id": "9fcf8826-84f2-46d5-b9cd-634c7391239d",
   "metadata": {},
   "source": [
    "#### above code using exceptions:-"
   ]
  },
  {
   "cell_type": "code",
   "execution_count": 5,
   "id": "03d3c7a5-2487-4ac6-b2bf-34dfe10a7614",
   "metadata": {},
   "outputs": [
    {
     "name": "stdout",
     "output_type": "stream",
     "text": [
      "Error: name 'b' is not defined\n"
     ]
    }
   ],
   "source": [
    "try:\n",
    "    a=b\n",
    "except Exception as e:\n",
    "    print(f'Error: {e}')"
   ]
  },
  {
   "cell_type": "code",
   "execution_count": 6,
   "id": "0d62cce7-5266-4e87-b740-27638045c71d",
   "metadata": {},
   "outputs": [
    {
     "name": "stdout",
     "output_type": "stream",
     "text": [
      "Error: division by zero\n"
     ]
    }
   ],
   "source": [
    "try:\n",
    "    10/0\n",
    "except Exception as e:\n",
    "    print(f'Error: {e}')"
   ]
  },
  {
   "cell_type": "code",
   "execution_count": 8,
   "id": "67651094-2ad2-45c9-9c07-b72a66408923",
   "metadata": {},
   "outputs": [
    {
     "name": "stdout",
     "output_type": "stream",
     "text": [
      "Error: name 'b' is not defined\n"
     ]
    }
   ],
   "source": [
    "try:\n",
    "    1/2\n",
    "    a=b\n",
    "except Exception as e:\n",
    "    print(f'Error: {e}')     #it will show value error also. "
   ]
  },
  {
   "cell_type": "code",
   "execution_count": 14,
   "id": "68187f0f-8125-4048-98d3-fe8f07463651",
   "metadata": {},
   "outputs": [
    {
     "name": "stdin",
     "output_type": "stream",
     "text": [
      "Enter number:  j\n"
     ]
    },
    {
     "name": "stdout",
     "output_type": "stream",
     "text": [
      "This is not valid number.\n"
     ]
    }
   ],
   "source": [
    "try:\n",
    "    num = int(input('Enter number: '))\n",
    "    result = 10/num\n",
    "except ValueError:\n",
    "    print(f'This is not valid number.')\n",
    "except ZeroDivisionError:\n",
    "    print(f'Can not divide by zero. enter another number.')"
   ]
  },
  {
   "cell_type": "code",
   "execution_count": 15,
   "id": "4e756aad-6acb-4ca7-86c2-38bd5d686d4d",
   "metadata": {},
   "outputs": [
    {
     "name": "stdin",
     "output_type": "stream",
     "text": [
      "Enter num:  5\n"
     ]
    },
    {
     "name": "stdout",
     "output_type": "stream",
     "text": [
      "Result: 2.0\n"
     ]
    }
   ],
   "source": [
    "try:\n",
    "    num = int(input('Enter num: '))\n",
    "    result = 10/num\n",
    "except ValueError:\n",
    "    print(f'This is not valid number.')\n",
    "except ZeroDivisionError:\n",
    "    print(f'Can not divide by zero. enter another number.')\n",
    "except Exception as e:\n",
    "    print(f'Error: {e}')\n",
    "else:\n",
    "    print(f'Result: {result}')"
   ]
  },
  {
   "cell_type": "code",
   "execution_count": null,
   "id": "8c01c1e5-3c0f-4afb-ad33-72919acc79a9",
   "metadata": {},
   "outputs": [],
   "source": []
  }
 ],
 "metadata": {
  "kernelspec": {
   "display_name": "Python 3 (ipykernel)",
   "language": "python",
   "name": "python3"
  },
  "language_info": {
   "codemirror_mode": {
    "name": "ipython",
    "version": 3
   },
   "file_extension": ".py",
   "mimetype": "text/x-python",
   "name": "python",
   "nbconvert_exporter": "python",
   "pygments_lexer": "ipython3",
   "version": "3.13.5"
  }
 },
 "nbformat": 4,
 "nbformat_minor": 5
}
