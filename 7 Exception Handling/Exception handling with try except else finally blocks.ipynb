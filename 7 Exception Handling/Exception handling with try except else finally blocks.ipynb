{
 "cells": [
  {
   "cell_type": "markdown",
   "id": "49144b99-426b-4841-977f-2b3305fc84e6",
   "metadata": {},
   "source": [
    "### Exception Handling with Try Except Else and Finally:"
   ]
  },
  {
   "cell_type": "code",
   "execution_count": null,
   "id": "14b4657d-b96d-425b-a366-f86512682f32",
   "metadata": {},
   "outputs": [],
   "source": []
  }
 ],
 "metadata": {
  "kernelspec": {
   "display_name": "Python 3 (ipykernel)",
   "language": "python",
   "name": "python3"
  },
  "language_info": {
   "codemirror_mode": {
    "name": "ipython",
    "version": 3
   },
   "file_extension": ".py",
   "mimetype": "text/x-python",
   "name": "python",
   "nbconvert_exporter": "python",
   "pygments_lexer": "ipython3",
   "version": "3.13.5"
  }
 },
 "nbformat": 4,
 "nbformat_minor": 5
}
