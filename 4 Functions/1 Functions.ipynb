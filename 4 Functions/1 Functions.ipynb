{
 "cells": [
  {
   "cell_type": "markdown",
   "id": "63f8b5ea-234d-49ee-ab7d-a870a4249a14",
   "metadata": {},
   "source": [
    "### Functions:--\n",
    "A function is a reusable block of code that performs a specific task.\n",
    "\n"
   ]
  },
  {
   "cell_type": "code",
   "execution_count": 1,
   "id": "c8ff1a40-71fd-4f52-920d-237eb5fd669f",
   "metadata": {},
   "outputs": [
    {
     "name": "stdout",
     "output_type": "stream",
     "text": [
      "Hello, Ganesh!\n"
     ]
    }
   ],
   "source": [
    "def greet():\n",
    "    print(\"Hello, Ganesh!\")\n",
    "\n",
    "greet()"
   ]
  },
  {
   "cell_type": "code",
   "execution_count": null,
   "id": "30edafb3-81a1-4783-a505-3f607aa88150",
   "metadata": {},
   "outputs": [],
   "source": []
  }
 ],
 "metadata": {
  "kernelspec": {
   "display_name": "Python 3 (ipykernel)",
   "language": "python",
   "name": "python3"
  },
  "language_info": {
   "codemirror_mode": {
    "name": "ipython",
    "version": 3
   },
   "file_extension": ".py",
   "mimetype": "text/x-python",
   "name": "python",
   "nbconvert_exporter": "python",
   "pygments_lexer": "ipython3",
   "version": "3.13.5"
  }
 },
 "nbformat": 4,
 "nbformat_minor": 5
}
