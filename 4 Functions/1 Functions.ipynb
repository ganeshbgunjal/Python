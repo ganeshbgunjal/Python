{
 "cells": [
  {
   "cell_type": "markdown",
   "id": "63f8b5ea-234d-49ee-ab7d-a870a4249a14",
   "metadata": {},
   "source": [
    "### Functions:--\n",
    "A function is a reusable block of code that performs a specific task.  \n",
    "Functions helps in oganising, reusing code and improve readability.\n",
    "\n"
   ]
  },
  {
   "cell_type": "code",
   "execution_count": 1,
   "id": "ad59a4ea-9d02-4573-bd27-af8d5c979d09",
   "metadata": {},
   "outputs": [],
   "source": [
    "def function_name():\n",
    "    ''' docstring'''\n",
    "    # function body\n",
    "    # return statement\n",
    "    pass"
   ]
  },
  {
   "cell_type": "code",
   "execution_count": 2,
   "id": "c8ff1a40-71fd-4f52-920d-237eb5fd669f",
   "metadata": {},
   "outputs": [
    {
     "name": "stdout",
     "output_type": "stream",
     "text": [
      "Hello, Ganesh!\n"
     ]
    }
   ],
   "source": [
    "def greet():\n",
    "    '''This function is about greeting yourself'''\n",
    "    print(\"Hello, Ganesh!\")\n",
    "\n",
    "greet()"
   ]
  },
  {
   "cell_type": "markdown",
   "id": "c2c55c54-0899-43df-b9f8-129144377c6f",
   "metadata": {},
   "source": [
    "#### Why we use function?"
   ]
  },
  {
   "cell_type": "code",
   "execution_count": 3,
   "id": "1dfc52ff-a17b-449f-93a5-5f51fc18a26b",
   "metadata": {},
   "outputs": [
    {
     "name": "stdout",
     "output_type": "stream",
     "text": [
      "Num is even\n"
     ]
    }
   ],
   "source": [
    "num = 24\n",
    "if num %2 == 0:\n",
    "    print('Num is even')\n",
    "else:\n",
    "    print('Num is odd')"
   ]
  },
  {
   "cell_type": "markdown",
   "id": "666a0b08-ad27-426a-9479-7c4e4f96ae87",
   "metadata": {},
   "source": [
    "This is if we want to use this code again and again, then every time we cant use this code. it doesnt look like organized code. so we wrap them in the function and that function name we  use later in the code."
   ]
  },
  {
   "cell_type": "code",
   "execution_count": 4,
   "id": "bd38c7aa-e4b6-435e-a5ed-adc4f3d315fe",
   "metadata": {},
   "outputs": [],
   "source": [
    "def even_number():\n",
    "    num = int(input('Enter num: '))\n",
    "    if num % 2 == 0:\n",
    "        print(f'{num} is even')\n",
    "    else:\n",
    "        print(f'{num} is odd')"
   ]
  },
  {
   "cell_type": "code",
   "execution_count": 5,
   "id": "7437c982-2ea2-407d-b5d5-1b3d7ae66d09",
   "metadata": {},
   "outputs": [
    {
     "name": "stdin",
     "output_type": "stream",
     "text": [
      "Enter num:  22\n"
     ]
    },
    {
     "name": "stdout",
     "output_type": "stream",
     "text": [
      "22 is even\n"
     ]
    }
   ],
   "source": [
    "even_number()"
   ]
  },
  {
   "cell_type": "code",
   "execution_count": 6,
   "id": "16864594-183f-473b-b17c-bc265933faad",
   "metadata": {},
   "outputs": [],
   "source": [
    "def check_even_odd_numbers(numbers):\n",
    "    for num in numbers:\n",
    "        if num %2==0:\n",
    "            print(f'{num} is even')\n",
    "        else:\n",
    "            print(f'{num} is odd')"
   ]
  },
  {
   "cell_type": "code",
   "execution_count": 7,
   "id": "74428b6d-407d-4205-9038-f3ce1b101499",
   "metadata": {},
   "outputs": [
    {
     "name": "stdout",
     "output_type": "stream",
     "text": [
      "10 is even\n",
      "25 is odd\n",
      "24 is even\n",
      "59 is odd\n"
     ]
    }
   ],
   "source": [
    "check_even_odd_numbers([10,25,24,59])"
   ]
  },
  {
   "cell_type": "markdown",
   "id": "6f01a524-9574-44a2-ac47-dc5c92f82a5e",
   "metadata": {},
   "source": [
    "#### Function with parameters:"
   ]
  },
  {
   "cell_type": "code",
   "execution_count": 8,
   "id": "91fbcd73-39a1-4abe-ab04-408f59f0b71d",
   "metadata": {},
   "outputs": [],
   "source": [
    "def add(a,b):\n",
    "    '''this functions add two numbers'''\n",
    "    result = a+b\n",
    "    print(f'Addition: {result}')"
   ]
  },
  {
   "cell_type": "code",
   "execution_count": 9,
   "id": "45d80644-a2b1-4ceb-9f59-9591da9f9a19",
   "metadata": {},
   "outputs": [
    {
     "name": "stdout",
     "output_type": "stream",
     "text": [
      "Addition: 6\n"
     ]
    }
   ],
   "source": [
    "add(3,3)"
   ]
  },
  {
   "cell_type": "markdown",
   "id": "c1b42b81-adcf-4ff6-9095-4c1208311c34",
   "metadata": {},
   "source": [
    "### Default Parameter:"
   ]
  },
  {
   "cell_type": "code",
   "execution_count": 10,
   "id": "cb79b5ce-b26c-43f7-af1b-e4878bc73ac1",
   "metadata": {},
   "outputs": [],
   "source": [
    "def greets(name='Guest'):\n",
    "    print(f'Hello {name} Welcome to the paradise!')"
   ]
  },
  {
   "cell_type": "code",
   "execution_count": 11,
   "id": "3eb41bc6-45c2-44f4-b9f2-31319defc9c3",
   "metadata": {},
   "outputs": [
    {
     "name": "stdout",
     "output_type": "stream",
     "text": [
      "Hello Guest Welcome to the paradise!\n"
     ]
    }
   ],
   "source": [
    "greets()"
   ]
  },
  {
   "cell_type": "markdown",
   "id": "d33c11cd-aa20-47ee-9dcd-79108e61b04b",
   "metadata": {},
   "source": [
    "### greets('Ganesh')    # default name is replaced with 'Ganesh'"
   ]
  },
  {
   "cell_type": "code",
   "execution_count": 12,
   "id": "abc07bad-fdea-415e-83b6-7f12bf79134b",
   "metadata": {},
   "outputs": [],
   "source": [
    "def greeting(name,msg='Good Morning!!'):\n",
    "    print(f'Hello {name},{msg}')"
   ]
  },
  {
   "cell_type": "code",
   "execution_count": 13,
   "id": "a367fb2f-a072-40dc-aabd-1119941ba734",
   "metadata": {},
   "outputs": [
    {
     "name": "stdout",
     "output_type": "stream",
     "text": [
      "Hello Ganesh,Good Morning!!\n"
     ]
    }
   ],
   "source": [
    "greeting('Ganesh')"
   ]
  },
  {
   "cell_type": "markdown",
   "id": "b72c4ce4-dd9e-4f63-9c6b-f9b658d3d293",
   "metadata": {},
   "source": [
    "### Variable Lenth Arguments:\n",
    "### Positional and Keyword Arguments:"
   ]
  },
  {
   "cell_type": "code",
   "execution_count": 14,
   "id": "b0c7499c-9747-4457-b2f5-7d24c543016f",
   "metadata": {},
   "outputs": [],
   "source": [
    "def print_numbers(*ganesh):    # giving any name is not good practices. give \"args\" as a standard practices.\n",
    "    for num in ganesh:\n",
    "        print(num)"
   ]
  },
  {
   "cell_type": "code",
   "execution_count": 15,
   "id": "36b9ad15-ea22-48a4-9982-da3eaf8cc567",
   "metadata": {},
   "outputs": [
    {
     "name": "stdout",
     "output_type": "stream",
     "text": [
      "1\n",
      "2\n",
      "3\n",
      "4\n",
      "5\n",
      "6\n",
      "Ganesh\n",
      "Gunjal\n"
     ]
    }
   ],
   "source": [
    "print_numbers(1,2,3,4,5,6,'Ganesh','Gunjal')"
   ]
  },
  {
   "cell_type": "code",
   "execution_count": 16,
   "id": "c46b302d-ec46-4bc1-b675-a5e331966595",
   "metadata": {},
   "outputs": [],
   "source": [
    "def print_numbers(*args):    # giving any name is not good practices. give \"args\" as a standard practices.\n",
    "    for num in args:\n",
    "        print(num)"
   ]
  },
  {
   "cell_type": "code",
   "execution_count": 17,
   "id": "5b5ba2a4-9d70-4248-987a-c716dbffbf1d",
   "metadata": {},
   "outputs": [
    {
     "name": "stdout",
     "output_type": "stream",
     "text": [
      "1\n",
      "2\n",
      "3\n",
      "4\n",
      "Ganaa\n"
     ]
    }
   ],
   "source": [
    "print_numbers(1,2,3,4,'Ganaa')"
   ]
  },
  {
   "cell_type": "markdown",
   "id": "c41eef36-8823-4327-b0ee-7e4c00046a49",
   "metadata": {},
   "source": [
    "### Keyword Arguments:"
   ]
  },
  {
   "cell_type": "code",
   "execution_count": 18,
   "id": "acf2b271-9dcc-44c2-8dfa-c94a8cd30a27",
   "metadata": {},
   "outputs": [],
   "source": [
    "def print_details(**kwargs):\n",
    "    for key, val in kwargs.items():\n",
    "        print(f'{key} : {val}')"
   ]
  },
  {
   "cell_type": "code",
   "execution_count": 19,
   "id": "e001cd76-eebb-4dc3-bac7-c62934fe7af3",
   "metadata": {},
   "outputs": [
    {
     "name": "stdout",
     "output_type": "stream",
     "text": [
      "name : Ganesh\n",
      "surname : Gunjal\n",
      "City : Nashik\n"
     ]
    }
   ],
   "source": [
    "print_details(name ='Ganesh',surname ='Gunjal', City ='Nashik')"
   ]
  },
  {
   "cell_type": "code",
   "execution_count": 20,
   "id": "6cbdc10a-f0bb-4842-8da1-e4e6e6e5b6ed",
   "metadata": {},
   "outputs": [],
   "source": [
    "def print_all_details(*args,**kwargs):\n",
    "    for val in args:\n",
    "        print(f' Positional Arguments: {val}')\n",
    "    for key,val in kwargs.items():\n",
    "        print(f'{key} : {val}')"
   ]
  },
  {
   "cell_type": "code",
   "execution_count": 21,
   "id": "2728e88f-7f30-4cba-a357-ad38466fc614",
   "metadata": {},
   "outputs": [
    {
     "name": "stdout",
     "output_type": "stream",
     "text": [
      " Positional Arguments: 1\n",
      " Positional Arguments: 2\n",
      " Positional Arguments: 3\n",
      " Positional Arguments: 4\n",
      " Positional Arguments: 5\n",
      "name : Ganesh\n",
      "surname : Gunjal\n",
      "City : Nashik\n"
     ]
    }
   ],
   "source": [
    "print_all_details(1,2,3,4,5,name ='Ganesh',surname ='Gunjal', City ='Nashik')"
   ]
  },
  {
   "cell_type": "markdown",
   "id": "36594f2e-fb80-4070-9c90-baf7c2458922",
   "metadata": {},
   "source": [
    "### Return Statements:"
   ]
  },
  {
   "cell_type": "markdown",
   "id": "aea8fb35-7f99-4566-85c9-e8702dc4bbf6",
   "metadata": {},
   "source": [
    "The return statement is used to send back a result from a function to the place where the function was called."
   ]
  },
  {
   "cell_type": "code",
   "execution_count": 22,
   "id": "17495fa1-720c-45d9-9370-3c92c983f027",
   "metadata": {},
   "outputs": [],
   "source": [
    "def multiply(a,b):\n",
    "    return a*b"
   ]
  },
  {
   "cell_type": "code",
   "execution_count": 23,
   "id": "34cc2d03-9429-4bda-9ffa-9a8ea87ef354",
   "metadata": {},
   "outputs": [
    {
     "data": {
      "text/plain": [
       "6"
      ]
     },
     "execution_count": 23,
     "metadata": {},
     "output_type": "execute_result"
    }
   ],
   "source": [
    "multiply(2,3)"
   ]
  },
  {
   "cell_type": "markdown",
   "id": "de898af6-4c67-4487-9d64-774cc8342b29",
   "metadata": {},
   "source": [
    "### Return Multiple parameters"
   ]
  },
  {
   "cell_type": "code",
   "execution_count": 24,
   "id": "22a8b04d-7c23-4bb3-b653-aa3b74ee65ae",
   "metadata": {},
   "outputs": [],
   "source": [
    "def multiplication(a,b):\n",
    "    return a*b,a,b"
   ]
  },
  {
   "cell_type": "code",
   "execution_count": 25,
   "id": "01f6100f-7142-43f0-9558-2ce50ed04a59",
   "metadata": {},
   "outputs": [
    {
     "data": {
      "text/plain": [
       "(8, 4, 2)"
      ]
     },
     "execution_count": 25,
     "metadata": {},
     "output_type": "execute_result"
    }
   ],
   "source": [
    "multiplication(4,2)"
   ]
  },
  {
   "cell_type": "code",
   "execution_count": null,
   "id": "52f12c76-a7dc-4f04-adae-4a532326a405",
   "metadata": {},
   "outputs": [],
   "source": []
  }
 ],
 "metadata": {
  "kernelspec": {
   "display_name": "Python 3 (ipykernel)",
   "language": "python",
   "name": "python3"
  },
  "language_info": {
   "codemirror_mode": {
    "name": "ipython",
    "version": 3
   },
   "file_extension": ".py",
   "mimetype": "text/x-python",
   "name": "python",
   "nbconvert_exporter": "python",
   "pygments_lexer": "ipython3",
   "version": "3.13.5"
  }
 },
 "nbformat": 4,
 "nbformat_minor": 5
}
