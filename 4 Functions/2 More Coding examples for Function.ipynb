{
 "cells": [
  {
   "cell_type": "markdown",
   "id": "83efe8b2-2f2a-4132-9188-4056ebd9b53c",
   "metadata": {},
   "source": [
    "### More Coding Examples:--"
   ]
  },
  {
   "cell_type": "markdown",
   "id": "5dcc508a-0473-43d3-805f-1c8caaf80a51",
   "metadata": {},
   "source": [
    "### Example 1: Temperature Conversion:--"
   ]
  },
  {
   "cell_type": "code",
   "execution_count": 3,
   "id": "e15fd7f0-a779-40eb-afad-58761091882c",
   "metadata": {},
   "outputs": [],
   "source": [
    "def convert_temperature(temp,unit):\n",
    "    '''this function converts degree to fahrenheit'''\n",
    "    if unit == 'C':\n",
    "        return temp * 9/5 +32    #celcius to fahrenheit\n",
    "    elif unit == 'F':\n",
    "        return (temp-32) * 5/9   #fahreinheit to celcius\n",
    "    else:\n",
    "        return None"
   ]
  },
  {
   "cell_type": "code",
   "execution_count": 5,
   "id": "2b82c9d8-79d0-434d-b363-1ca3674a4c96",
   "metadata": {},
   "outputs": [
    {
     "data": {
      "text/plain": [
       "98.6"
      ]
     },
     "execution_count": 5,
     "metadata": {},
     "output_type": "execute_result"
    }
   ],
   "source": [
    "convert_temperature(37,'C')"
   ]
  },
  {
   "cell_type": "code",
   "execution_count": 6,
   "id": "00cadcd6-7a10-4efe-be8a-0c0b005d0363",
   "metadata": {},
   "outputs": [
    {
     "data": {
      "text/plain": [
       "36.666666666666664"
      ]
     },
     "execution_count": 6,
     "metadata": {},
     "output_type": "execute_result"
    }
   ],
   "source": [
    "convert_temperature(98,'F')"
   ]
  },
  {
   "cell_type": "markdown",
   "id": "0d0334f7-7ff7-47c1-85d3-f8f80d3e6736",
   "metadata": {},
   "source": [
    "### Example 2: Create Strong Password:-"
   ]
  },
  {
   "cell_type": "code",
   "execution_count": 9,
   "id": "526310ae-f6a6-4fc9-bc12-890a2e72de4a",
   "metadata": {},
   "outputs": [],
   "source": [
    "def is_strong_password(password):\n",
    "    '''This is checks whethe the password is strong or not'''\n",
    "    if len(password) <8:\n",
    "        return False\n",
    "    if not any (char.isdigit() for char in password):\n",
    "        return False\n",
    "    if not any (char.islower() for char in password):\n",
    "        return False\n",
    "    if not any (char.isupper() for char in password):\n",
    "        return False\n",
    "    if not any(char in '!@#$%^&*()_+' for char in password):\n",
    "        return False\n",
    "    return True"
   ]
  },
  {
   "cell_type": "code",
   "execution_count": 13,
   "id": "0c099a46-d5a0-4f83-84f6-bba9ad1a4d55",
   "metadata": {},
   "outputs": [
    {
     "name": "stdout",
     "output_type": "stream",
     "text": [
      "False\n",
      "True\n"
     ]
    }
   ],
   "source": [
    "print(is_strong_password('WeakPwd'))\n",
    "print(is_strong_password('Strng0Pwd!'))  #It contains lower upper digit and special characters"
   ]
  },
  {
   "cell_type": "markdown",
   "id": "2a521755-25bb-4ba7-ac0f-a23d0b27b12a",
   "metadata": {},
   "source": [
    "### Example 3: Calculate the total cost of items in the shopping cart. "
   ]
  },
  {
   "cell_type": "code",
   "execution_count": 15,
   "id": "52b3b725-2cf6-4ab0-8b2b-1cacc98f2f15",
   "metadata": {},
   "outputs": [],
   "source": [
    "def calculate_total_cost(cart):\n",
    "    total_cost=0\n",
    "    for item in cart:\n",
    "        total_cost+=item['price']*item['qty']\n",
    "    return total_cost\n",
    "\n",
    "\n",
    "# example cart data\n",
    "cart = [\n",
    "\n",
    "    {'name':'apple','price':30,'qty':5},\n",
    "    {'name':'banana','price':10,'qty':4},\n",
    "    {'name':'orange','price':40,'qty':3}\n",
    "]"
   ]
  },
  {
   "cell_type": "code",
   "execution_count": 16,
   "id": "eb545a04-dfee-464b-a6e0-843ee4164ba0",
   "metadata": {},
   "outputs": [
    {
     "name": "stdout",
     "output_type": "stream",
     "text": [
      "310\n"
     ]
    }
   ],
   "source": [
    "total_cost = calculate_total_cost(cart)\n",
    "print(total_cost)"
   ]
  },
  {
   "cell_type": "markdown",
   "id": "7eec3bdf-a307-4546-9770-124317b43482",
   "metadata": {},
   "source": [
    "### Example 4: Check if a string is palindrom:\n",
    "palindrom means reading from front and back is same."
   ]
  },
  {
   "cell_type": "code",
   "execution_count": 18,
   "id": "e0bfa920-80e8-43a0-9a35-b789c821f6c6",
   "metadata": {},
   "outputs": [],
   "source": [
    "def check_palindrom(string):\n",
    "    string = string.lower().replace(' ','')\n",
    "    return string == string[::-1]"
   ]
  },
  {
   "cell_type": "code",
   "execution_count": 19,
   "id": "bba340e9-ddfe-4df9-9d99-7279e8dc95ef",
   "metadata": {},
   "outputs": [
    {
     "name": "stdout",
     "output_type": "stream",
     "text": [
      "True\n",
      "False\n"
     ]
    }
   ],
   "source": [
    "print(check_palindrom('madam ii madam'))\n",
    "print(check_palindrom('Helloji'))"
   ]
  },
  {
   "cell_type": "code",
   "execution_count": null,
   "id": "27940723-479c-458e-97a4-8a61384716d5",
   "metadata": {},
   "outputs": [],
   "source": []
  }
 ],
 "metadata": {
  "kernelspec": {
   "display_name": "Python 3 (ipykernel)",
   "language": "python",
   "name": "python3"
  },
  "language_info": {
   "codemirror_mode": {
    "name": "ipython",
    "version": 3
   },
   "file_extension": ".py",
   "mimetype": "text/x-python",
   "name": "python",
   "nbconvert_exporter": "python",
   "pygments_lexer": "ipython3",
   "version": "3.13.5"
  }
 },
 "nbformat": 4,
 "nbformat_minor": 5
}
