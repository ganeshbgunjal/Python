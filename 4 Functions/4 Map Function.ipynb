{
 "cells": [
  {
   "cell_type": "markdown",
   "id": "81c69880-0da1-498a-ab21-491f64a729ec",
   "metadata": {},
   "source": [
    "### Map Function:\n",
    "The map() function applies a function to every item in an iterable (like a list, tuple, etc.)."
   ]
  },
  {
   "cell_type": "code",
   "execution_count": 1,
   "id": "bd74e4db-7347-4d32-b879-0bcd9cb3c711",
   "metadata": {},
   "outputs": [],
   "source": [
    "def square(x):\n",
    "    return x**2"
   ]
  },
  {
   "cell_type": "code",
   "execution_count": 2,
   "id": "7c99e31a-f606-4e2b-bed4-7c337e6a6d36",
   "metadata": {},
   "outputs": [
    {
     "data": {
      "text/plain": [
       "100"
      ]
     },
     "execution_count": 2,
     "metadata": {},
     "output_type": "execute_result"
    }
   ],
   "source": [
    "square(10)"
   ]
  },
  {
   "cell_type": "markdown",
   "id": "b2015014-1a95-40f6-803f-238f5240e222",
   "metadata": {},
   "source": [
    "This function is useful for only single number. but if we have list of numbers, then this function will not work.   \n",
    "so for this we need a function which can perform operations on whole list."
   ]
  },
  {
   "cell_type": "code",
   "execution_count": 4,
   "id": "527b2e08-6156-4581-80e7-a26784a9ff28",
   "metadata": {},
   "outputs": [
    {
     "name": "stdout",
     "output_type": "stream",
     "text": [
      "[1, 4, 9, 16, 25, 36, 49, 64, 81]\n"
     ]
    }
   ],
   "source": [
    "numbers = [1,2,3,4,5,6,7,8,9]\n",
    "squares = list(map(lambda x:x**2,numbers))\n",
    "print(squares)"
   ]
  },
  {
   "cell_type": "markdown",
   "id": "ed105327-02e8-4318-8e2d-f15d19589cb5",
   "metadata": {},
   "source": [
    "### squares of list items Using for loop: "
   ]
  },
  {
   "cell_type": "code",
   "execution_count": 7,
   "id": "4773d9cd-fa7f-45f6-9515-83d3e8bcb96a",
   "metadata": {},
   "outputs": [],
   "source": [
    "numbers1 = [1,2,3,4,5,6,7,8,9]\n",
    "sq1 = []\n",
    "def squares1(lst):\n",
    "    for num in lst:\n",
    "        sq1.append(num**2)\n",
    "    print(sq1)\n",
    "        "
   ]
  },
  {
   "cell_type": "code",
   "execution_count": 8,
   "id": "90080ad4-81bf-4a49-ba83-69eaa0a1ae69",
   "metadata": {},
   "outputs": [
    {
     "name": "stdout",
     "output_type": "stream",
     "text": [
      "[1, 4, 9, 16, 25, 36, 49, 64, 81, 1, 4, 9, 16, 25, 36, 49, 64, 81]\n"
     ]
    }
   ],
   "source": [
    "squares(numbers)"
   ]
  },
  {
   "cell_type": "code",
   "execution_count": 9,
   "id": "dd9fa5f4-c2af-4e55-b15a-987a7f731f13",
   "metadata": {},
   "outputs": [],
   "source": [
    "def squares2(num):\n",
    "    return num**2\n",
    "numbers1 = [1,2,3,4,5,6,7,8,9]\n"
   ]
  },
  {
   "cell_type": "code",
   "execution_count": 10,
   "id": "4d9d622f-3983-494e-a151-56a57a855969",
   "metadata": {},
   "outputs": [
    {
     "data": {
      "text/plain": [
       "[1, 4, 9, 16, 25, 36, 49, 64, 81]"
      ]
     },
     "execution_count": 10,
     "metadata": {},
     "output_type": "execute_result"
    }
   ],
   "source": [
    "list(map(squares2,numbers1))"
   ]
  },
  {
   "cell_type": "markdown",
   "id": "e0daa578-e959-45ef-9dff-bce7be5e3a20",
   "metadata": {},
   "source": [
    "### Map with multiple Iteables:"
   ]
  },
  {
   "cell_type": "code",
   "execution_count": 13,
   "id": "50cd557a-e232-4f43-9453-f2206da3f2e5",
   "metadata": {},
   "outputs": [
    {
     "name": "stdout",
     "output_type": "stream",
     "text": [
      "New Addition list: [6, 8, 10, 12]\n"
     ]
    }
   ],
   "source": [
    "numbers1 = [1,2,3,4]\n",
    "numbers2 = [5,6,7,8]\n",
    "\n",
    "added_numbes = list(map(lambda x,y:x+y,numbers1,numbers2))\n",
    "print(f'New Addition list: {added_numbes}')"
   ]
  },
  {
   "cell_type": "markdown",
   "id": "8a753d99-4916-4c11-ba8d-6a48e53ac303",
   "metadata": {},
   "source": [
    "### Use map function to convert string numbers into integer numbes:"
   ]
  },
  {
   "cell_type": "code",
   "execution_count": 14,
   "id": "b028f279-d623-40a4-ab30-d0b8de2fd737",
   "metadata": {},
   "outputs": [
    {
     "name": "stdout",
     "output_type": "stream",
     "text": [
      "[1, 2, 3, 4, 5]\n"
     ]
    }
   ],
   "source": [
    "str_numbers = ['1','2','3','4','5']\n",
    "int_numbers = list(map(int,str_numbers))\n",
    "print(int_numbers)"
   ]
  },
  {
   "cell_type": "markdown",
   "id": "c1c70b66-3c2d-42ba-af9b-6ff6def42795",
   "metadata": {},
   "source": [
    "### Convert whole list in upper case:"
   ]
  },
  {
   "cell_type": "code",
   "execution_count": 17,
   "id": "a2487585-8b85-427c-a104-ef650b979577",
   "metadata": {},
   "outputs": [
    {
     "name": "stdout",
     "output_type": "stream",
     "text": [
      "['APPLE', 'BANANA', 'GRAPES', 'ORANGE']\n"
     ]
    }
   ],
   "source": [
    "words = ['apple','banana','grapes','orange']\n",
    "upper_words = list(map(str.upper,words))\n",
    "print(upper_words)"
   ]
  },
  {
   "cell_type": "markdown",
   "id": "a2703dde-fb2e-460b-a4f7-34aa623c0f2c",
   "metadata": {},
   "source": [
    "### Get all the names from the dictionary:"
   ]
  },
  {
   "cell_type": "code",
   "execution_count": 18,
   "id": "715b5df0-39b6-447c-87b8-e49c0ed12b64",
   "metadata": {},
   "outputs": [
    {
     "data": {
      "text/plain": [
       "['Ganesh', 'Rasika']"
      ]
     },
     "execution_count": 18,
     "metadata": {},
     "output_type": "execute_result"
    }
   ],
   "source": [
    "def get_name(person):\n",
    "    return person['name']\n",
    "\n",
    "people = [\n",
    "    {'name':'Ganesh','age':33},\n",
    "    {'name':'Rasika','age':28}\n",
    "]\n",
    "\n",
    "list(map(get_name,people))"
   ]
  },
  {
   "cell_type": "code",
   "execution_count": null,
   "id": "40d312a7-4eb6-4e5b-baf8-a140ced3681b",
   "metadata": {},
   "outputs": [],
   "source": []
  }
 ],
 "metadata": {
  "kernelspec": {
   "display_name": "Python 3 (ipykernel)",
   "language": "python",
   "name": "python3"
  },
  "language_info": {
   "codemirror_mode": {
    "name": "ipython",
    "version": 3
   },
   "file_extension": ".py",
   "mimetype": "text/x-python",
   "name": "python",
   "nbconvert_exporter": "python",
   "pygments_lexer": "ipython3",
   "version": "3.13.5"
  }
 },
 "nbformat": 4,
 "nbformat_minor": 5
}
