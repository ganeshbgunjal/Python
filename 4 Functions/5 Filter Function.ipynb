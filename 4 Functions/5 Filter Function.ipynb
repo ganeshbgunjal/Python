{
 "cells": [
  {
   "cell_type": "markdown",
   "id": "4c7f87bd-72a9-476d-9e0d-b02de349b8b4",
   "metadata": {},
   "source": [
    "### Filter Function:--\n",
    "The filter() function selects elements from an iterable based on a condition (True/False)."
   ]
  },
  {
   "cell_type": "markdown",
   "id": "fc0c7c7b-bf1e-41e6-8d44-87765bfa39ac",
   "metadata": {},
   "source": [
    "Filter function is a powerful tool fo creating iterators that filter items out of an iterable based on condition. It is commonly used for data cleaning filtering objects and rremoving unwanted elements from the list By mastering filters you can write more concise and efficient code for processing and manipulating collections in python..."
   ]
  },
  {
   "cell_type": "code",
   "execution_count": 1,
   "id": "2995f8d4-1bcc-4d6e-869d-54843a8b81ba",
   "metadata": {},
   "outputs": [],
   "source": [
    "def even(num):\n",
    "    if num %2 == 0:\n",
    "        return True\n",
    "def odd(num):\n",
    "    if num%2!=0:\n",
    "        return True"
   ]
  },
  {
   "cell_type": "code",
   "execution_count": 2,
   "id": "1b1cb320-7ab4-4a3d-8956-2df52368618c",
   "metadata": {},
   "outputs": [
    {
     "name": "stdout",
     "output_type": "stream",
     "text": [
      "Even: [2, 4, 6, 8, 10]\n",
      "Odd: [1, 3, 5, 7, 9]\n"
     ]
    }
   ],
   "source": [
    "numbers = [1,2,3,4,5,6,7,8,9,10]\n",
    "even_numbers = list(filter(even,numbers))\n",
    "odd_numbers = list(filter(odd,numbers))\n",
    "print(f'Even: {even_numbers}')\n",
    "print(f'Odd: {odd_numbers}')"
   ]
  },
  {
   "cell_type": "markdown",
   "id": "c769aea0-d804-4bd0-bf09-54c84a50e292",
   "metadata": {},
   "source": [
    "### Filter with lambda function:"
   ]
  },
  {
   "cell_type": "code",
   "execution_count": 3,
   "id": "6332449d-2dd0-45fe-ac9e-cd27ecb358ed",
   "metadata": {},
   "outputs": [
    {
     "name": "stdout",
     "output_type": "stream",
     "text": [
      "[6, 7, 8, 9, 10]\n"
     ]
    }
   ],
   "source": [
    "numbers = [1,2,3,4,5,6,7,8,9,10]\n",
    "greater_than_5 = list(filter(lambda x:x>5,numbers))\n",
    "print(greater_than_5)"
   ]
  },
  {
   "cell_type": "markdown",
   "id": "b1477741-a8fe-437c-8952-e2707697ce40",
   "metadata": {},
   "source": [
    "### Filter with lambda function and multiple conditions:"
   ]
  },
  {
   "cell_type": "code",
   "execution_count": 4,
   "id": "95e4c006-15da-4a99-8af8-5cdfb1eda1ce",
   "metadata": {},
   "outputs": [
    {
     "name": "stdout",
     "output_type": "stream",
     "text": [
      "[6, 8, 10]\n"
     ]
    }
   ],
   "source": [
    "numbers = [1,2,3,4,5,6,7,8,9,10]\n",
    "even_and_greater_than_5 = list(filter(lambda x:x>5 and x%2==0,numbers))\n",
    "print(even_and_greater_than_5)"
   ]
  },
  {
   "cell_type": "markdown",
   "id": "f7cba7b4-7bcc-4200-a9bd-e968188d41a0",
   "metadata": {},
   "source": [
    "### Filter () to check whether age is greater than 25:"
   ]
  },
  {
   "cell_type": "code",
   "execution_count": 5,
   "id": "e103ae0f-9b3b-445f-adae-e2891dacda6c",
   "metadata": {},
   "outputs": [],
   "source": [
    "def age_greater_than_25(person):\n",
    "    return person['age']>25"
   ]
  },
  {
   "cell_type": "code",
   "execution_count": 6,
   "id": "06e407a6-f927-42ae-b617-c18afbb83f19",
   "metadata": {},
   "outputs": [
    {
     "name": "stdout",
     "output_type": "stream",
     "text": [
      "[{'name': 'Ganesh', 'age': 33}, {'name': 'Rasika', 'age': 28}, {'name': 'Tapswini', 'age': 30}]\n"
     ]
    }
   ],
   "source": [
    "people = [\n",
    "    {'name':'Ganesh','age':33},\n",
    "    {'name':'Rasika','age':28},\n",
    "    {'name':'Sushma','age':25},\n",
    "    {'name':'Tapswini','age':30},\n",
    "    \n",
    "]\n",
    "\n",
    "age_greater_than_25= list(filter(age_greater_than_25,people))\n",
    "print(age_greater_than_25)"
   ]
  },
  {
   "cell_type": "code",
   "execution_count": null,
   "id": "6fe2d47a-1718-489d-a9c9-b8ad094f5cf4",
   "metadata": {},
   "outputs": [],
   "source": []
  }
 ],
 "metadata": {
  "kernelspec": {
   "display_name": "Python 3 (ipykernel)",
   "language": "python",
   "name": "python3"
  },
  "language_info": {
   "codemirror_mode": {
    "name": "ipython",
    "version": 3
   },
   "file_extension": ".py",
   "mimetype": "text/x-python",
   "name": "python",
   "nbconvert_exporter": "python",
   "pygments_lexer": "ipython3",
   "version": "3.13.5"
  }
 },
 "nbformat": 4,
 "nbformat_minor": 5
}
