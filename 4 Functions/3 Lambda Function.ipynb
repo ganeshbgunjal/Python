{
 "cells": [
  {
   "cell_type": "markdown",
   "id": "132230cb-7e2c-4231-9d9f-011a6d4c6c05",
   "metadata": {},
   "source": [
    "### Lambda Function:"
   ]
  },
  {
   "cell_type": "markdown",
   "id": "5adc2f28-0868-40d5-aa8c-1d6a6e0eba66",
   "metadata": {},
   "source": [
    "A lambda function is an anonymous (unnamed) function used for short tasks.  \n",
    "They can have any number of aguments bbut only one expression.  \n",
    "They are used for short Operations."
   ]
  },
  {
   "cell_type": "markdown",
   "id": "90eb527f-f43c-4daa-930f-e54067846e1f",
   "metadata": {},
   "source": [
    "### syntax:"
   ]
  },
  {
   "cell_type": "markdown",
   "id": "721d47f2-1a2d-440c-9294-226f27a9f695",
   "metadata": {},
   "source": [
    "#### argument : expression"
   ]
  },
  {
   "cell_type": "code",
   "execution_count": 3,
   "id": "6da48061-0b6f-4f79-8fdf-757eee2b2576",
   "metadata": {},
   "outputs": [],
   "source": [
    "def addition(a,b):\n",
    "    return a+b"
   ]
  },
  {
   "cell_type": "code",
   "execution_count": 4,
   "id": "fb6a062f-c87a-4d4c-b461-46325768b94c",
   "metadata": {},
   "outputs": [
    {
     "data": {
      "text/plain": [
       "7"
      ]
     },
     "execution_count": 4,
     "metadata": {},
     "output_type": "execute_result"
    }
   ],
   "source": [
    "addition(3,4)"
   ]
  },
  {
   "cell_type": "code",
   "execution_count": 2,
   "id": "c4d6b342-9ae8-43bd-8088-6c26ea0780ed",
   "metadata": {},
   "outputs": [
    {
     "name": "stdout",
     "output_type": "stream",
     "text": [
      "25\n"
     ]
    }
   ],
   "source": [
    "sq = lambda x:x**2\n",
    "print(sq(5))"
   ]
  },
  {
   "cell_type": "code",
   "execution_count": 6,
   "id": "e660004c-1b8a-4ec9-b5cd-e0c1c127c386",
   "metadata": {},
   "outputs": [
    {
     "name": "stdout",
     "output_type": "stream",
     "text": [
      "7\n"
     ]
    }
   ],
   "source": [
    "add = lambda a,b:a+b\n",
    "print(add(3,4))"
   ]
  },
  {
   "cell_type": "code",
   "execution_count": 8,
   "id": "59501209-b6bb-4bbf-9763-723db0b9754c",
   "metadata": {},
   "outputs": [],
   "source": [
    "def even(num):\n",
    "    if num%2==0:\n",
    "        print('num is even')\n",
    "    else:\n",
    "        print('num is odd')\n"
   ]
  },
  {
   "cell_type": "code",
   "execution_count": 9,
   "id": "a91215d3-0ef2-49b5-8c5c-fb17796e75b0",
   "metadata": {},
   "outputs": [
    {
     "name": "stdout",
     "output_type": "stream",
     "text": [
      "num is even\n"
     ]
    }
   ],
   "source": [
    "even(22)"
   ]
  },
  {
   "cell_type": "code",
   "execution_count": 10,
   "id": "cf413dcf-08d8-4958-9072-64b4dfe96c0e",
   "metadata": {},
   "outputs": [
    {
     "name": "stdout",
     "output_type": "stream",
     "text": [
      "True\n"
     ]
    }
   ],
   "source": [
    "even = lambda x:x%2==0\n",
    "print(even(22))"
   ]
  },
  {
   "cell_type": "code",
   "execution_count": 11,
   "id": "717b58b2-cf71-420c-80ac-983a90ea5903",
   "metadata": {},
   "outputs": [],
   "source": [
    "def addition(x,y,z):\n",
    "    return x+y+z"
   ]
  },
  {
   "cell_type": "code",
   "execution_count": 12,
   "id": "4b0d079c-c124-44e8-a640-78e5cb22faf2",
   "metadata": {},
   "outputs": [
    {
     "data": {
      "text/plain": [
       "12"
      ]
     },
     "execution_count": 12,
     "metadata": {},
     "output_type": "execute_result"
    }
   ],
   "source": [
    "addition(3,4,5)"
   ]
  },
  {
   "cell_type": "code",
   "execution_count": 14,
   "id": "2b15ba09-79fb-48fe-9061-0c30f50af6eb",
   "metadata": {},
   "outputs": [
    {
     "name": "stdout",
     "output_type": "stream",
     "text": [
      "12\n"
     ]
    }
   ],
   "source": [
    "add = lambda x,y,z : x+y+z\n",
    "print(add(3,4,5))"
   ]
  },
  {
   "cell_type": "code",
   "execution_count": 17,
   "id": "42c61fe1-f715-4060-945d-152392a8d9cb",
   "metadata": {},
   "outputs": [
    {
     "name": "stdout",
     "output_type": "stream",
     "text": [
      "[1, 4, 9, 16, 25, 36, 49, 64]\n"
     ]
    }
   ],
   "source": [
    "numbers = [1,2,3,4,5,6,7,8]\n",
    "sq = map(lambda x:x**2,numbers)\n",
    "print(list(sq))"
   ]
  },
  {
   "cell_type": "code",
   "execution_count": null,
   "id": "549ad6f5-b143-40aa-941a-eccc6dbaa230",
   "metadata": {},
   "outputs": [],
   "source": []
  }
 ],
 "metadata": {
  "kernelspec": {
   "display_name": "Python 3 (ipykernel)",
   "language": "python",
   "name": "python3"
  },
  "language_info": {
   "codemirror_mode": {
    "name": "ipython",
    "version": 3
   },
   "file_extension": ".py",
   "mimetype": "text/x-python",
   "name": "python",
   "nbconvert_exporter": "python",
   "pygments_lexer": "ipython3",
   "version": "3.13.5"
  }
 },
 "nbformat": 4,
 "nbformat_minor": 5
}
