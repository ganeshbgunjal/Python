{
 "cells": [
  {
   "cell_type": "markdown",
   "id": "c8b5c64b-6b15-4c72-a5a6-4c8a209bb89d",
   "metadata": {},
   "source": [
    "## Set:-- \n",
    "A set is a collection of unordered, unindexed, and unique elements. Sets are useful when you want to store non-duplicate items."
   ]
  },
  {
   "cell_type": "markdown",
   "id": "cd817f9a-7aa5-4f8c-9397-f5f9a485ee5b",
   "metadata": {},
   "source": [
    "#### Create empty set:-"
   ]
  },
  {
   "cell_type": "code",
   "execution_count": 1,
   "id": "e0db4eee-b499-4570-a3ab-eacf9511de90",
   "metadata": {},
   "outputs": [
    {
     "name": "stdout",
     "output_type": "stream",
     "text": [
      "<class 'set'>\n"
     ]
    }
   ],
   "source": [
    "empty_set = set()\n",
    "print(type(empty_set))"
   ]
  },
  {
   "cell_type": "code",
   "execution_count": 2,
   "id": "b747efbd-b6e8-405f-9ef5-4a7c4a36c283",
   "metadata": {},
   "outputs": [
    {
     "name": "stdout",
     "output_type": "stream",
     "text": [
      "{1, 2, 3, 4, 5, 6, 7}\n",
      "<class 'set'>\n"
     ]
    }
   ],
   "source": [
    "my_set = {1,2,3,4,5,6,7}\n",
    "print(my_set)\n",
    "print(type(my_set))"
   ]
  },
  {
   "cell_type": "code",
   "execution_count": 3,
   "id": "98610107-a0ad-4529-a2b4-794145afbf37",
   "metadata": {},
   "outputs": [
    {
     "name": "stdout",
     "output_type": "stream",
     "text": [
      "{1, 2, 3, 4, 'list'}\n",
      "<class 'set'>\n"
     ]
    }
   ],
   "source": [
    "list_to_set = set([1,2,2,2,3,4,\"list\"])\n",
    "print(list_to_set)\n",
    "print(type(list_to_set))"
   ]
  },
  {
   "cell_type": "markdown",
   "id": "996f46b6-d2e5-44b3-97dc-0bd1144b3504",
   "metadata": {},
   "source": [
    "### Basic Set Operations:\n",
    "1. Adding and Removing elements: "
   ]
  },
  {
   "cell_type": "code",
   "execution_count": 4,
   "id": "3f583d2a-8e2c-430d-95a3-95f96be0b16d",
   "metadata": {},
   "outputs": [
    {
     "name": "stdout",
     "output_type": "stream",
     "text": [
      "{1, 2, 3, 4, 5, 6, 7, 77}\n"
     ]
    }
   ],
   "source": [
    "my_set = {1,2,3,4,5,6,7}\n",
    "my_set.add(77)\n",
    "print(my_set)\n"
   ]
  },
  {
   "cell_type": "code",
   "execution_count": 5,
   "id": "b9c64a3f-b22b-4674-929d-49edb9f397c3",
   "metadata": {},
   "outputs": [
    {
     "name": "stdout",
     "output_type": "stream",
     "text": [
      "{1, 2, 3, 4, 5, 6, 7, 77}\n"
     ]
    }
   ],
   "source": [
    "my_set.add(77)\n",
    "print(my_set)"
   ]
  },
  {
   "cell_type": "markdown",
   "id": "b860115b-3465-44bb-b842-23139337c462",
   "metadata": {},
   "source": [
    "### Remove the elements:"
   ]
  },
  {
   "cell_type": "code",
   "execution_count": 6,
   "id": "f7408aaa-69b0-405d-84eb-d3471bb17e0c",
   "metadata": {},
   "outputs": [],
   "source": [
    "my_set.remove(5)"
   ]
  },
  {
   "cell_type": "code",
   "execution_count": 7,
   "id": "b538a14d-4b4d-4232-8269-93e6a68e75fe",
   "metadata": {},
   "outputs": [
    {
     "name": "stdout",
     "output_type": "stream",
     "text": [
      "{1, 2, 3, 4, 6, 7, 77}\n"
     ]
    }
   ],
   "source": [
    "print(my_set)   # element 5 is removed."
   ]
  },
  {
   "cell_type": "code",
   "execution_count": 8,
   "id": "c438b4af-8fd0-43e1-892f-e466539643ec",
   "metadata": {},
   "outputs": [
    {
     "ename": "KeyError",
     "evalue": "10",
     "output_type": "error",
     "traceback": [
      "\u001b[1;31m---------------------------------------------------------------------------\u001b[0m",
      "\u001b[1;31mKeyError\u001b[0m                                  Traceback (most recent call last)",
      "Cell \u001b[1;32mIn[8], line 1\u001b[0m\n\u001b[1;32m----> 1\u001b[0m my_set\u001b[38;5;241m.\u001b[39mremove(\u001b[38;5;241m10\u001b[39m)\n",
      "\u001b[1;31mKeyError\u001b[0m: 10"
     ]
    }
   ],
   "source": [
    "my_set.remove(10)"
   ]
  },
  {
   "cell_type": "markdown",
   "id": "d90d7b4f-5e4d-4f74-b1b4-68aeadf22099",
   "metadata": {},
   "source": [
    "one scenario is that if element is not present then it must not give any error:"
   ]
  },
  {
   "cell_type": "code",
   "execution_count": 9,
   "id": "421949ea-165e-41a8-a9aa-e1e046e4d41a",
   "metadata": {},
   "outputs": [],
   "source": [
    "my_set.discard(10)   #it has not shown any oytput means element is not present."
   ]
  },
  {
   "cell_type": "code",
   "execution_count": 10,
   "id": "c63456df-af2b-4529-ace6-f8686814d155",
   "metadata": {},
   "outputs": [
    {
     "name": "stdout",
     "output_type": "stream",
     "text": [
      "1\n"
     ]
    }
   ],
   "source": [
    "removed_ele = my_set.pop()\n",
    "print(removed_ele)"
   ]
  },
  {
   "cell_type": "code",
   "execution_count": 11,
   "id": "1c99d763-946f-4aeb-b540-73032b7fee8f",
   "metadata": {},
   "outputs": [
    {
     "name": "stdout",
     "output_type": "stream",
     "text": [
      "{2, 3, 4, 6, 7, 77}\n"
     ]
    }
   ],
   "source": [
    "print(my_set)"
   ]
  },
  {
   "cell_type": "markdown",
   "id": "2ba2ce53-1b69-404d-bd8b-5f0b8ac3fb12",
   "metadata": {},
   "source": [
    "#### If we want to clear all elements:"
   ]
  },
  {
   "cell_type": "code",
   "execution_count": 12,
   "id": "6c6ec770-43a2-4f15-9353-e6b5852231ef",
   "metadata": {},
   "outputs": [],
   "source": [
    "my_set.clear()"
   ]
  },
  {
   "cell_type": "code",
   "execution_count": 13,
   "id": "04319b36-2ee4-4bfd-a7f2-dbdbb7456b30",
   "metadata": {},
   "outputs": [
    {
     "name": "stdout",
     "output_type": "stream",
     "text": [
      "set()\n"
     ]
    }
   ],
   "source": [
    "print(my_set)"
   ]
  },
  {
   "cell_type": "markdown",
   "id": "4c941618-4a8f-4e00-a9a5-166342b59553",
   "metadata": {},
   "source": [
    "### Set Membership Test:--"
   ]
  },
  {
   "cell_type": "code",
   "execution_count": 14,
   "id": "cdc28ad2-e5e5-46dc-bac5-6f4fe006a2b5",
   "metadata": {},
   "outputs": [
    {
     "name": "stdout",
     "output_type": "stream",
     "text": [
      "True\n",
      "False\n"
     ]
    }
   ],
   "source": [
    "set1 = {1,2,3,4,5}\n",
    "print(3 in set1)\n",
    "print(10 in set1)"
   ]
  },
  {
   "cell_type": "markdown",
   "id": "a4324e16-39c2-45e2-8a66-d0a7ddcd5ee8",
   "metadata": {},
   "source": [
    "### Mathematical Operations:--"
   ]
  },
  {
   "cell_type": "code",
   "execution_count": 15,
   "id": "b0511d89-9870-471b-89a3-022941ba9308",
   "metadata": {},
   "outputs": [],
   "source": [
    "set1 = {1,2,3,4,5,6}\n",
    "set2 = {4,5,6,7,8,9}\n"
   ]
  },
  {
   "cell_type": "markdown",
   "id": "25ce4d63-bb35-4152-9ad7-426a8528d6d8",
   "metadata": {},
   "source": [
    "### 1. Union: \n",
    "all elements in both the sets excluding duplicates."
   ]
  },
  {
   "cell_type": "code",
   "execution_count": 16,
   "id": "41b202ee-3685-4a2a-a99d-c2f57787f138",
   "metadata": {},
   "outputs": [
    {
     "name": "stdout",
     "output_type": "stream",
     "text": [
      "{1, 2, 3, 4, 5, 6, 7, 8, 9}\n"
     ]
    }
   ],
   "source": [
    "set_union = set1.union(set2)\n",
    "print(set_union)"
   ]
  },
  {
   "cell_type": "markdown",
   "id": "a7bc6b21-e434-40c8-888b-b3a8aff28067",
   "metadata": {},
   "source": [
    "### 2. Intersection:-  \n",
    "Only common elements"
   ]
  },
  {
   "cell_type": "code",
   "execution_count": 17,
   "id": "0ccf0e8d-d974-4883-aa05-882b32f8393f",
   "metadata": {},
   "outputs": [
    {
     "name": "stdout",
     "output_type": "stream",
     "text": [
      "{4, 5, 6}\n"
     ]
    }
   ],
   "source": [
    "set_intersection = set1.intersection(set2)\n",
    "print(set_intersection)"
   ]
  },
  {
   "cell_type": "markdown",
   "id": "ef7c6dfd-18ab-4be8-be1e-8cb601d2e9dc",
   "metadata": {},
   "source": [
    "### 3. Difference:--\n",
    "contains elements that are in A but not in B."
   ]
  },
  {
   "cell_type": "code",
   "execution_count": 18,
   "id": "57c1c08f-befe-439b-ae5a-77a222d0da2f",
   "metadata": {},
   "outputs": [
    {
     "name": "stdout",
     "output_type": "stream",
     "text": [
      "{1, 2, 3}\n",
      "{8, 9, 7}\n"
     ]
    }
   ],
   "source": [
    "set_difference1 = set1.difference(set2)\n",
    "set_difference2 = set2.difference(set1)\n",
    "\n",
    "print(set_difference1)\n",
    "print(set_difference2)"
   ]
  },
  {
   "cell_type": "markdown",
   "id": "0df5027f-8946-479b-83a3-a8f859d8d1ca",
   "metadata": {},
   "source": [
    "### 4. Symmetric Difference:\n",
    "The symmetric difference between two sets returns a new set with elements that are in either of the sets, but not in both."
   ]
  },
  {
   "cell_type": "code",
   "execution_count": 19,
   "id": "4fdce957-16ec-471e-b30b-88e60e858e01",
   "metadata": {},
   "outputs": [
    {
     "name": "stdout",
     "output_type": "stream",
     "text": [
      "{1, 2, 3, 7, 8, 9}\n"
     ]
    }
   ],
   "source": [
    "set_symmetric_diff = set1.symmetric_difference(set2)\n",
    "print(set_symmetric_diff)"
   ]
  },
  {
   "cell_type": "markdown",
   "id": "9d5d8b90-403f-431e-90f8-93523eba43e3",
   "metadata": {},
   "source": [
    "#### Set Methods:--"
   ]
  },
  {
   "cell_type": "markdown",
   "id": "034fb47c-5087-455f-b2ed-9fbb8de4485b",
   "metadata": {},
   "source": [
    "#### Issubset Method:--\n",
    "The .issubset() method in Python is used with sets to check whether all elements of one set are present in another set."
   ]
  },
  {
   "cell_type": "code",
   "execution_count": 20,
   "id": "1803d693-3dc4-4534-82c3-70262d5d3b73",
   "metadata": {},
   "outputs": [],
   "source": [
    "set1 = {1,2,3}\n",
    "set2 = {3,4,5}"
   ]
  },
  {
   "cell_type": "code",
   "execution_count": 21,
   "id": "cd9041a3-488b-4e48-9d0b-2b6eb449edb5",
   "metadata": {},
   "outputs": [
    {
     "data": {
      "text/plain": [
       "False"
      ]
     },
     "execution_count": 21,
     "metadata": {},
     "output_type": "execute_result"
    }
   ],
   "source": [
    "set1.issubset(set2)"
   ]
  },
  {
   "cell_type": "code",
   "execution_count": 22,
   "id": "479fe6e7-6c46-49aa-b815-8b2b4aedd266",
   "metadata": {},
   "outputs": [],
   "source": [
    "set1 = {1,2,3}\n",
    "set2 = {1,2,3}"
   ]
  },
  {
   "cell_type": "code",
   "execution_count": 23,
   "id": "fb633f79-8f34-4a66-8a3a-198a56dfc194",
   "metadata": {},
   "outputs": [
    {
     "data": {
      "text/plain": [
       "True"
      ]
     },
     "execution_count": 23,
     "metadata": {},
     "output_type": "execute_result"
    }
   ],
   "source": [
    "set1.issubset(set2)"
   ]
  },
  {
   "cell_type": "markdown",
   "id": "157bd584-7a42-4599-bc86-934032f9aa1f",
   "metadata": {},
   "source": [
    "#### Issuperset method:-- \n",
    "whether is has all the element of set2 or not."
   ]
  },
  {
   "cell_type": "code",
   "execution_count": 24,
   "id": "c3ecd54f-de6a-4b04-9a32-f535b502da90",
   "metadata": {},
   "outputs": [],
   "source": [
    "set1 = {1, 2, 3, 4, 5}\n",
    "set2 = {2, 3}"
   ]
  },
  {
   "cell_type": "code",
   "execution_count": 25,
   "id": "eb79b26a-1291-4a08-a904-e9e211a88742",
   "metadata": {},
   "outputs": [
    {
     "name": "stdout",
     "output_type": "stream",
     "text": [
      "True\n",
      "False\n"
     ]
    }
   ],
   "source": [
    "print(set1.issuperset(set2))\n",
    "print(set2.issuperset(set1))"
   ]
  },
  {
   "cell_type": "code",
   "execution_count": 26,
   "id": "5610e424-dcad-4253-a3d8-98716aee833f",
   "metadata": {},
   "outputs": [],
   "source": [
    "lst = [1,2,2,3,4,4,5]"
   ]
  },
  {
   "cell_type": "code",
   "execution_count": 27,
   "id": "f2485b6f-9503-49ad-b411-03eb797ea739",
   "metadata": {},
   "outputs": [
    {
     "name": "stdout",
     "output_type": "stream",
     "text": [
      "{1, 2, 3, 4, 5}\n"
     ]
    }
   ],
   "source": [
    "set1 = set(lst)\n",
    "print(set1)"
   ]
  },
  {
   "cell_type": "markdown",
   "id": "10aa5bf5-bb86-415e-960e-a2c84b5e64af",
   "metadata": {},
   "source": [
    "#### Counting unique words in the text:-"
   ]
  },
  {
   "cell_type": "code",
   "execution_count": 28,
   "id": "ae11dce6-8a36-4086-887b-68b7ea116fa4",
   "metadata": {},
   "outputs": [
    {
     "name": "stdout",
     "output_type": "stream",
     "text": [
      "{'this', 'about', 'sets', 'discussing', 'we', 'are', 'In', 'tutoial'}\n",
      "Length of words: 8\n"
     ]
    }
   ],
   "source": [
    "text = \"In this tutoial we are discussing about are sets\"\n",
    "words = text.split()\n",
    "\n",
    "#convert list of words to the set to get unique words.\n",
    "unique_words = set(words)\n",
    "print(unique_words)\n",
    "print(f'Length of words: {len(set(words))}')"
   ]
  },
  {
   "cell_type": "code",
   "execution_count": null,
   "id": "f45d0d97-305e-444b-96fc-d1bbc20042df",
   "metadata": {},
   "outputs": [],
   "source": []
  }
 ],
 "metadata": {
  "kernelspec": {
   "display_name": "Python 3 (ipykernel)",
   "language": "python",
   "name": "python3"
  },
  "language_info": {
   "codemirror_mode": {
    "name": "ipython",
    "version": 3
   },
   "file_extension": ".py",
   "mimetype": "text/x-python",
   "name": "python",
   "nbconvert_exporter": "python",
   "pygments_lexer": "ipython3",
   "version": "3.13.5"
  }
 },
 "nbformat": 4,
 "nbformat_minor": 5
}
