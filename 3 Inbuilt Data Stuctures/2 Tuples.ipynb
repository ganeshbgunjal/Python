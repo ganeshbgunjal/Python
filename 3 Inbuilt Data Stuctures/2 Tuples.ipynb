{
 "cells": [
  {
   "cell_type": "markdown",
   "id": "3d1609ce-4b30-4c25-8217-4c1d6def3966",
   "metadata": {},
   "source": [
    "## Tuples:--\n",
    "A tuple in Python is a collection of ordered, immutable (unchangeable) elements. It is very similar to a list, but with one key difference: once a tuple is created, you cannot change its elements (i.e., you can’t add, remove, or modify items in it)."
   ]
  },
  {
   "cell_type": "markdown",
   "id": "a1801eb5-c5ae-4ea3-a3a0-122e912a7376",
   "metadata": {},
   "source": [
    "### Creating the Tuple:-"
   ]
  },
  {
   "cell_type": "code",
   "execution_count": 1,
   "id": "06ee2b02-d2ed-40ad-be1b-4c8a9b8c5823",
   "metadata": {},
   "outputs": [
    {
     "name": "stdout",
     "output_type": "stream",
     "text": [
      "()\n",
      "<class 'tuple'>\n"
     ]
    }
   ],
   "source": [
    "empty_tuple = ()\n",
    "print(empty_tuple)\n",
    "print(type(empty_tuple))"
   ]
  },
  {
   "cell_type": "code",
   "execution_count": 2,
   "id": "bf581224-16c7-4fd5-8d91-3d07ce265429",
   "metadata": {},
   "outputs": [],
   "source": [
    "tup = (1,2,3,4,5,\"Ganesh\",23.4)"
   ]
  },
  {
   "cell_type": "code",
   "execution_count": 3,
   "id": "f50f8a34-4d7a-400c-9007-91e7c1c44806",
   "metadata": {},
   "outputs": [
    {
     "name": "stdout",
     "output_type": "stream",
     "text": [
      "(1, 2, 3, 4, 5, 'Ganesh', 23.4)\n",
      "<class 'tuple'>\n"
     ]
    }
   ],
   "source": [
    "print(tup)\n",
    "print(type(tup))"
   ]
  },
  {
   "cell_type": "code",
   "execution_count": 4,
   "id": "fa353257-ad88-4921-8d8a-730b8a4c7aff",
   "metadata": {},
   "outputs": [
    {
     "name": "stdout",
     "output_type": "stream",
     "text": [
      "(1, 2, 3, 4, 5, 56)\n",
      "<class 'tuple'>\n"
     ]
    }
   ],
   "source": [
    "tup1 = tuple([1,2,3,4,5,56])\n",
    "print(tup1)\n",
    "print(type(tup1))"
   ]
  },
  {
   "cell_type": "markdown",
   "id": "b24fd340-1b32-4e93-95a1-38543e45a911",
   "metadata": {},
   "source": [
    "### Accessing tuple elements:--"
   ]
  },
  {
   "cell_type": "code",
   "execution_count": 5,
   "id": "3bf14d25-4a97-4de5-bb1f-de6ebe7ab5dc",
   "metadata": {},
   "outputs": [],
   "source": [
    "tup = (1,2,3,4,5,\"Ganesh\",23.4)"
   ]
  },
  {
   "cell_type": "code",
   "execution_count": 6,
   "id": "bce554af-5dc2-4eba-806a-e380f243654c",
   "metadata": {},
   "outputs": [
    {
     "name": "stdout",
     "output_type": "stream",
     "text": [
      "4\n"
     ]
    }
   ],
   "source": [
    "print(tup[3])"
   ]
  },
  {
   "cell_type": "code",
   "execution_count": 7,
   "id": "c4ce1288-9b65-4feb-8512-039cf460e212",
   "metadata": {},
   "outputs": [
    {
     "data": {
      "text/plain": [
       "'Ganesh'"
      ]
     },
     "execution_count": 7,
     "metadata": {},
     "output_type": "execute_result"
    }
   ],
   "source": [
    "tup[5]"
   ]
  },
  {
   "cell_type": "code",
   "execution_count": 8,
   "id": "af20fbd3-1013-4195-a3f2-20319ea129b3",
   "metadata": {},
   "outputs": [
    {
     "name": "stdout",
     "output_type": "stream",
     "text": [
      "23.4\n"
     ]
    }
   ],
   "source": [
    "print(tup[-1])   #print last element."
   ]
  },
  {
   "cell_type": "code",
   "execution_count": 9,
   "id": "bb3c8f17-e7ec-42dd-bc8f-8ab382b611c3",
   "metadata": {},
   "outputs": [
    {
     "name": "stdout",
     "output_type": "stream",
     "text": [
      "(23.4, 'Ganesh', 5, 4, 3, 2, 1)\n"
     ]
    }
   ],
   "source": [
    "print(tup[::-1])    #reverse of the tuple."
   ]
  },
  {
   "cell_type": "code",
   "execution_count": 10,
   "id": "24cbaea1-ca42-4431-bcd2-76227b6aa8ee",
   "metadata": {},
   "outputs": [
    {
     "name": "stdout",
     "output_type": "stream",
     "text": [
      "(1, 2, 3, 4, 5, 'Ganesh', 23.4, 1, 2, 3, 4, 5, 56)\n"
     ]
    }
   ],
   "source": [
    "concatenate_tuple = tup + tup1\n",
    "print(concatenate_tuple)"
   ]
  },
  {
   "cell_type": "code",
   "execution_count": 11,
   "id": "bbfaf913-f871-491c-bb5e-ba760e10ff77",
   "metadata": {},
   "outputs": [
    {
     "data": {
      "text/plain": [
       "(1,\n",
       " 2,\n",
       " 3,\n",
       " 4,\n",
       " 5,\n",
       " 'Ganesh',\n",
       " 23.4,\n",
       " 1,\n",
       " 2,\n",
       " 3,\n",
       " 4,\n",
       " 5,\n",
       " 'Ganesh',\n",
       " 23.4,\n",
       " 1,\n",
       " 2,\n",
       " 3,\n",
       " 4,\n",
       " 5,\n",
       " 'Ganesh',\n",
       " 23.4)"
      ]
     },
     "execution_count": 11,
     "metadata": {},
     "output_type": "execute_result"
    }
   ],
   "source": [
    "tup * 3"
   ]
  },
  {
   "cell_type": "markdown",
   "id": "07e19a16-9308-4bc1-aaf2-0fdbca493b11",
   "metadata": {},
   "source": [
    "#### Immutable nature of Tuples:-- "
   ]
  },
  {
   "cell_type": "code",
   "execution_count": 12,
   "id": "59f6ffe0-3f5d-4713-8107-aceb3afab27e",
   "metadata": {},
   "outputs": [],
   "source": [
    "tup = (1,2,3,6,5,4,7,8)"
   ]
  },
  {
   "cell_type": "code",
   "execution_count": 13,
   "id": "e40fe349-c6ec-47bb-a980-376ab94adba6",
   "metadata": {},
   "outputs": [
    {
     "name": "stdout",
     "output_type": "stream",
     "text": [
      "<class 'tuple'>\n",
      "(1, 2, 3, 6, 5, 4, 7, 8)\n"
     ]
    }
   ],
   "source": [
    "print(type(tup))\n",
    "print(tup)"
   ]
  },
  {
   "cell_type": "code",
   "execution_count": 14,
   "id": "df6cd10e-07f6-489a-9383-417851ff33fb",
   "metadata": {},
   "outputs": [
    {
     "ename": "TypeError",
     "evalue": "'tuple' object does not support item assignment",
     "output_type": "error",
     "traceback": [
      "\u001b[1;31m---------------------------------------------------------------------------\u001b[0m",
      "\u001b[1;31mTypeError\u001b[0m                                 Traceback (most recent call last)",
      "Cell \u001b[1;32mIn[14], line 1\u001b[0m\n\u001b[1;32m----> 1\u001b[0m tup[\u001b[38;5;241m4\u001b[39m] \u001b[38;5;241m=\u001b[39m \u001b[38;5;241m25\u001b[39m\n",
      "\u001b[1;31mTypeError\u001b[0m: 'tuple' object does not support item assignment"
     ]
    }
   ],
   "source": [
    "tup[4] = 25     #this is immutable nature of tuple. they cant be changed once they created."
   ]
  },
  {
   "cell_type": "code",
   "execution_count": 15,
   "id": "91a094b7-8610-400b-a725-57bb4079ebdc",
   "metadata": {},
   "outputs": [],
   "source": [
    "lst =  [1,2,3,6,5,4,7,8]"
   ]
  },
  {
   "cell_type": "code",
   "execution_count": 16,
   "id": "b0427a5e-54bd-4d54-a36b-9e9026ea7f73",
   "metadata": {},
   "outputs": [
    {
     "name": "stdout",
     "output_type": "stream",
     "text": [
      "<class 'list'>\n",
      "[1, 2, 3, 6, 5, 4, 7, 8]\n"
     ]
    }
   ],
   "source": [
    "print(type(lst))\n",
    "print(lst)"
   ]
  },
  {
   "cell_type": "code",
   "execution_count": 17,
   "id": "67d5fb31-8806-48ac-8a4b-4c30d91d277b",
   "metadata": {},
   "outputs": [],
   "source": [
    "lst[4] = 55     #list is not immmutable."
   ]
  },
  {
   "cell_type": "code",
   "execution_count": 18,
   "id": "bae923d4-a2e5-424a-8b74-22ee6cb9c23d",
   "metadata": {},
   "outputs": [
    {
     "name": "stdout",
     "output_type": "stream",
     "text": [
      "[1, 2, 3, 6, 55, 4, 7, 8]\n"
     ]
    }
   ],
   "source": [
    "print(lst)"
   ]
  },
  {
   "cell_type": "code",
   "execution_count": 19,
   "id": "299680d4-60d9-4fae-b9d9-21d87a77fe27",
   "metadata": {},
   "outputs": [],
   "source": [
    "tup = (1,2,2,2,3,6,55,4,7,8)"
   ]
  },
  {
   "cell_type": "code",
   "execution_count": 20,
   "id": "68f43b25-0a85-4203-a383-1228cf88ddea",
   "metadata": {},
   "outputs": [
    {
     "data": {
      "text/plain": [
       "3"
      ]
     },
     "execution_count": 20,
     "metadata": {},
     "output_type": "execute_result"
    }
   ],
   "source": [
    "tup.count(2)    #it will give count of number 2."
   ]
  },
  {
   "cell_type": "code",
   "execution_count": 21,
   "id": "06758932-da53-40c8-9db9-455b0a12e45a",
   "metadata": {},
   "outputs": [
    {
     "data": {
      "text/plain": [
       "6"
      ]
     },
     "execution_count": 21,
     "metadata": {},
     "output_type": "execute_result"
    }
   ],
   "source": [
    "tup.index(55)   #index of element 55."
   ]
  },
  {
   "cell_type": "markdown",
   "id": "3cb8799b-bace-4f12-aec4-3a27916fc174",
   "metadata": {},
   "source": [
    "### Packing and Unpacking Tuple:--"
   ]
  },
  {
   "cell_type": "code",
   "execution_count": 22,
   "id": "2b7f0ba1-b657-433b-a0f1-82df91e5235b",
   "metadata": {},
   "outputs": [
    {
     "name": "stdout",
     "output_type": "stream",
     "text": [
      "(1, 2, 'Ganesh', 23.5)\n",
      "<class 'tuple'>\n"
     ]
    }
   ],
   "source": [
    "packed_tuple = 1,2,'Ganesh',23.5\n",
    "print(packed_tuple)\n",
    "print(type(packed_tuple))"
   ]
  },
  {
   "cell_type": "code",
   "execution_count": 23,
   "id": "06b9fcc6-43b5-46ad-841d-9a9bd839fc41",
   "metadata": {},
   "outputs": [],
   "source": [
    "a,b,c,d = packed_tuple"
   ]
  },
  {
   "cell_type": "code",
   "execution_count": 24,
   "id": "a29646e0-2cc8-4a5a-a7c0-cde2e0cb3ab6",
   "metadata": {},
   "outputs": [
    {
     "data": {
      "text/plain": [
       "1"
      ]
     },
     "execution_count": 24,
     "metadata": {},
     "output_type": "execute_result"
    }
   ],
   "source": [
    "a"
   ]
  },
  {
   "cell_type": "code",
   "execution_count": 25,
   "id": "5e9973e6-494c-46e0-bd30-bfb0ef4358d4",
   "metadata": {},
   "outputs": [
    {
     "data": {
      "text/plain": [
       "2"
      ]
     },
     "execution_count": 25,
     "metadata": {},
     "output_type": "execute_result"
    }
   ],
   "source": [
    "b"
   ]
  },
  {
   "cell_type": "code",
   "execution_count": 26,
   "id": "461b5e1f-b487-4746-add9-5f051dff235c",
   "metadata": {},
   "outputs": [
    {
     "data": {
      "text/plain": [
       "'Ganesh'"
      ]
     },
     "execution_count": 26,
     "metadata": {},
     "output_type": "execute_result"
    }
   ],
   "source": [
    "c"
   ]
  },
  {
   "cell_type": "code",
   "execution_count": 27,
   "id": "5f712c03-d88b-4ab3-856b-6363e54be4ad",
   "metadata": {},
   "outputs": [
    {
     "name": "stdout",
     "output_type": "stream",
     "text": [
      "1\n",
      "[2, 3, 4, 5]\n",
      "6\n"
     ]
    }
   ],
   "source": [
    "numbers = (1,2,3,4,5,6)\n",
    "first,*middle,last = numbers\n",
    "print(first)\n",
    "print(middle)\n",
    "print(last)"
   ]
  },
  {
   "cell_type": "markdown",
   "id": "8ea83849-e408-4896-84d9-6c1a6808794a",
   "metadata": {},
   "source": [
    "### Nested Tuples:--\n",
    "Tuple inside tuple is nested tuple."
   ]
  },
  {
   "cell_type": "code",
   "execution_count": 28,
   "id": "b5885245-0721-4509-8650-cee889182d2f",
   "metadata": {},
   "outputs": [],
   "source": [
    "lst = [[1,2,3],[4,5,6],[7,8,9],[11,'Ganesh',3.14]]\n"
   ]
  },
  {
   "cell_type": "code",
   "execution_count": 29,
   "id": "562f1ed6-a0f4-4ba8-b0c0-68fac67af0a0",
   "metadata": {},
   "outputs": [
    {
     "data": {
      "text/plain": [
       "[7, 8, 9]"
      ]
     },
     "execution_count": 29,
     "metadata": {},
     "output_type": "execute_result"
    }
   ],
   "source": [
    "lst[2]"
   ]
  },
  {
   "cell_type": "code",
   "execution_count": 30,
   "id": "8a5dfbf4-b805-4ba9-975c-4c7e21a69b66",
   "metadata": {},
   "outputs": [
    {
     "data": {
      "text/plain": [
       "9"
      ]
     },
     "execution_count": 30,
     "metadata": {},
     "output_type": "execute_result"
    }
   ],
   "source": [
    "lst[2][2]"
   ]
  },
  {
   "cell_type": "code",
   "execution_count": 31,
   "id": "9adbd391-f325-447b-bc36-523c01657416",
   "metadata": {},
   "outputs": [
    {
     "data": {
      "text/plain": [
       "'Ganesh'"
      ]
     },
     "execution_count": 31,
     "metadata": {},
     "output_type": "execute_result"
    }
   ],
   "source": [
    "lst[3][1]"
   ]
  },
  {
   "cell_type": "code",
   "execution_count": 32,
   "id": "be01205f-23b3-4074-a1f8-21fe85a6a408",
   "metadata": {},
   "outputs": [
    {
     "data": {
      "text/plain": [
       "[4, 5, 6]"
      ]
     },
     "execution_count": 32,
     "metadata": {},
     "output_type": "execute_result"
    }
   ],
   "source": [
    "lst[1][0:3]"
   ]
  },
  {
   "cell_type": "code",
   "execution_count": 33,
   "id": "17b6fa73-6a06-427a-b150-c3225c38668b",
   "metadata": {},
   "outputs": [],
   "source": [
    "nested_tuple = ((1,2,3),('a','b','c'),(True,False))\n"
   ]
  },
  {
   "cell_type": "code",
   "execution_count": 34,
   "id": "27b834e0-d9db-4a11-99bb-abba158fa83c",
   "metadata": {},
   "outputs": [
    {
     "name": "stdout",
     "output_type": "stream",
     "text": [
      "(1, 2, 3)\n"
     ]
    }
   ],
   "source": [
    "print(nested_tuple[0])"
   ]
  },
  {
   "cell_type": "code",
   "execution_count": 35,
   "id": "1889622e-051c-4de0-80c3-d8ddec1d0e01",
   "metadata": {},
   "outputs": [
    {
     "name": "stdout",
     "output_type": "stream",
     "text": [
      "c\n"
     ]
    }
   ],
   "source": [
    "print(nested_tuple[1][2])"
   ]
  },
  {
   "cell_type": "markdown",
   "id": "2e61175a-a871-4673-b3ae-bf4f93619193",
   "metadata": {},
   "source": [
    "### Iterating thr nested tuples:--"
   ]
  },
  {
   "cell_type": "code",
   "execution_count": 36,
   "id": "b0482d8b-582f-4117-a588-461bb2db7315",
   "metadata": {},
   "outputs": [
    {
     "name": "stdout",
     "output_type": "stream",
     "text": [
      "1\n",
      "2\n",
      "3\n",
      "a\n",
      "b\n",
      "c\n",
      "True\n",
      "False\n"
     ]
    }
   ],
   "source": [
    "for sub_tuple in nested_tuple:\n",
    "    for item in sub_tuple:\n",
    "        print(item)"
   ]
  },
  {
   "cell_type": "code",
   "execution_count": 37,
   "id": "1e7c9031-ce13-4d05-9f29-769fa56fca4b",
   "metadata": {},
   "outputs": [
    {
     "name": "stdout",
     "output_type": "stream",
     "text": [
      "(1, 2, 3)\n",
      "('a', 'b', 'c')\n",
      "(True, False)\n"
     ]
    }
   ],
   "source": [
    "for item in nested_tuple:\n",
    "    print(item)"
   ]
  },
  {
   "cell_type": "code",
   "execution_count": null,
   "id": "d19d9769-f66e-41ce-82ed-c1428516d001",
   "metadata": {},
   "outputs": [],
   "source": []
  },
  {
   "cell_type": "code",
   "execution_count": null,
   "id": "7f79f0ff-90ac-41c4-bc0e-39d89daf0233",
   "metadata": {},
   "outputs": [],
   "source": []
  }
 ],
 "metadata": {
  "kernelspec": {
   "display_name": "Python 3 (ipykernel)",
   "language": "python",
   "name": "python3"
  },
  "language_info": {
   "codemirror_mode": {
    "name": "ipython",
    "version": 3
   },
   "file_extension": ".py",
   "mimetype": "text/x-python",
   "name": "python",
   "nbconvert_exporter": "python",
   "pygments_lexer": "ipython3",
   "version": "3.13.5"
  }
 },
 "nbformat": 4,
 "nbformat_minor": 5
}
