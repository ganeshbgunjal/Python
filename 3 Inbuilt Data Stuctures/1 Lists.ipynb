{
 "cells": [
  {
   "cell_type": "markdown",
   "id": "ef0793d1-75d4-4fe6-b679-e16ed32687fc",
   "metadata": {},
   "source": [
    "## Lists:--"
   ]
  },
  {
   "cell_type": "markdown",
   "id": "16b82718-19cc-425d-b68f-655c3028ff98",
   "metadata": {},
   "source": [
    "A list is a built-in data structure used to store a collection of items in a single variable.\n",
    "Lists are:\n",
    "\n",
    "    1. Ordered: Items have a defined order.\n",
    "\n",
    "    2. Mutable: You can change, add, or remove items after the list is created.\n",
    "\n",
    "    3. Allow duplicates: The same value can appear more than once.\n",
    "\n",
    "    4. Can hold any data type: Including numbers, strings, or even other lists."
   ]
  },
  {
   "cell_type": "code",
   "execution_count": 1,
   "id": "3984d0bb-932a-4920-b689-380aa2972a5c",
   "metadata": {},
   "outputs": [
    {
     "name": "stdout",
     "output_type": "stream",
     "text": [
      "['Ganesh', 'Dilip', 'Amol']\n",
      "<class 'list'>\n"
     ]
    }
   ],
   "source": [
    "name = ['Ganesh','Dilip','Amol']\n",
    "print(name)\n",
    "print(type(name))"
   ]
  },
  {
   "cell_type": "code",
   "execution_count": 2,
   "id": "2b2ee297-58ea-4b8e-b7c6-e91a5006bbfa",
   "metadata": {},
   "outputs": [
    {
     "data": {
      "text/plain": [
       "'Ganesh'"
      ]
     },
     "execution_count": 2,
     "metadata": {},
     "output_type": "execute_result"
    }
   ],
   "source": [
    "name[0]"
   ]
  },
  {
   "cell_type": "code",
   "execution_count": 3,
   "id": "a0fb1aba-f2a8-429c-9214-632a0f53301a",
   "metadata": {},
   "outputs": [
    {
     "data": {
      "text/plain": [
       "'Dilip'"
      ]
     },
     "execution_count": 3,
     "metadata": {},
     "output_type": "execute_result"
    }
   ],
   "source": [
    "name[1]"
   ]
  },
  {
   "cell_type": "markdown",
   "id": "77216eab-dd6c-4c30-882d-f9f46ba90c65",
   "metadata": {},
   "source": [
    "### list with differnt data type:"
   ]
  },
  {
   "cell_type": "code",
   "execution_count": 4,
   "id": "d08d58ed-06be-4559-bc40-3bcaef2f6756",
   "metadata": {},
   "outputs": [],
   "source": [
    "village = ['Panchakeshwar',12,23.1,True]"
   ]
  },
  {
   "cell_type": "code",
   "execution_count": 5,
   "id": "4c2d9857-1ec9-4fe9-99e8-25782b9372fe",
   "metadata": {},
   "outputs": [
    {
     "data": {
      "text/plain": [
       "['Panchakeshwar', 12, 23.1, True]"
      ]
     },
     "execution_count": 5,
     "metadata": {},
     "output_type": "execute_result"
    }
   ],
   "source": [
    "village"
   ]
  },
  {
   "cell_type": "code",
   "execution_count": 8,
   "id": "2bdcb3fe-4ed2-401e-b42c-63d89a897d58",
   "metadata": {},
   "outputs": [],
   "source": [
    "fruits = ['apple','mango','cherry','banana','guava']"
   ]
  },
  {
   "cell_type": "code",
   "execution_count": 9,
   "id": "187cdbda-02d3-49c6-8bd2-e80a8b0b9cd5",
   "metadata": {},
   "outputs": [
    {
     "name": "stdout",
     "output_type": "stream",
     "text": [
      "apple\n",
      "mango\n",
      "guava\n",
      "guava\n"
     ]
    }
   ],
   "source": [
    "print(fruits[0])\n",
    "print(fruits[1])\n",
    "print(fruits[4])\n",
    "print(fruits[-1])   #last element"
   ]
  },
  {
   "cell_type": "markdown",
   "id": "5ddad4ca-423c-4740-b155-9bd1520d98e0",
   "metadata": {},
   "source": [
    "### list slicing"
   ]
  },
  {
   "cell_type": "code",
   "execution_count": 6,
   "id": "7612d1d8-7478-4401-8fe0-ecce0015e965",
   "metadata": {},
   "outputs": [],
   "source": [
    "fruits = ['apple','mango','cherry','banana','guava']"
   ]
  },
  {
   "cell_type": "code",
   "execution_count": 11,
   "id": "9140d439-b066-4f9a-99fb-cf7a6da87e60",
   "metadata": {},
   "outputs": [
    {
     "data": {
      "text/plain": [
       "['mango', 'cherry', 'banana', 'guava']"
      ]
     },
     "execution_count": 11,
     "metadata": {},
     "output_type": "execute_result"
    }
   ],
   "source": [
    "fruits[1:5]    #5 is excluded"
   ]
  },
  {
   "cell_type": "code",
   "execution_count": 12,
   "id": "3fc1d1a6-8193-4cc3-a9d9-b2a72bf6cf70",
   "metadata": {},
   "outputs": [
    {
     "data": {
      "text/plain": [
       "['mango', 'cherry']"
      ]
     },
     "execution_count": 12,
     "metadata": {},
     "output_type": "execute_result"
    }
   ],
   "source": [
    "fruits[1:3]"
   ]
  },
  {
   "cell_type": "code",
   "execution_count": 13,
   "id": "9dbf5023-4d8d-48af-b42c-9214e05a0ade",
   "metadata": {},
   "outputs": [
    {
     "data": {
      "text/plain": [
       "['guava']"
      ]
     },
     "execution_count": 13,
     "metadata": {},
     "output_type": "execute_result"
    }
   ],
   "source": [
    "fruits[-1:]"
   ]
  },
  {
   "cell_type": "code",
   "execution_count": 14,
   "id": "07f6c2a5-afda-4dc7-a5a1-ddac1422e8bd",
   "metadata": {},
   "outputs": [
    {
     "data": {
      "text/plain": [
       "[]"
      ]
     },
     "execution_count": 14,
     "metadata": {},
     "output_type": "execute_result"
    }
   ],
   "source": [
    "fruits[-1:-4]"
   ]
  },
  {
   "cell_type": "code",
   "execution_count": 16,
   "id": "f42b3059-0362-42b5-a03e-356fb18654ff",
   "metadata": {},
   "outputs": [
    {
     "data": {
      "text/plain": [
       "['mango', 'cherry', 'banana']"
      ]
     },
     "execution_count": 16,
     "metadata": {},
     "output_type": "execute_result"
    }
   ],
   "source": [
    "fruits[-4:-1]    #here -1 is also excluded"
   ]
  },
  {
   "cell_type": "code",
   "execution_count": 18,
   "id": "d3657bbd-ceaf-4b9e-8230-ad502c1861fa",
   "metadata": {},
   "outputs": [
    {
     "data": {
      "text/plain": [
       "['guava', 'banana', 'cherry']"
      ]
     },
     "execution_count": 18,
     "metadata": {},
     "output_type": "execute_result"
    }
   ],
   "source": [
    "fruits[-1:-4:-1]    #see this trick"
   ]
  },
  {
   "cell_type": "markdown",
   "id": "a0dff24d-bc5c-462f-8e71-1eadb6ae297d",
   "metadata": {},
   "source": [
    "### Modifying the list element:"
   ]
  },
  {
   "cell_type": "code",
   "execution_count": 19,
   "id": "26571a5a-d241-4bb7-a883-a3226364540c",
   "metadata": {},
   "outputs": [],
   "source": [
    "fruits = ['apple','mango','cherry','banana','guava']"
   ]
  },
  {
   "cell_type": "code",
   "execution_count": 20,
   "id": "811d61f4-218d-4478-ae5f-7acb4c090c58",
   "metadata": {},
   "outputs": [],
   "source": [
    "fruits[0]='grapes'"
   ]
  },
  {
   "cell_type": "code",
   "execution_count": 21,
   "id": "45f2f35c-634d-4872-a548-4b95fe3446d7",
   "metadata": {},
   "outputs": [
    {
     "data": {
      "text/plain": [
       "['grapes', 'mango', 'cherry', 'banana', 'guava']"
      ]
     },
     "execution_count": 21,
     "metadata": {},
     "output_type": "execute_result"
    }
   ],
   "source": [
    "fruits"
   ]
  },
  {
   "cell_type": "code",
   "execution_count": null,
   "id": "c2b23cdb-85da-48dc-b35e-4a4af991f470",
   "metadata": {},
   "outputs": [],
   "source": []
  }
 ],
 "metadata": {
  "kernelspec": {
   "display_name": "Python 3 (ipykernel)",
   "language": "python",
   "name": "python3"
  },
  "language_info": {
   "codemirror_mode": {
    "name": "ipython",
    "version": 3
   },
   "file_extension": ".py",
   "mimetype": "text/x-python",
   "name": "python",
   "nbconvert_exporter": "python",
   "pygments_lexer": "ipython3",
   "version": "3.13.5"
  }
 },
 "nbformat": 4,
 "nbformat_minor": 5
}
