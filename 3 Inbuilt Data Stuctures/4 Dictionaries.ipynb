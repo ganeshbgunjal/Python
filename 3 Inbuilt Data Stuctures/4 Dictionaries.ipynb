{
 "cells": [
  {
   "cell_type": "markdown",
   "id": "b5a7e34a-b3b1-472f-a419-2c87f179909c",
   "metadata": {},
   "source": [
    "### Dictionaries:--"
   ]
  },
  {
   "cell_type": "markdown",
   "id": "85224b66-23df-48ff-8f91-4e907fc37b7d",
   "metadata": {},
   "source": [
    "A dictionary is a collection of key-value pairs.\n",
    "\n",
    "✅ Keys are unique  \n",
    "✅ Values can be duplicated  \n",
    "✅ Mutable (can be changed)  \n",
    "✅ Unordered"
   ]
  },
  {
   "cell_type": "code",
   "execution_count": 1,
   "id": "6953937e-bbba-4324-a6d3-943f48209aa7",
   "metadata": {},
   "outputs": [
    {
     "name": "stdout",
     "output_type": "stream",
     "text": [
      "<class 'dict'>\n"
     ]
    }
   ],
   "source": [
    "empty_dict = {}\n",
    "print(type(empty_dict))"
   ]
  },
  {
   "cell_type": "code",
   "execution_count": 2,
   "id": "1b32cd1d-f944-468c-9986-c6eb67f39b92",
   "metadata": {},
   "outputs": [],
   "source": [
    "empty_dict['Name'] = \"Ganesh\"\n",
    "empty_dict['Surname'] = \"Gunjal\"\n"
   ]
  },
  {
   "cell_type": "code",
   "execution_count": 3,
   "id": "f7cf3c2b-74c4-481e-ba29-3970f04d533a",
   "metadata": {},
   "outputs": [
    {
     "name": "stdout",
     "output_type": "stream",
     "text": [
      "{'Name': 'Ganesh', 'Surname': 'Gunjal'}\n"
     ]
    }
   ],
   "source": [
    "print(empty_dict)"
   ]
  },
  {
   "cell_type": "code",
   "execution_count": 4,
   "id": "acf0cb84-0d0a-4b71-b310-dd2920415ed5",
   "metadata": {},
   "outputs": [],
   "source": [
    "person = {\n",
    "    \"name\": \"Ganesh\",\n",
    "    \"age\": 33,\n",
    "    \"city\": \"Pune\"\n",
    "}"
   ]
  },
  {
   "cell_type": "markdown",
   "id": "3e470c7e-bccc-41b7-bfbb-300a09099aa5",
   "metadata": {},
   "source": [
    "#### Accessing Dictionary elements:--"
   ]
  },
  {
   "cell_type": "code",
   "execution_count": 5,
   "id": "39a4b2e5-29ba-4549-8914-bc0e260af8d2",
   "metadata": {},
   "outputs": [
    {
     "name": "stdout",
     "output_type": "stream",
     "text": [
      "Ganesh\n"
     ]
    }
   ],
   "source": [
    "print(person['name'])"
   ]
  },
  {
   "cell_type": "code",
   "execution_count": 6,
   "id": "e6ea8067-8034-4b4a-8bab-688e8d42e479",
   "metadata": {},
   "outputs": [
    {
     "name": "stdout",
     "output_type": "stream",
     "text": [
      "Pune\n"
     ]
    }
   ],
   "source": [
    "print(person['city'])"
   ]
  },
  {
   "cell_type": "markdown",
   "id": "d9b2c691-c205-4f51-9bd7-6d9d3d38360e",
   "metadata": {},
   "source": [
    "#### Accessing values using get() method:-- "
   ]
  },
  {
   "cell_type": "code",
   "execution_count": 7,
   "id": "118d3702-7fb1-47d3-811d-66e2a0597c1f",
   "metadata": {},
   "outputs": [
    {
     "data": {
      "text/plain": [
       "'Ganesh'"
      ]
     },
     "execution_count": 7,
     "metadata": {},
     "output_type": "execute_result"
    }
   ],
   "source": [
    "person.get('name')"
   ]
  },
  {
   "cell_type": "code",
   "execution_count": 8,
   "id": "24ad1df1-0cda-4859-bba3-8764a875a936",
   "metadata": {},
   "outputs": [],
   "source": [
    "person.get('Name')    # no result displayed yet this key is not present"
   ]
  },
  {
   "cell_type": "code",
   "execution_count": 9,
   "id": "28af9cff-a388-4765-9fa9-519aa2d05f36",
   "metadata": {},
   "outputs": [],
   "source": [
    "person.get('Sex')      # Sex key is not present still didnt show any error.  "
   ]
  },
  {
   "cell_type": "code",
   "execution_count": 10,
   "id": "2a946c4a-0354-496f-b340-2d7a0a7f566f",
   "metadata": {},
   "outputs": [
    {
     "data": {
      "text/plain": [
       "'Not Available'"
      ]
     },
     "execution_count": 10,
     "metadata": {},
     "output_type": "execute_result"
    }
   ],
   "source": [
    "person.get('last_name','Not Available')     #we gave by default value"
   ]
  },
  {
   "cell_type": "markdown",
   "id": "c4fceee0-33a4-40a4-a115-a03d23e5d1f1",
   "metadata": {},
   "source": [
    "#### Modifying Dictionaries elements:-- "
   ]
  },
  {
   "cell_type": "code",
   "execution_count": 11,
   "id": "19053566-9416-404a-a554-0bc3acea27c6",
   "metadata": {},
   "outputs": [],
   "source": [
    "student = {\n",
    "    \"Name\" : \"Ganesh\",\n",
    "    \"Surname\" : \"Gunjal\",\n",
    "    \"Age\" : 33\n",
    "}"
   ]
  },
  {
   "cell_type": "code",
   "execution_count": 12,
   "id": "ed456d76-d27a-4b39-afa0-5c68617c773a",
   "metadata": {},
   "outputs": [
    {
     "name": "stdout",
     "output_type": "stream",
     "text": [
      "33\n",
      "{'Name': 'Ganesh', 'Surname': 'Gunjal', 'Age': 33, 'Education': 'BE Computer'}\n"
     ]
    }
   ],
   "source": [
    "print(student['Age'])\n",
    "student['Education'] = 'BE Computer'\n",
    "print(student)"
   ]
  },
  {
   "cell_type": "markdown",
   "id": "85094c48-81d5-4551-9074-f1f72c2ad689",
   "metadata": {},
   "source": [
    "#### Delete the key from the dict:--"
   ]
  },
  {
   "cell_type": "code",
   "execution_count": 13,
   "id": "f37f5893-b25b-49a6-b235-31077243e1c8",
   "metadata": {},
   "outputs": [],
   "source": [
    "del student['Age']"
   ]
  },
  {
   "cell_type": "code",
   "execution_count": 14,
   "id": "f2910947-5967-4b86-8ce0-13c22238f331",
   "metadata": {},
   "outputs": [
    {
     "name": "stdout",
     "output_type": "stream",
     "text": [
      "{'Name': 'Ganesh', 'Surname': 'Gunjal', 'Education': 'BE Computer'}\n"
     ]
    }
   ],
   "source": [
    "print(student)"
   ]
  },
  {
   "cell_type": "markdown",
   "id": "4a16e824-d603-4840-998f-48d97d1e36e9",
   "metadata": {},
   "source": [
    "#### Getting all the keys and values from the dict:---"
   ]
  },
  {
   "cell_type": "code",
   "execution_count": 15,
   "id": "d82f46cd-fbe6-465e-ab0e-435f13c4765f",
   "metadata": {},
   "outputs": [
    {
     "name": "stdout",
     "output_type": "stream",
     "text": [
      "dict_keys(['Name', 'Surname', 'Education'])\n",
      "dict_values(['Ganesh', 'Gunjal', 'BE Computer'])\n"
     ]
    }
   ],
   "source": [
    "keys = student.keys()\n",
    "values = student.values()\n",
    "print(keys)\n",
    "print(values)"
   ]
  },
  {
   "cell_type": "code",
   "execution_count": 16,
   "id": "8175a010-6d33-4f49-bbab-8e349add58e4",
   "metadata": {},
   "outputs": [
    {
     "name": "stdout",
     "output_type": "stream",
     "text": [
      "dict_items([('Name', 'Ganesh'), ('Surname', 'Gunjal'), ('Education', 'BE Computer')])\n"
     ]
    }
   ],
   "source": [
    "items = student.items()\n",
    "print(items)"
   ]
  },
  {
   "cell_type": "markdown",
   "id": "02ee5325-5a57-4b43-9f83-8b1737320efc",
   "metadata": {},
   "source": [
    "#### Shallow Copy:--"
   ]
  },
  {
   "cell_type": "code",
   "execution_count": 17,
   "id": "5e8b5ed3-3728-458e-ac7b-c7102bb6be74",
   "metadata": {},
   "outputs": [],
   "source": [
    "student_copy = student"
   ]
  },
  {
   "cell_type": "code",
   "execution_count": 18,
   "id": "608b7fe4-312f-407e-87db-80ed117ad05a",
   "metadata": {},
   "outputs": [
    {
     "name": "stdout",
     "output_type": "stream",
     "text": [
      "{'Name': 'Ganesh', 'Surname': 'Gunjal', 'Education': 'BE Computer'}\n",
      "{'Name': 'Ganesh', 'Surname': 'Gunjal', 'Education': 'BE Computer'}\n"
     ]
    }
   ],
   "source": [
    "print(student)\n",
    "print(student_copy)"
   ]
  },
  {
   "cell_type": "code",
   "execution_count": 19,
   "id": "685c5b50-fd8e-40b7-992a-8b7b329e8239",
   "metadata": {},
   "outputs": [],
   "source": [
    "student['Name'] = 'Ganesh1'"
   ]
  },
  {
   "cell_type": "code",
   "execution_count": 20,
   "id": "c61954c2-d9a1-4c85-8ffa-61d61b65140f",
   "metadata": {},
   "outputs": [
    {
     "name": "stdout",
     "output_type": "stream",
     "text": [
      "{'Name': 'Ganesh1', 'Surname': 'Gunjal', 'Education': 'BE Computer'}\n",
      "{'Name': 'Ganesh1', 'Surname': 'Gunjal', 'Education': 'BE Computer'}\n"
     ]
    }
   ],
   "source": [
    "print(student)\n",
    "print(student_copy)"
   ]
  },
  {
   "cell_type": "code",
   "execution_count": 21,
   "id": "256a489e-cc4d-4a2b-9241-755e9201aab3",
   "metadata": {},
   "outputs": [
    {
     "name": "stdout",
     "output_type": "stream",
     "text": [
      "{'Name': 'Ganesh1', 'Surname': 'Gunjal', 'Education': 'BE Computer'}\n",
      "{'Name': 'Ganesh1', 'Surname': 'Gunjal', 'Education': 'BE Computer'}\n"
     ]
    }
   ],
   "source": [
    "student_copy2 = student.copy()\n",
    "print(student)\n",
    "print(student_copy2)"
   ]
  },
  {
   "cell_type": "code",
   "execution_count": 22,
   "id": "e61791e2-8ac9-4767-b0b5-58d936b9086a",
   "metadata": {},
   "outputs": [
    {
     "name": "stdout",
     "output_type": "stream",
     "text": [
      "{'Name': 'Ganeshh', 'Surname': 'Gunjal', 'Education': 'BE Computer'}\n",
      "{'Name': 'Ganesh1', 'Surname': 'Gunjal', 'Education': 'BE Computer'}\n"
     ]
    }
   ],
   "source": [
    "student[\"Name\"] = 'Ganeshh'\n",
    "print(student)\n",
    "print(student_copy2)      #this copy file is not updated."
   ]
  },
  {
   "cell_type": "markdown",
   "id": "3f6b21be-fcb0-40b4-99e5-83d35e149a6d",
   "metadata": {},
   "source": [
    "#### Iterating Over Dictionaries:---\n",
    "1. Iterating Over the keys:--"
   ]
  },
  {
   "cell_type": "code",
   "execution_count": 23,
   "id": "224d67d6-a01e-44da-a672-ef00f365e834",
   "metadata": {},
   "outputs": [
    {
     "name": "stdout",
     "output_type": "stream",
     "text": [
      "Name\n",
      "Surname\n",
      "Education\n"
     ]
    }
   ],
   "source": [
    "for keys in student.keys():\n",
    "    print(keys)"
   ]
  },
  {
   "cell_type": "markdown",
   "id": "af5ecca9-7858-4a04-b2ab-7bcf801b29ed",
   "metadata": {},
   "source": [
    "#### 2. Iterating Over Values:"
   ]
  },
  {
   "cell_type": "code",
   "execution_count": 24,
   "id": "6a6c907f-6cda-4a1a-96a1-9631570461a9",
   "metadata": {},
   "outputs": [
    {
     "name": "stdout",
     "output_type": "stream",
     "text": [
      "Ganeshh\n",
      "Gunjal\n",
      "BE Computer\n"
     ]
    }
   ],
   "source": [
    "for values in student.values():\n",
    "    print(values)"
   ]
  },
  {
   "cell_type": "markdown",
   "id": "b807f136-e2b5-447e-956f-07c188ba87e2",
   "metadata": {},
   "source": [
    "#### 3. Iterating Over Key: Value:--"
   ]
  },
  {
   "cell_type": "code",
   "execution_count": 25,
   "id": "a721dd0e-d730-4eae-b887-49d954f947dd",
   "metadata": {},
   "outputs": [
    {
     "name": "stdout",
     "output_type": "stream",
     "text": [
      "Name : Ganeshh\n",
      "Surname : Gunjal\n",
      "Education : BE Computer\n"
     ]
    }
   ],
   "source": [
    "for key,value in student.items():\n",
    "    print(key,':',value)"
   ]
  },
  {
   "cell_type": "markdown",
   "id": "b14e0c29-f295-42f1-bda3-86936bfb6012",
   "metadata": {},
   "source": [
    "### Nested Dictionaries:-- \n",
    "Dictionaries inside Dictionary:"
   ]
  },
  {
   "cell_type": "code",
   "execution_count": 26,
   "id": "c886f75a-e601-450b-a098-07d217b7019f",
   "metadata": {},
   "outputs": [],
   "source": [
    "students = {\n",
    "    'Student1' : {'name':'ganesh','age':32},\n",
    "    'Student2' : {'name': 'ganaa','age':33}\n",
    "}"
   ]
  },
  {
   "cell_type": "code",
   "execution_count": 27,
   "id": "fa8fb5ea-6691-4fa0-8389-ff3ca4386f0e",
   "metadata": {},
   "outputs": [
    {
     "name": "stdout",
     "output_type": "stream",
     "text": [
      "{'Student1': {'name': 'ganesh', 'age': 32}, 'Student2': {'name': 'ganaa', 'age': 33}}\n"
     ]
    }
   ],
   "source": [
    "print(students)"
   ]
  },
  {
   "cell_type": "markdown",
   "id": "6499ac99-ee7b-438b-90ac-5c1fc3933fce",
   "metadata": {},
   "source": [
    "#### Access Elements in Nested Dictionaries:"
   ]
  },
  {
   "cell_type": "code",
   "execution_count": 28,
   "id": "ae9c7101-8157-4d03-a301-9e8d4bce0ac2",
   "metadata": {},
   "outputs": [
    {
     "data": {
      "text/plain": [
       "33"
      ]
     },
     "execution_count": 28,
     "metadata": {},
     "output_type": "execute_result"
    }
   ],
   "source": [
    "students['Student2']['age']"
   ]
  },
  {
   "cell_type": "code",
   "execution_count": 29,
   "id": "0411d5bc-66ee-4ba0-a633-e8b6d963f34a",
   "metadata": {},
   "outputs": [
    {
     "data": {
      "text/plain": [
       "'ganesh'"
      ]
     },
     "execution_count": 29,
     "metadata": {},
     "output_type": "execute_result"
    }
   ],
   "source": [
    "students['Student1']['name']"
   ]
  },
  {
   "cell_type": "markdown",
   "id": "52afbdc7-5be2-4732-bef7-dd58b54f9e4b",
   "metadata": {},
   "source": [
    "#### Iterating over Nested Dictionaries:"
   ]
  },
  {
   "cell_type": "code",
   "execution_count": 30,
   "id": "623c4539-4d61-4b33-9ef2-35582b510dbd",
   "metadata": {},
   "outputs": [
    {
     "name": "stdout",
     "output_type": "stream",
     "text": [
      "Student1 {'name': 'ganesh', 'age': 32}\n",
      "Student2 {'name': 'ganaa', 'age': 33}\n"
     ]
    }
   ],
   "source": [
    "for stu_id,stu_info in students.items():\n",
    "    print(stu_id,stu_info)"
   ]
  },
  {
   "cell_type": "code",
   "execution_count": 31,
   "id": "d8fc5f71-92f7-4b25-b490-82baf2717f82",
   "metadata": {},
   "outputs": [
    {
     "name": "stdout",
     "output_type": "stream",
     "text": [
      "name : ganesh\n",
      "age : 32\n",
      "name : ganaa\n",
      "age : 33\n"
     ]
    }
   ],
   "source": [
    "for stu_id,stu_info in students.items():\n",
    "    for key,val in stu_info.items():\n",
    "        print(key,':',val)"
   ]
  },
  {
   "cell_type": "markdown",
   "id": "dc574e47-ab0d-4a64-9627-bc7b150d587f",
   "metadata": {},
   "source": [
    "#### Dictionary Compehension:---"
   ]
  },
  {
   "cell_type": "code",
   "execution_count": 32,
   "id": "94a08bd2-ee50-472a-a500-b461b93acc84",
   "metadata": {},
   "outputs": [
    {
     "name": "stdout",
     "output_type": "stream",
     "text": [
      "{1: 1, 2: 4, 3: 9, 4: 16, 5: 25, 6: 36, 7: 49, 8: 64, 9: 81, 10: 100}\n"
     ]
    }
   ],
   "source": [
    "squares = {x:x**2 for x in range(1,11)}\n",
    "print(squares)"
   ]
  },
  {
   "cell_type": "markdown",
   "id": "c3c601d4-2372-4ca6-ba68-a6f91096b45b",
   "metadata": {},
   "source": [
    "#### Using dict comprehension find out only even numbers and their squares:--"
   ]
  },
  {
   "cell_type": "code",
   "execution_count": 33,
   "id": "73627687-618c-455a-85e7-c0fe9f8fdc8e",
   "metadata": {},
   "outputs": [
    {
     "name": "stdout",
     "output_type": "stream",
     "text": [
      "{2: 4, 4: 16, 6: 36, 8: 64, 10: 100}\n"
     ]
    }
   ],
   "source": [
    "even = {x:x**2 for x in range(1,11) if x%2==0}\n",
    "print(even)"
   ]
  },
  {
   "cell_type": "markdown",
   "id": "79b0e06a-6af3-48bf-9bf5-c9ed9e487e38",
   "metadata": {},
   "source": [
    "### Practical Examples:"
   ]
  },
  {
   "cell_type": "markdown",
   "id": "ba027bd9-3151-483e-950e-2e221823acdf",
   "metadata": {},
   "source": [
    "Use a dictionary to count the frequency of elements in the list."
   ]
  },
  {
   "cell_type": "code",
   "execution_count": 34,
   "id": "7040d339-998e-4aa0-92a8-ff67b80fd946",
   "metadata": {},
   "outputs": [
    {
     "name": "stdout",
     "output_type": "stream",
     "text": [
      "{1: 1, 2: 2, 3: 3, 4: 4, 5: 5, 66: 1}\n"
     ]
    }
   ],
   "source": [
    "numbers = [1,2,2,3,3,3,4,4,4,4,5,5,5,5,5,66]\n",
    "frequency = {}\n",
    "for number in numbers:\n",
    "    if number in frequency:\n",
    "        frequency[number] +=1\n",
    "    else:\n",
    "        frequency[number] =1\n",
    "print(frequency)"
   ]
  },
  {
   "cell_type": "markdown",
   "id": "08fbf218-c37b-4ec6-ac7b-e73ad2189663",
   "metadata": {},
   "source": [
    "### Merge 2 dictionaries into one:--"
   ]
  },
  {
   "cell_type": "code",
   "execution_count": 35,
   "id": "63358a18-f5d1-432e-92c1-73dc0942363b",
   "metadata": {},
   "outputs": [],
   "source": [
    "dict1 = {'a':1, 'b':2}\n",
    "dict2 = {'b':3,'c':4}"
   ]
  },
  {
   "cell_type": "code",
   "execution_count": 36,
   "id": "1a7174f2-b808-4144-9a15-ff59d40958f7",
   "metadata": {},
   "outputs": [
    {
     "name": "stdout",
     "output_type": "stream",
     "text": [
      "{'a': 1, 'b': 3, 'c': 4}\n"
     ]
    }
   ],
   "source": [
    "merged_dict = {**dict1,**dict2}    # its like keyword arguments like functions.\n",
    "print(merged_dict)"
   ]
  },
  {
   "cell_type": "code",
   "execution_count": null,
   "id": "46b7deb5-8686-4091-9e56-73b5e87bcdcb",
   "metadata": {},
   "outputs": [],
   "source": []
  }
 ],
 "metadata": {
  "kernelspec": {
   "display_name": "Python 3 (ipykernel)",
   "language": "python",
   "name": "python3"
  },
  "language_info": {
   "codemirror_mode": {
    "name": "ipython",
    "version": 3
   },
   "file_extension": ".py",
   "mimetype": "text/x-python",
   "name": "python",
   "nbconvert_exporter": "python",
   "pygments_lexer": "ipython3",
   "version": "3.13.5"
  }
 },
 "nbformat": 4,
 "nbformat_minor": 5
}
