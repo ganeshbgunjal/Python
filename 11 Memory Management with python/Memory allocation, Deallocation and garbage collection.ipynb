{
 "cells": [
  {
   "cell_type": "markdown",
   "id": "ddc7051a-7c19-43f3-ba90-5fd3db554bea",
   "metadata": {},
   "source": [
    "**Memory management** in python involves a combination of automatic garbage collection, reference counting, and various intenal optimizations to efficiently manage memory allocation and deallocation. Understandin this mechanism will help developers write more robust and efficient code."
   ]
  },
  {
   "cell_type": "markdown",
   "id": "49f4b575-f6fc-4a20-81ba-738a60c644cf",
   "metadata": {},
   "source": [
    "### Reference counting:-"
   ]
  },
  {
   "cell_type": "markdown",
   "id": "fb806010-6eb2-414a-96e9-23aa40f6cb40",
   "metadata": {},
   "source": [
    "**Reference counting** is a technique Python uses to manage memory.\n",
    "Every object in Python keeps track of how many references (variables, containers, etc.) are pointing to it."
   ]
  },
  {
   "cell_type": "code",
   "execution_count": 3,
   "id": "fbc50489-1b42-42cb-b6e5-082c54eeb348",
   "metadata": {},
   "outputs": [
    {
     "name": "stdout",
     "output_type": "stream",
     "text": [
      "2\n"
     ]
    }
   ],
   "source": [
    "import sys\n",
    "a=[]\n",
    "print(sys.getrefcount(a))"
   ]
  },
  {
   "cell_type": "code",
   "execution_count": null,
   "id": "21f1ccfa-802e-4d41-bae5-778e6e47b335",
   "metadata": {},
   "outputs": [],
   "source": []
  }
 ],
 "metadata": {
  "kernelspec": {
   "display_name": "Python 3 (ipykernel)",
   "language": "python",
   "name": "python3"
  },
  "language_info": {
   "codemirror_mode": {
    "name": "ipython",
    "version": 3
   },
   "file_extension": ".py",
   "mimetype": "text/x-python",
   "name": "python",
   "nbconvert_exporter": "python",
   "pygments_lexer": "ipython3",
   "version": "3.13.5"
  }
 },
 "nbformat": 4,
 "nbformat_minor": 5
}
