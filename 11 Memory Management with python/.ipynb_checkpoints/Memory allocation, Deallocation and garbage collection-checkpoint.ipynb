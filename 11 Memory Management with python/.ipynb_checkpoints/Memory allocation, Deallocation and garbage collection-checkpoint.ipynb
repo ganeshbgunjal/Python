{
 "cells": [
  {
   "cell_type": "markdown",
   "id": "ddc7051a-7c19-43f3-ba90-5fd3db554bea",
   "metadata": {},
   "source": [
    "**Memory management** in python involves a combination of automatic garbage collection, reference counting, and various intenal optimizations to efficiently manage memory allocation and deallocation. Understandin this mechanism will help developers write more robust and efficient code."
   ]
  },
  {
   "cell_type": "markdown",
   "id": "49f4b575-f6fc-4a20-81ba-738a60c644cf",
   "metadata": {},
   "source": [
    "### Reference counting:-"
   ]
  },
  {
   "cell_type": "markdown",
   "id": "fb806010-6eb2-414a-96e9-23aa40f6cb40",
   "metadata": {},
   "source": [
    "**Reference counting** is a technique Python uses to manage memory.\n",
    "Every object in Python keeps track of how many references (variables, containers, etc.) are pointing to it."
   ]
  },
  {
   "cell_type": "code",
   "execution_count": 1,
   "id": "fbc50489-1b42-42cb-b6e5-082c54eeb348",
   "metadata": {},
   "outputs": [
    {
     "name": "stdout",
     "output_type": "stream",
     "text": [
      "2\n"
     ]
    }
   ],
   "source": [
    "import sys\n",
    "a=[]\n",
    "print(sys.getrefcount(a))"
   ]
  },
  {
   "cell_type": "markdown",
   "id": "d4031509-3a42-49c1-8f9b-20d985f57319",
   "metadata": {},
   "source": [
    "#### Here we get output as 2. so the explanation is one reference is get from a and another come from getrefcount()"
   ]
  },
  {
   "cell_type": "code",
   "execution_count": 2,
   "id": "8c395f27-5756-4226-a7c3-fcefe6200a89",
   "metadata": {},
   "outputs": [
    {
     "name": "stdout",
     "output_type": "stream",
     "text": [
      "3\n"
     ]
    }
   ],
   "source": [
    "b=a\n",
    "print(sys.getrefcount(b))"
   ]
  },
  {
   "cell_type": "code",
   "execution_count": 3,
   "id": "547e9858-1991-4e07-9127-fcb923c669c5",
   "metadata": {},
   "outputs": [
    {
     "name": "stdout",
     "output_type": "stream",
     "text": [
      "2\n"
     ]
    }
   ],
   "source": [
    "del b\n",
    "print(sys.getrefcount(a))"
   ]
  },
  {
   "cell_type": "markdown",
   "id": "f88bf213-fae7-47d1-8a64-1ef03cf60849",
   "metadata": {},
   "source": [
    "#### Garbage Collection:--"
   ]
  },
  {
   "cell_type": "markdown",
   "id": "065cc2b6-42c2-49f4-89fb-e28e890cc109",
   "metadata": {},
   "source": [
    "Python includes a cyclic garbage collecter to handle reference cycles. Reference cycles occures when object reference each other. preventing their reference count from reaching zero."
   ]
  },
  {
   "cell_type": "code",
   "execution_count": 4,
   "id": "6299f998-bde4-47bf-abf5-d347b9129ae0",
   "metadata": {},
   "outputs": [],
   "source": [
    "import gc   #garbage collector.\n",
    "gc.enable()"
   ]
  },
  {
   "cell_type": "code",
   "execution_count": 5,
   "id": "b30da5d4-834c-4a37-882f-af48bd571973",
   "metadata": {},
   "outputs": [],
   "source": [
    "gc.disable()   #manually disable the garbage collector."
   ]
  },
  {
   "cell_type": "code",
   "execution_count": 6,
   "id": "16ed2c4d-5454-4311-90d3-914bf8fabe02",
   "metadata": {},
   "outputs": [
    {
     "data": {
      "text/plain": [
       "603"
      ]
     },
     "execution_count": 6,
     "metadata": {},
     "output_type": "execute_result"
    }
   ],
   "source": [
    "gc.collect()"
   ]
  },
  {
   "cell_type": "markdown",
   "id": "6dc7cc83-ba70-4c91-b373-1a6d8335b789",
   "metadata": {},
   "source": [
    "#### Get garbage collection stats:--"
   ]
  },
  {
   "cell_type": "code",
   "execution_count": 7,
   "id": "add48314-e6c5-453a-97fd-44d588fab6aa",
   "metadata": {},
   "outputs": [
    {
     "data": {
      "text/plain": [
       "[{'collections': 66, 'collected': 951, 'uncollectable': 0},\n",
       " {'collections': 5, 'collected': 97, 'uncollectable': 0},\n",
       " {'collections': 1, 'collected': 603, 'uncollectable': 0}]"
      ]
     },
     "execution_count": 7,
     "metadata": {},
     "output_type": "execute_result"
    }
   ],
   "source": [
    "gc.get_stats()"
   ]
  },
  {
   "cell_type": "markdown",
   "id": "11dfe19d-0c70-4e27-8181-4900abd3b22b",
   "metadata": {},
   "source": [
    "#### Get unreachable objects:"
   ]
  },
  {
   "cell_type": "code",
   "execution_count": 8,
   "id": "3fade501-63d9-4e86-9fc6-94196e8d23b6",
   "metadata": {},
   "outputs": [
    {
     "name": "stdout",
     "output_type": "stream",
     "text": [
      "[]\n"
     ]
    }
   ],
   "source": [
    "print(gc.garbage)   #its right output. it has empty garbage now. "
   ]
  },
  {
   "cell_type": "markdown",
   "id": "1c855eba-eb1b-48eb-806c-c7e38b50a706",
   "metadata": {},
   "source": [
    "### Memory management for best practices:--\n",
    "1. Use Local variables: local variables have shorter lifespan and freed sooner than global variable.\n",
    "2. Avoid Circular references: circular references can lead to memory leaks if not properly managed.\n",
    "3. Use Generators: Generators produced items once at a time and only keep 1 item in a memory at a time, making them memory efficient.\n",
    "4. Profile Memoy Usage: Use memory profiling tools like tracemelloc and memory_profiler to identify memory leaks and optimize memory usage."
   ]
  },
  {
   "cell_type": "code",
   "execution_count": 9,
   "id": "9ddb9dd6-0b6e-4946-9f7c-b4cc492b8ba2",
   "metadata": {},
   "outputs": [
    {
     "name": "stdout",
     "output_type": "stream",
     "text": [
      "Object Obj1 created!\n",
      "Object Obj2 created!\n",
      "Object Obj1 deleted!\n",
      "Object Obj2 deleted!\n"
     ]
    },
    {
     "data": {
      "text/plain": [
       "2"
      ]
     },
     "execution_count": 9,
     "metadata": {},
     "output_type": "execute_result"
    }
   ],
   "source": [
    "import gc\n",
    "\n",
    "class MyObject:\n",
    "    def __init__(self,name):\n",
    "        self.name = name\n",
    "        print(f'Object {self.name} created!')\n",
    "\n",
    "    def __del__(self):\n",
    "        print(f'Object {self.name} deleted!')\n",
    "\n",
    "# create circular reference:\n",
    "obj1 = MyObject('Obj1')\n",
    "obj2 = MyObject('Obj2')\n",
    "\n",
    "# this is Circular reference.\n",
    "obj1.ref = obj2\n",
    "obj2.ref = obj1\n",
    "\n",
    "del obj1\n",
    "del obj2\n",
    "\n",
    "#Manually trigger the garbage collection\n",
    "gc.collect()"
   ]
  },
  {
   "cell_type": "markdown",
   "id": "2cf0a73e-1844-47c2-86a5-2be94e858260",
   "metadata": {},
   "source": [
    "Here we create/trigger manually. so when  we delete obj1 and obj2, it will print obj delete also. if we dont use this garbage collector, then obj will create and delete. but they will not print object delete message. because they are circula reference objects. "
   ]
  },
  {
   "cell_type": "markdown",
   "id": "daee29ce-bf0d-420b-abf0-7e7fe6622614",
   "metadata": {},
   "source": [
    "### Generators for memory Efficiency:--\n",
    "Generators allows you to poduce one item at a time, using memory efficiently by only keeping only one item in memory at a time. "
   ]
  },
  {
   "cell_type": "code",
   "execution_count": 13,
   "id": "4144c21c-e7de-4830-b4f1-ca37df562994",
   "metadata": {},
   "outputs": [
    {
     "name": "stdout",
     "output_type": "stream",
     "text": [
      "0\n",
      "1\n",
      "2\n",
      "3\n",
      "4\n",
      "5\n",
      "6\n",
      "7\n",
      "8\n",
      "9\n",
      "10\n",
      "11\n"
     ]
    }
   ],
   "source": [
    "def generate_nmbers(n):\n",
    "    for i in range(n):\n",
    "        yield i\n",
    "\n",
    "# Using the generators:--\n",
    "for num in generate_nmbers(100000):\n",
    "    print(num)\n",
    "    if num >10:\n",
    "        break\n",
    "    "
   ]
  },
  {
   "cell_type": "markdown",
   "id": "4858d060-15ac-4885-89b4-7c93dcd647bc",
   "metadata": {},
   "source": [
    "### Profiling memory usage with tracemelloc:"
   ]
  },
  {
   "cell_type": "code",
   "execution_count": 17,
   "id": "c8e6cec4-b99a-49cb-9cf6-77b7dad135f8",
   "metadata": {},
   "outputs": [],
   "source": [
    "import tracemalloc\n",
    "\n",
    "def create_list():\n",
    "    return [i for i in range(10000)]\n",
    "\n",
    "def main():\n",
    "    tracemalloc.start()\n",
    "    \n",
    "    create_list()\n",
    "\n",
    "    snapshot = tracemalloc.take_snapshot()\n",
    "    top_stats = snapshot.statistics('lineno')\n",
    "\n",
    "    print('[Top 10]')\n",
    "    for stat in top_stats[:10]:\n",
    "        print(stat)\n",
    "        "
   ]
  },
  {
   "cell_type": "code",
   "execution_count": 18,
   "id": "b1ddeaf7-fb99-4a07-9281-69ccd4a1fbee",
   "metadata": {},
   "outputs": [
    {
     "name": "stdout",
     "output_type": "stream",
     "text": [
      "[Top 10]\n",
      "C:\\Users\\Administrator\\anaconda3\\Lib\\tokenize.py:582: size=3437 KiB, count=76685, average=46 B\n",
      "C:\\Users\\Administrator\\anaconda3\\Lib\\ast.py:50: size=3404 KiB, count=47400, average=74 B\n",
      "<string>:1: size=2175 KiB, count=17401, average=128 B\n",
      "C:\\Users\\Administrator\\anaconda3\\Lib\\site-packages\\asttokens\\line_numbers.py:64: size=1082 KiB, count=34627, average=32 B\n",
      "C:\\Users\\Administrator\\anaconda3\\Lib\\site-packages\\asttokens\\line_numbers.py:47: size=779 KiB, count=3708, average=215 B\n",
      "C:\\Users\\Administrator\\anaconda3\\Lib\\site-packages\\asttokens\\asttokens.py:139: size=466 KiB, count=17049, average=28 B\n",
      "C:\\Users\\Administrator\\anaconda3\\Lib\\site-packages\\executing\\executing.py:241: size=429 KiB, count=5871, average=75 B\n",
      "C:\\Users\\Administrator\\anaconda3\\Lib\\linecache.py:172: size=317 KiB, count=3343, average=97 B\n",
      "C:\\Users\\Administrator\\anaconda3\\Lib\\site-packages\\executing\\executing.py:209: size=315 KiB, count=3358, average=96 B\n",
      "C:\\Users\\Administrator\\anaconda3\\Lib\\selectors.py:305: size=288 KiB, count=6, average=48.0 KiB\n"
     ]
    }
   ],
   "source": [
    "main()"
   ]
  },
  {
   "cell_type": "code",
   "execution_count": null,
   "id": "9b8c3e40-bb5f-4fd8-ad64-6d867c3e3d31",
   "metadata": {},
   "outputs": [],
   "source": []
  }
 ],
 "metadata": {
  "kernelspec": {
   "display_name": "Python 3 (ipykernel)",
   "language": "python",
   "name": "python3"
  },
  "language_info": {
   "codemirror_mode": {
    "name": "ipython",
    "version": 3
   },
   "file_extension": ".py",
   "mimetype": "text/x-python",
   "name": "python",
   "nbconvert_exporter": "python",
   "pygments_lexer": "ipython3",
   "version": "3.13.5"
  }
 },
 "nbformat": 4,
 "nbformat_minor": 5
}
