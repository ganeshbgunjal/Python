{
 "cells": [
  {
   "cell_type": "markdown",
   "id": "f6496383-5757-4149-9cc4-787f0a59ed88",
   "metadata": {},
   "source": [
    "### Standard Library Overview:--\n",
    "Python's standard library is a vast collection of modules and packages that come bundles with python. Providin a wide range of functionalities out of the box. Here is an overview of of some of the most commonly used modules in the pythons standard library overview."
   ]
  },
  {
   "cell_type": "code",
   "execution_count": 3,
   "id": "45eef82f-01de-48e9-9019-7825e2e8da22",
   "metadata": {},
   "outputs": [
    {
     "name": "stdout",
     "output_type": "stream",
     "text": [
      "array('i', [1, 2, 3, 4])\n",
      "<class 'array.array'>\n"
     ]
    }
   ],
   "source": [
    "import array\n",
    "arr = array.array('i',[1,2,3,4])\n",
    "print(arr)\n",
    "print(type(arr))"
   ]
  },
  {
   "cell_type": "code",
   "execution_count": 6,
   "id": "21371322-d90d-4c04-af73-fe354e8418d4",
   "metadata": {},
   "outputs": [
    {
     "name": "stdout",
     "output_type": "stream",
     "text": [
      "4.0\n",
      "3.141592653589793\n"
     ]
    }
   ],
   "source": [
    "import math\n",
    "print(math.sqrt(16))\n",
    "print(math.pi)"
   ]
  },
  {
   "cell_type": "code",
   "execution_count": 11,
   "id": "147baf7d-00c6-4857-8d72-083150f12990",
   "metadata": {},
   "outputs": [
    {
     "name": "stdout",
     "output_type": "stream",
     "text": [
      "1\n",
      "cherry\n"
     ]
    }
   ],
   "source": [
    "import random\n",
    "print(random.randint(1,10))\n",
    "print(random.choice(['apple','banana','cherry']))"
   ]
  },
  {
   "cell_type": "markdown",
   "id": "42f3eddc-e60a-42dc-a0f7-b20ef22b7718",
   "metadata": {},
   "source": [
    "#### File and dirctory access"
   ]
  },
  {
   "cell_type": "code",
   "execution_count": 13,
   "id": "0e71c1eb-809e-4245-a378-3ce8aae5429c",
   "metadata": {},
   "outputs": [
    {
     "data": {
      "text/plain": [
       "'D:\\\\2. Udemy Course\\\\1 Python\\\\1 Python\\\\5 importing and Creating Modules and Packages'"
      ]
     },
     "execution_count": 13,
     "metadata": {},
     "output_type": "execute_result"
    }
   ],
   "source": [
    "import os\n",
    "os.getcwd()"
   ]
  },
  {
   "cell_type": "markdown",
   "id": "bfe865f2-74cb-4a43-92c8-e9ea561c0cc1",
   "metadata": {},
   "source": [
    "#### To create new folder in current directory:"
   ]
  },
  {
   "cell_type": "code",
   "execution_count": 14,
   "id": "bd1fd357-7676-45bf-a412-8b10b751690d",
   "metadata": {},
   "outputs": [],
   "source": [
    "os.mkdir('test_directory')"
   ]
  },
  {
   "cell_type": "markdown",
   "id": "6a69a078-0a81-4161-8cb8-b11fd433ab13",
   "metadata": {},
   "source": [
    "#### High level operations on files and collection of files:-"
   ]
  },
  {
   "cell_type": "code",
   "execution_count": 17,
   "id": "3ad66082-afa2-4b4f-9556-1a7177ce8d72",
   "metadata": {},
   "outputs": [
    {
     "data": {
      "text/plain": [
       "'destination.txt'"
      ]
     },
     "execution_count": 17,
     "metadata": {},
     "output_type": "execute_result"
    }
   ],
   "source": [
    "import shutil\n",
    "shutil.copyfile('source.txt','destination.txt')    #new file is created and data is copied from source file."
   ]
  },
  {
   "cell_type": "markdown",
   "id": "dd4a28d5-55ba-41d8-8cb5-40f8e04de81f",
   "metadata": {},
   "source": [
    "#### Data Serialization:-"
   ]
  },
  {
   "cell_type": "code",
   "execution_count": 18,
   "id": "d119f383-924a-4113-9c92-2924df5848bd",
   "metadata": {},
   "outputs": [
    {
     "name": "stdout",
     "output_type": "stream",
     "text": [
      "{\"name\": \"ganesh\", \"age\": 33}\n",
      "<class 'str'>\n"
     ]
    }
   ],
   "source": [
    "import json\n",
    "data = {'name':'ganesh','age':33}\n",
    "convert_json_file = json.dumps(data)\n",
    "print(convert_json_file)\n",
    "print(type(convert_json_file))"
   ]
  },
  {
   "cell_type": "code",
   "execution_count": 19,
   "id": "08fcf36b-7282-459c-8201-c1eab4308781",
   "metadata": {},
   "outputs": [
    {
     "name": "stdout",
     "output_type": "stream",
     "text": [
      "{'name': 'ganesh', 'age': 33}\n"
     ]
    }
   ],
   "source": [
    "parsed_data = json.loads(convert_json_file)\n",
    "print(parsed_data)"
   ]
  },
  {
   "cell_type": "code",
   "execution_count": 6,
   "id": "d5f69ffb-0c3b-4e20-a589-46cdb79545e6",
   "metadata": {},
   "outputs": [
    {
     "name": "stdout",
     "output_type": "stream",
     "text": [
      "['id', 'name', 'city']\n",
      "['1', 'ganesh', 'pune']\n",
      "['2', 'amol', 'nashik']\n",
      "['3', 'hari', 'niphad']\n"
     ]
    }
   ],
   "source": [
    "import csv\n",
    "\n",
    "with open('example.csv','w',newline='') as file:\n",
    "    writer = csv.writer(file)\n",
    "    writer.writerow(['id','name','city'])\n",
    "    writer.writerows([\n",
    "        [1,'ganesh','pune'],\n",
    "        [2,'amol','nashik'],\n",
    "        [3,'hari','niphad']\n",
    "    ])\n",
    "\n",
    "with open('example.csv','r') as file:\n",
    "    reader = csv.reader(file)\n",
    "    for row in reader:\n",
    "        print(row)\n",
    "    "
   ]
  },
  {
   "cell_type": "markdown",
   "id": "975d6ce1-0969-47eb-a542-1b569549c635",
   "metadata": {},
   "source": [
    "#### Datetime:-"
   ]
  },
  {
   "cell_type": "code",
   "execution_count": 7,
   "id": "df69e805-7eed-491b-9024-9fb66a575924",
   "metadata": {},
   "outputs": [
    {
     "name": "stdout",
     "output_type": "stream",
     "text": [
      "2025-08-07 15:58:17.331532\n"
     ]
    }
   ],
   "source": [
    "from datetime import datetime,timedelta\n",
    "now = datetime.now()\n",
    "print(now)"
   ]
  },
  {
   "cell_type": "code",
   "execution_count": 8,
   "id": "2e482144-9641-4de2-8b80-70fd99e1bb5c",
   "metadata": {},
   "outputs": [
    {
     "name": "stdout",
     "output_type": "stream",
     "text": [
      "2025-08-06 15:58:17.331532\n"
     ]
    }
   ],
   "source": [
    "yesterday = now-timedelta(days=1)\n",
    "print(yesterday)"
   ]
  },
  {
   "cell_type": "code",
   "execution_count": 9,
   "id": "166ea59d-9f08-4fa1-89ec-6400484bf627",
   "metadata": {},
   "outputs": [
    {
     "name": "stdout",
     "output_type": "stream",
     "text": [
      "2025-08-08 15:58:17.331532\n"
     ]
    }
   ],
   "source": [
    "tomorrow = now+timedelta(days=1)\n",
    "print(tomorrow)"
   ]
  },
  {
   "cell_type": "markdown",
   "id": "34b45be6-3e4a-4a40-9370-39d6e8442210",
   "metadata": {},
   "source": [
    "#### Regular Expression:-"
   ]
  },
  {
   "cell_type": "code",
   "execution_count": 11,
   "id": "636bd1d5-1ca0-4772-b0a9-cdef55ef9a09",
   "metadata": {},
   "outputs": [
    {
     "name": "stdout",
     "output_type": "stream",
     "text": [
      "200\n"
     ]
    }
   ],
   "source": [
    "import re\n",
    "\n",
    "pattern = r'\\d+'       #we have to findd this pattern in the below line..\n",
    "text = 'there are 200 apples.'\n",
    "match = re.search(pattern,text)\n",
    "print(match.group())"
   ]
  },
  {
   "cell_type": "markdown",
   "id": "b4de84fa-74ee-4b19-987c-66821f108536",
   "metadata": {},
   "source": [
    "### Conclusion:--"
   ]
  },
  {
   "cell_type": "markdown",
   "id": "4593a536-bbe2-46e1-9603-4746f4ae427b",
   "metadata": {},
   "source": [
    "Python's standard library is extensive and provides tools for almost any task you can think of. from file handling to web sevices, from data serialization to concurrent execution. Familiarizing yourself with the modules and packages available in the standard library can significantly enhance your abilty to write efficient and effective python programs."
   ]
  },
  {
   "cell_type": "code",
   "execution_count": null,
   "id": "cd2b419b-5dd0-4189-aecb-0eed7c5d5d2d",
   "metadata": {},
   "outputs": [],
   "source": []
  }
 ],
 "metadata": {
  "kernelspec": {
   "display_name": "Python 3 (ipykernel)",
   "language": "python",
   "name": "python3"
  },
  "language_info": {
   "codemirror_mode": {
    "name": "ipython",
    "version": 3
   },
   "file_extension": ".py",
   "mimetype": "text/x-python",
   "name": "python",
   "nbconvert_exporter": "python",
   "pygments_lexer": "ipython3",
   "version": "3.13.5"
  }
 },
 "nbformat": 4,
 "nbformat_minor": 5
}
