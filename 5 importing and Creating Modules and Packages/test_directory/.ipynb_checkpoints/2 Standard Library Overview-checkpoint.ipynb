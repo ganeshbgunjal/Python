{
 "cells": [
  {
   "cell_type": "markdown",
   "id": "f6496383-5757-4149-9cc4-787f0a59ed88",
   "metadata": {},
   "source": [
    "### Standard Library Overview:--\n",
    "Python's standard library is a vast collection of modules and packages that come bundles with python. Providin a wide range of functionalities out of the box. Here is an overview of of some of the most commonly used modules in the pythons standard library overview."
   ]
  },
  {
   "cell_type": "code",
   "execution_count": 3,
   "id": "45eef82f-01de-48e9-9019-7825e2e8da22",
   "metadata": {},
   "outputs": [
    {
     "name": "stdout",
     "output_type": "stream",
     "text": [
      "array('i', [1, 2, 3, 4])\n",
      "<class 'array.array'>\n"
     ]
    }
   ],
   "source": [
    "import array\n",
    "arr = array.array('i',[1,2,3,4])\n",
    "print(arr)\n",
    "print(type(arr))"
   ]
  },
  {
   "cell_type": "code",
   "execution_count": 6,
   "id": "21371322-d90d-4c04-af73-fe354e8418d4",
   "metadata": {},
   "outputs": [
    {
     "name": "stdout",
     "output_type": "stream",
     "text": [
      "4.0\n",
      "3.141592653589793\n"
     ]
    }
   ],
   "source": [
    "import math\n",
    "print(math.sqrt(16))\n",
    "print(math.pi)"
   ]
  },
  {
   "cell_type": "code",
   "execution_count": 11,
   "id": "147baf7d-00c6-4857-8d72-083150f12990",
   "metadata": {},
   "outputs": [
    {
     "name": "stdout",
     "output_type": "stream",
     "text": [
      "1\n",
      "cherry\n"
     ]
    }
   ],
   "source": [
    "import random\n",
    "print(random.randint(1,10))\n",
    "print(random.choice(['apple','banana','cherry']))"
   ]
  },
  {
   "cell_type": "markdown",
   "id": "42f3eddc-e60a-42dc-a0f7-b20ef22b7718",
   "metadata": {},
   "source": [
    "#### File and dirctory access"
   ]
  },
  {
   "cell_type": "code",
   "execution_count": 13,
   "id": "0e71c1eb-809e-4245-a378-3ce8aae5429c",
   "metadata": {},
   "outputs": [
    {
     "data": {
      "text/plain": [
       "'D:\\\\2. Udemy Course\\\\1 Python\\\\1 Python\\\\5 importing and Creating Modules and Packages'"
      ]
     },
     "execution_count": 13,
     "metadata": {},
     "output_type": "execute_result"
    }
   ],
   "source": [
    "import os\n",
    "os.getcwd()"
   ]
  },
  {
   "cell_type": "markdown",
   "id": "bfe865f2-74cb-4a43-92c8-e9ea561c0cc1",
   "metadata": {},
   "source": [
    "#### To create new folder in current directory:"
   ]
  },
  {
   "cell_type": "code",
   "execution_count": 14,
   "id": "bd1fd357-7676-45bf-a412-8b10b751690d",
   "metadata": {},
   "outputs": [],
   "source": [
    "os.mkdir('test_directory')"
   ]
  },
  {
   "cell_type": "markdown",
   "id": "6a69a078-0a81-4161-8cb8-b11fd433ab13",
   "metadata": {},
   "source": [
    "#### High level operations on files and collection of files:-"
   ]
  },
  {
   "cell_type": "code",
   "execution_count": 17,
   "id": "3ad66082-afa2-4b4f-9556-1a7177ce8d72",
   "metadata": {},
   "outputs": [
    {
     "data": {
      "text/plain": [
       "'destination.txt'"
      ]
     },
     "execution_count": 17,
     "metadata": {},
     "output_type": "execute_result"
    }
   ],
   "source": [
    "import shutil\n",
    "shutil.copyfile('source.txt','destination.txt')    #new file is created and data is copied from source file."
   ]
  },
  {
   "cell_type": "markdown",
   "id": "dd4a28d5-55ba-41d8-8cb5-40f8e04de81f",
   "metadata": {},
   "source": [
    "#### Data Serialization:-"
   ]
  },
  {
   "cell_type": "code",
   "execution_count": 18,
   "id": "d119f383-924a-4113-9c92-2924df5848bd",
   "metadata": {},
   "outputs": [
    {
     "name": "stdout",
     "output_type": "stream",
     "text": [
      "{\"name\": \"ganesh\", \"age\": 33}\n",
      "<class 'str'>\n"
     ]
    }
   ],
   "source": [
    "import json\n",
    "data = {'name':'ganesh','age':33}\n",
    "convert_json_file = json.dumps(data)\n",
    "print(convert_json_file)\n",
    "print(type(convert_json_file))"
   ]
  },
  {
   "cell_type": "code",
   "execution_count": 19,
   "id": "08fcf36b-7282-459c-8201-c1eab4308781",
   "metadata": {},
   "outputs": [
    {
     "name": "stdout",
     "output_type": "stream",
     "text": [
      "{'name': 'ganesh', 'age': 33}\n"
     ]
    }
   ],
   "source": [
    "parsed_data = json.loads(convert_json_file)\n",
    "print(parsed_data)"
   ]
  },
  {
   "cell_type": "code",
   "execution_count": null,
   "id": "d5f69ffb-0c3b-4e20-a589-46cdb79545e6",
   "metadata": {},
   "outputs": [],
   "source": [
    "import csv\n",
    "\n",
    "with open('example.csv','w',newline='') as file:\n",
    "    writer = csv.writer(file)"
   ]
  }
 ],
 "metadata": {
  "kernelspec": {
   "display_name": "Python 3 (ipykernel)",
   "language": "python",
   "name": "python3"
  },
  "language_info": {
   "codemirror_mode": {
    "name": "ipython",
    "version": 3
   },
   "file_extension": ".py",
   "mimetype": "text/x-python",
   "name": "python",
   "nbconvert_exporter": "python",
   "pygments_lexer": "ipython3",
   "version": "3.13.5"
  }
 },
 "nbformat": 4,
 "nbformat_minor": 5
}
