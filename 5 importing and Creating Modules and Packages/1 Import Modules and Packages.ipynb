{
 "cells": [
  {
   "cell_type": "markdown",
   "id": "33b4b23c-87ba-4498-82a8-e945640aaa89",
   "metadata": {},
   "source": [
    "### Modules and Packages:-"
   ]
  },
  {
   "cell_type": "markdown",
   "id": "f001c304-8837-4980-8d7c-ca4d90d1265f",
   "metadata": {},
   "source": [
    "What is a Module?  \n",
    "A module is simply a **.py** file containing Python code (functions, variables, classes)."
   ]
  },
  {
   "cell_type": "markdown",
   "id": "88e4f2b1-8257-4aa5-b374-41cdb06211b3",
   "metadata": {},
   "source": [
    "What is a Package?  \n",
    "A package is a folder that contains multiple module files and a special **__init__.py** file (can be empty). This tells Python it’s a package."
   ]
  },
  {
   "cell_type": "code",
   "execution_count": 1,
   "id": "941ccae1-97dc-44f5-ab5a-f3e6b2ef3aa0",
   "metadata": {},
   "outputs": [
    {
     "data": {
      "text/plain": [
       "5.0"
      ]
     },
     "execution_count": 1,
     "metadata": {},
     "output_type": "execute_result"
    }
   ],
   "source": [
    "import math    #its a package.\n",
    "math.sqrt(25)"
   ]
  },
  {
   "cell_type": "code",
   "execution_count": 2,
   "id": "97ee8188-1b53-4169-a31e-db3755234fc5",
   "metadata": {},
   "outputs": [
    {
     "name": "stdout",
     "output_type": "stream",
     "text": [
      "3.141592653589793\n"
     ]
    }
   ],
   "source": [
    "from math import pi\n",
    "print(pi)"
   ]
  },
  {
   "cell_type": "code",
   "execution_count": 3,
   "id": "f0f6462b-acb8-49ba-b643-a1d750f65e2a",
   "metadata": {},
   "outputs": [],
   "source": [
    "import numpy as np    #already installed"
   ]
  },
  {
   "cell_type": "code",
   "execution_count": 4,
   "id": "43141d1e-5a69-4c67-be51-93ed4066447a",
   "metadata": {},
   "outputs": [],
   "source": [
    "# to import all the function from the module.\n",
    "from math import *     # * means all functions/modules."
   ]
  },
  {
   "cell_type": "code",
   "execution_count": 5,
   "id": "f6f22682-d584-42b4-9a3a-3d44042d0208",
   "metadata": {},
   "outputs": [
    {
     "data": {
      "text/plain": [
       "22"
      ]
     },
     "execution_count": 5,
     "metadata": {},
     "output_type": "execute_result"
    }
   ],
   "source": [
    "from package.maths import addition     #This module is imported from package folder and there is addition function.\n",
    "addition(11,11)"
   ]
  },
  {
   "cell_type": "markdown",
   "id": "2fb85c12-0a3a-4cef-a6b8-2e04b69f461b",
   "metadata": {},
   "source": [
    "#### above code can be done as follows also. Important thing is all files must be same package folder to import."
   ]
  },
  {
   "cell_type": "code",
   "execution_count": 6,
   "id": "3c92f40c-7e2f-493b-8115-bb46588304e0",
   "metadata": {},
   "outputs": [
    {
     "data": {
      "text/plain": [
       "44"
      ]
     },
     "execution_count": 6,
     "metadata": {},
     "output_type": "execute_result"
    }
   ],
   "source": [
    "from package import maths\n",
    "maths.addition(22,22)"
   ]
  },
  {
   "cell_type": "code",
   "execution_count": 8,
   "id": "90c7e929-6e3c-4805-9a33-863d8ce31945",
   "metadata": {},
   "outputs": [
    {
     "data": {
      "text/plain": [
       "5"
      ]
     },
     "execution_count": 8,
     "metadata": {},
     "output_type": "execute_result"
    }
   ],
   "source": [
    "from package import maths    #this package and module is also called from same folder.\n",
    "maths.substraction(10,5)"
   ]
  },
  {
   "cell_type": "code",
   "execution_count": 11,
   "id": "0c23dd25-45b1-45bd-b3ab-f2ae00546955",
   "metadata": {},
   "outputs": [
    {
     "name": "stdout",
     "output_type": "stream",
     "text": [
      "20\n",
      "10\n"
     ]
    }
   ],
   "source": [
    "from package.maths import *\n",
    "\n",
    "print(addition(10,10))\n",
    "print(substraction(20,10))"
   ]
  },
  {
   "cell_type": "code",
   "execution_count": 13,
   "id": "890a24fc-8c9e-47df-9ac3-c1d27443340a",
   "metadata": {},
   "outputs": [
    {
     "name": "stdout",
     "output_type": "stream",
     "text": [
      "Add: 20\n",
      "Sub: 10\n",
      "Multiplication: 20\n"
     ]
    }
   ],
   "source": [
    "from package.maths import *\n",
    "from package.subpackages.multipli import multiply   #This is called from subpackage folder. see how to call it.\n",
    "\n",
    "print(f'Add: {addition(10,10)}')\n",
    "print(f'Sub: {substraction(20,10)}')\n",
    "print(f'Multiplication: {multiply(4,5)}')"
   ]
  },
  {
   "cell_type": "markdown",
   "id": "eca55c2f-b662-4835-8e95-f7010559a92c",
   "metadata": {},
   "source": [
    "### One imporatant thing is all this packages are in same folder. this must keep in mind."
   ]
  },
  {
   "cell_type": "code",
   "execution_count": null,
   "id": "79e95a9f-618f-4721-b398-166f2feb676c",
   "metadata": {},
   "outputs": [],
   "source": []
  }
 ],
 "metadata": {
  "kernelspec": {
   "display_name": "Python 3 (ipykernel)",
   "language": "python",
   "name": "python3"
  },
  "language_info": {
   "codemirror_mode": {
    "name": "ipython",
    "version": 3
   },
   "file_extension": ".py",
   "mimetype": "text/x-python",
   "name": "python",
   "nbconvert_exporter": "python",
   "pygments_lexer": "ipython3",
   "version": "3.13.5"
  }
 },
 "nbformat": 4,
 "nbformat_minor": 5
}
