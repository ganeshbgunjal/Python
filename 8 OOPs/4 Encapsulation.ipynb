{
 "cells": [
  {
   "cell_type": "code",
   "execution_count": null,
   "id": "c6583098-383b-4713-bc23-00e6a9b48a0a",
   "metadata": {},
   "outputs": [],
   "source": []
  }
 ],
 "metadata": {
  "kernelspec": {
   "display_name": "",
   "name": ""
  },
  "language_info": {
   "name": ""
  }
 },
 "nbformat": 4,
 "nbformat_minor": 5
}
