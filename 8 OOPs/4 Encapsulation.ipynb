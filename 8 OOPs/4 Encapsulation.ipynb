{
 "cells": [
  {
   "cell_type": "markdown",
   "id": "0eb16e9f-2b0b-45ae-aead-ac9b52e801bb",
   "metadata": {},
   "source": [
    "### Encapsulation:-\n",
    "Encapsulation and Abstraction are the two important principles of OOP that helps in designing robust, maintainable and reusable code. Encapsulation involves bundling data and methods that operate on the data within a single unit while abstraction involves hiding complex implementations details and exposing only the necessory features. "
   ]
  },
  {
   "cell_type": "markdown",
   "id": "a3828928-1327-49ba-abd8-49331ff79a26",
   "metadata": {},
   "source": [
    "**Encapsulation** in another words wrapping of data and functions into single unit. It restricts direct access to some of the object components which means preventing interference and misuse of the data"
   ]
  },
  {
   "cell_type": "markdown",
   "id": "fe23f341-aea1-414b-b2d7-edd8f0e8c084",
   "metadata": {},
   "source": [
    "#### Encapsulation with getter and setter method:--"
   ]
  },
  {
   "cell_type": "markdown",
   "id": "7a091008-3afe-4abf-a154-b349a11754f8",
   "metadata": {},
   "source": [
    "#### Public Private and Protected varibles or Access Modifiers:"
   ]
  },
  {
   "cell_type": "code",
   "execution_count": 1,
   "id": "8d27f3bf-baf3-4419-b3c4-28efadb0d45b",
   "metadata": {},
   "outputs": [
    {
     "data": {
      "text/plain": [
       "'Ganesh'"
      ]
     },
     "execution_count": 1,
     "metadata": {},
     "output_type": "execute_result"
    }
   ],
   "source": [
    "class Person:\n",
    "    def __init__(self,name,age):\n",
    "        self.name = name    #public variable\n",
    "        self.age = age     #public variable\n",
    "\n",
    "person = Person('Ganesh',34)\n",
    "person.name\n",
    "        "
   ]
  },
  {
   "cell_type": "code",
   "execution_count": 2,
   "id": "5951a6d8-eaa2-477e-856e-92afc3f9a0b2",
   "metadata": {},
   "outputs": [
    {
     "data": {
      "text/plain": [
       "['__class__',\n",
       " '__delattr__',\n",
       " '__dict__',\n",
       " '__dir__',\n",
       " '__doc__',\n",
       " '__eq__',\n",
       " '__firstlineno__',\n",
       " '__format__',\n",
       " '__ge__',\n",
       " '__getattribute__',\n",
       " '__getstate__',\n",
       " '__gt__',\n",
       " '__hash__',\n",
       " '__init__',\n",
       " '__init_subclass__',\n",
       " '__le__',\n",
       " '__lt__',\n",
       " '__module__',\n",
       " '__ne__',\n",
       " '__new__',\n",
       " '__reduce__',\n",
       " '__reduce_ex__',\n",
       " '__repr__',\n",
       " '__setattr__',\n",
       " '__sizeof__',\n",
       " '__static_attributes__',\n",
       " '__str__',\n",
       " '__subclasshook__',\n",
       " '__weakref__',\n",
       " 'age',\n",
       " 'name']"
      ]
     },
     "execution_count": 2,
     "metadata": {},
     "output_type": "execute_result"
    }
   ],
   "source": [
    "dir(person)    #name and age variables are a"
   ]
  },
  {
   "cell_type": "code",
   "execution_count": null,
   "id": "40f3c046-596d-4011-9be4-e6f807f1097a",
   "metadata": {},
   "outputs": [],
   "source": []
  }
 ],
 "metadata": {
  "kernelspec": {
   "display_name": "Python 3 (ipykernel)",
   "language": "python",
   "name": "python3"
  },
  "language_info": {
   "codemirror_mode": {
    "name": "ipython",
    "version": 3
   },
   "file_extension": ".py",
   "mimetype": "text/x-python",
   "name": "python",
   "nbconvert_exporter": "python",
   "pygments_lexer": "ipython3",
   "version": "3.13.5"
  }
 },
 "nbformat": 4,
 "nbformat_minor": 5
}
