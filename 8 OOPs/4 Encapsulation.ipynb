{
 "cells": [
  {
   "cell_type": "markdown",
   "id": "0eb16e9f-2b0b-45ae-aead-ac9b52e801bb",
   "metadata": {},
   "source": [
    "### Encapsulation:-\n",
    "Encapsulation and Abstraction are the two important principles of OOP that helps in designing robust, maintainable and reusable code. Encapsulation involves bundling data and methods that operate on the data within a single unit while abstraction involves hiding complex implementations details and exposing only the necessory features. "
   ]
  },
  {
   "cell_type": "markdown",
   "id": "a3828928-1327-49ba-abd8-49331ff79a26",
   "metadata": {},
   "source": [
    "**Encapsulation** in another words wrapping of data and functions into single unit. It restricts direct access to some of the object components which means preventing interference and misuse of the data"
   ]
  },
  {
   "cell_type": "markdown",
   "id": "fe23f341-aea1-414b-b2d7-edd8f0e8c084",
   "metadata": {},
   "source": [
    "#### Encapsulation with getter and setter method:--"
   ]
  },
  {
   "cell_type": "markdown",
   "id": "7a091008-3afe-4abf-a154-b349a11754f8",
   "metadata": {},
   "source": [
    "#### Public Private and Protected varibles or Access Modifiers:"
   ]
  },
  {
   "cell_type": "code",
   "execution_count": 3,
   "id": "8d27f3bf-baf3-4419-b3c4-28efadb0d45b",
   "metadata": {},
   "outputs": [
    {
     "name": "stdout",
     "output_type": "stream",
     "text": [
      "Ganesh\n",
      "Ganesh\n"
     ]
    }
   ],
   "source": [
    "class Person:\n",
    "    def __init__(self,name,age):\n",
    "        self.name = name    #public variable\n",
    "        self.age = age     #public variable\n",
    "\n",
    "def get_name(person):\n",
    "    return person.name\n",
    "\n",
    "person = Person('Ganesh',34)\n",
    "print(person.name)\n",
    "print(get_name(person))     #this function is outside functin and class still we are able to access name variable."
   ]
  },
  {
   "cell_type": "code",
   "execution_count": 4,
   "id": "5951a6d8-eaa2-477e-856e-92afc3f9a0b2",
   "metadata": {},
   "outputs": [
    {
     "data": {
      "text/plain": [
       "['__class__',\n",
       " '__delattr__',\n",
       " '__dict__',\n",
       " '__dir__',\n",
       " '__doc__',\n",
       " '__eq__',\n",
       " '__firstlineno__',\n",
       " '__format__',\n",
       " '__ge__',\n",
       " '__getattribute__',\n",
       " '__getstate__',\n",
       " '__gt__',\n",
       " '__hash__',\n",
       " '__init__',\n",
       " '__init_subclass__',\n",
       " '__le__',\n",
       " '__lt__',\n",
       " '__module__',\n",
       " '__ne__',\n",
       " '__new__',\n",
       " '__reduce__',\n",
       " '__reduce_ex__',\n",
       " '__repr__',\n",
       " '__setattr__',\n",
       " '__sizeof__',\n",
       " '__static_attributes__',\n",
       " '__str__',\n",
       " '__subclasshook__',\n",
       " '__weakref__',\n",
       " 'age',\n",
       " 'name']"
      ]
     },
     "execution_count": 4,
     "metadata": {},
     "output_type": "execute_result"
    }
   ],
   "source": [
    "dir(person)    #name and age variables are also in the list or they are available public"
   ]
  },
  {
   "cell_type": "markdown",
   "id": "d23efd7c-680e-446c-9565-4b0bcdf8e232",
   "metadata": {},
   "source": [
    "#### Private Variables/ Access Modifiers:- "
   ]
  },
  {
   "cell_type": "code",
   "execution_count": 15,
   "id": "1e274a5d-9275-4243-bcc0-cbb03481f64d",
   "metadata": {},
   "outputs": [
    {
     "data": {
      "text/plain": [
       "['_Person__age',\n",
       " '_Person__name',\n",
       " '__class__',\n",
       " '__delattr__',\n",
       " '__dict__',\n",
       " '__dir__',\n",
       " '__doc__',\n",
       " '__eq__',\n",
       " '__firstlineno__',\n",
       " '__format__',\n",
       " '__ge__',\n",
       " '__getattribute__',\n",
       " '__getstate__',\n",
       " '__gt__',\n",
       " '__hash__',\n",
       " '__init__',\n",
       " '__init_subclass__',\n",
       " '__le__',\n",
       " '__lt__',\n",
       " '__module__',\n",
       " '__ne__',\n",
       " '__new__',\n",
       " '__reduce__',\n",
       " '__reduce_ex__',\n",
       " '__repr__',\n",
       " '__setattr__',\n",
       " '__sizeof__',\n",
       " '__static_attributes__',\n",
       " '__str__',\n",
       " '__subclasshook__',\n",
       " '__weakref__',\n",
       " 'surname']"
      ]
     },
     "execution_count": 15,
     "metadata": {},
     "output_type": "execute_result"
    }
   ],
   "source": [
    "class Person:\n",
    "    def __init__(self,name,surname,age):\n",
    "        self.__name = name     #private variable\n",
    "        self.__age = age       #private variable\n",
    "        self.surname = surname\n",
    "\n",
    "def get_name(person):\n",
    "    return person.__name    #made variable private still got error, because we can not access it outside the class.\n",
    "\n",
    "person = Person('Ganesh','Gunjal',33)\n",
    "dir(person)    #surname showing as public variable"
   ]
  },
  {
   "cell_type": "code",
   "execution_count": 17,
   "id": "769984a8-c553-4305-a3f3-2cd739f81727",
   "metadata": {},
   "outputs": [
    {
     "ename": "AttributeError",
     "evalue": "'Person' object has no attribute '__name'",
     "output_type": "error",
     "traceback": [
      "\u001b[1;31m---------------------------------------------------------------------------\u001b[0m",
      "\u001b[1;31mAttributeError\u001b[0m                            Traceback (most recent call last)",
      "Cell \u001b[1;32mIn[17], line 1\u001b[0m\n\u001b[1;32m----> 1\u001b[0m get_name(person)\n",
      "Cell \u001b[1;32mIn[15], line 8\u001b[0m, in \u001b[0;36mget_name\u001b[1;34m(person)\u001b[0m\n\u001b[0;32m      7\u001b[0m \u001b[38;5;28;01mdef\u001b[39;00m\u001b[38;5;250m \u001b[39m\u001b[38;5;21mget_name\u001b[39m(person):\n\u001b[1;32m----> 8\u001b[0m     \u001b[38;5;28;01mreturn\u001b[39;00m person\u001b[38;5;241m.\u001b[39m__name\n",
      "\u001b[1;31mAttributeError\u001b[0m: 'Person' object has no attribute '__name'"
     ]
    }
   ],
   "source": [
    "get_name(person)    #because its private variable and can not access outside the class."
   ]
  },
  {
   "cell_type": "markdown",
   "id": "6076805b-0d8e-4032-b7a7-156b503fe04f",
   "metadata": {},
   "source": [
    "#### Protected Variable:"
   ]
  },
  {
   "cell_type": "code",
   "execution_count": 19,
   "id": "5a7203c8-9798-44fe-849b-b46ea0bba6b0",
   "metadata": {},
   "outputs": [
    {
     "name": "stdout",
     "output_type": "stream",
     "text": [
      "Ganesh\n"
     ]
    }
   ],
   "source": [
    "class Person:\n",
    "    def __init__(self,name,age,gender):\n",
    "        self._name = name\n",
    "        self._age = age\n",
    "        self._gender = gender\n",
    "class Employee(Person):\n",
    "    def __init__(self,name,age,gender):\n",
    "        super().__init__(name,age,gender)\n",
    "\n",
    "employee = Employee('Ganesh',33,'Male')\n",
    "print(employee._name)"
   ]
  },
  {
   "cell_type": "code",
   "execution_count": null,
   "id": "9f1177f1-54df-438d-b2fc-140ffd8a1d29",
   "metadata": {},
   "outputs": [],
   "source": []
  }
 ],
 "metadata": {
  "kernelspec": {
   "display_name": "Python 3 (ipykernel)",
   "language": "python",
   "name": "python3"
  },
  "language_info": {
   "codemirror_mode": {
    "name": "ipython",
    "version": 3
   },
   "file_extension": ".py",
   "mimetype": "text/x-python",
   "name": "python",
   "nbconvert_exporter": "python",
   "pygments_lexer": "ipython3",
   "version": "3.13.5"
  }
 },
 "nbformat": 4,
 "nbformat_minor": 5
}
