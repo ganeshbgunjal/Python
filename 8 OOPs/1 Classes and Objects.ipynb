{
 "cells": [
  {
   "cell_type": "markdown",
   "id": "2df553af-5bca-4c2e-b495-636df620aff8",
   "metadata": {},
   "source": [
    "### Class and Object:-"
   ]
  },
  {
   "cell_type": "markdown",
   "id": "adc1c521-e8b7-4aa8-82bd-4a99e8e558c8",
   "metadata": {},
   "source": [
    "Object oriented programmin is pogramming paradigm that uses a \"objects\" to design computer applications and programs.  OOP allows modelling real world scenarios using classes and objects."
   ]
  },
  {
   "cell_type": "markdown",
   "id": "69ff8dd3-513b-4ace-a056-9e8baf3f9eca",
   "metadata": {},
   "source": [
    "#### 1. What is a Class?\n",
    "A class is like a blueprint for creating objects.  \n",
    "It has separate methods and attributes and methods."
   ]
  },
  {
   "cell_type": "markdown",
   "id": "928a42a8-6ad9-4ecd-895a-6082df904625",
   "metadata": {},
   "source": [
    "#### 2. What is an Object?\n",
    "An object is something created from a class — the actual house built from that blueprint.\n",
    "You can make many objects from the same class, each with its own data."
   ]
  },
  {
   "cell_type": "code",
   "execution_count": 1,
   "id": "06e0aa6a-aa68-4f1e-a870-db974406b675",
   "metadata": {},
   "outputs": [
    {
     "name": "stdout",
     "output_type": "stream",
     "text": [
      "<class '__main__.Car'>\n"
     ]
    }
   ],
   "source": [
    "class Car:\n",
    "    pass\n",
    "\n",
    "audi = Car()\n",
    "bmw = Car()\n",
    "\n",
    "print(type(audi))"
   ]
  },
  {
   "cell_type": "code",
   "execution_count": 3,
   "id": "bdee307e-6ea9-4ed8-ad51-0e649d6cbce1",
   "metadata": {},
   "outputs": [
    {
     "name": "stdout",
     "output_type": "stream",
     "text": [
      "<__main__.Car object at 0x0000024AD4FB7380>\n"
     ]
    }
   ],
   "source": [
    "print(audi)     #this is the car object with this memory location. "
   ]
  },
  {
   "cell_type": "markdown",
   "id": "0bb7c7bf-6067-4c3a-84c3-70d34854dd6f",
   "metadata": {},
   "source": [
    "### Instance variable and Methods:"
   ]
  },
  {
   "cell_type": "code",
   "execution_count": 4,
   "id": "6e01eac5-b6d8-4ffe-a7a0-bd47043ff1e3",
   "metadata": {},
   "outputs": [
    {
     "name": "stdout",
     "output_type": "stream",
     "text": [
      "Toyota engine started!\n",
      "BMW engine started!\n",
      "Toyota is now Blue\n"
     ]
    }
   ],
   "source": [
    "class Car:\n",
    "    def __init__(self, brand, color):\n",
    "        self.brand = brand      # Instance variable\n",
    "        self.color = color      # Instance variable\n",
    "\n",
    "    def start_engine(self):     # Instance method\n",
    "        print(f\"{self.brand} engine started!\")\n",
    "\n",
    "    def repaint(self, new_color):  # Instance method\n",
    "        self.color = new_color\n",
    "        print(f\"{self.brand} is now {self.color}\")\n",
    "\n",
    "# Create objects\n",
    "car1 = Car(\"Toyota\", \"Red\")\n",
    "car2 = Car(\"BMW\", \"Black\")\n",
    "\n",
    "# Call instance methods\n",
    "car1.start_engine()     # Toyota engine started!\n",
    "car2.start_engine()     # BMW engine started!\n",
    "\n",
    "car1.repaint(\"Blue\")    # Toyota is now Blue\n"
   ]
  },
  {
   "cell_type": "code",
   "execution_count": null,
   "id": "6cbee082-e5f3-4b66-86c7-dd4e06152344",
   "metadata": {},
   "outputs": [],
   "source": [
    "class Car:\n",
    "    def __init__(self,name,age):\n",
    "        self.name=name\n",
    "        self.age=age"
   ]
  }
 ],
 "metadata": {
  "kernelspec": {
   "display_name": "Python 3 (ipykernel)",
   "language": "python",
   "name": "python3"
  },
  "language_info": {
   "codemirror_mode": {
    "name": "ipython",
    "version": 3
   },
   "file_extension": ".py",
   "mimetype": "text/x-python",
   "name": "python",
   "nbconvert_exporter": "python",
   "pygments_lexer": "ipython3",
   "version": "3.13.5"
  }
 },
 "nbformat": 4,
 "nbformat_minor": 5
}
