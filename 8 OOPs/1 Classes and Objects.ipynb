{
 "cells": [
  {
   "cell_type": "markdown",
   "id": "2df553af-5bca-4c2e-b495-636df620aff8",
   "metadata": {},
   "source": [
    "### Class and Object:-"
   ]
  },
  {
   "cell_type": "markdown",
   "id": "adc1c521-e8b7-4aa8-82bd-4a99e8e558c8",
   "metadata": {},
   "source": [
    "Object oriented programmin is pogramming paradigm that uses a \"objects\" to design computer applications and programs.  OOP allows modelling real world scenarios using classes and objects."
   ]
  },
  {
   "cell_type": "markdown",
   "id": "69ff8dd3-513b-4ace-a056-9e8baf3f9eca",
   "metadata": {},
   "source": [
    "#### 1. What is a Class?\n",
    "A class is like a blueprint for creating objects.  \n",
    "It has separate methods and attributes and methods."
   ]
  },
  {
   "cell_type": "markdown",
   "id": "928a42a8-6ad9-4ecd-895a-6082df904625",
   "metadata": {},
   "source": [
    "#### 2. What is an Object?\n",
    "An object is something created from a class — the actual house built from that blueprint.\n",
    "You can make many objects from the same class, each with its own data."
   ]
  },
  {
   "cell_type": "code",
   "execution_count": 1,
   "id": "06e0aa6a-aa68-4f1e-a870-db974406b675",
   "metadata": {},
   "outputs": [
    {
     "name": "stdout",
     "output_type": "stream",
     "text": [
      "<class '__main__.Car'>\n"
     ]
    }
   ],
   "source": [
    "class Car:\n",
    "    pass\n",
    "\n",
    "audi = Car()\n",
    "bmw = Car()\n",
    "\n",
    "print(type(audi))"
   ]
  },
  {
   "cell_type": "code",
   "execution_count": 3,
   "id": "bdee307e-6ea9-4ed8-ad51-0e649d6cbce1",
   "metadata": {},
   "outputs": [
    {
     "name": "stdout",
     "output_type": "stream",
     "text": [
      "<__main__.Car object at 0x0000024AD4FB7380>\n"
     ]
    }
   ],
   "source": [
    "print(audi)     #this is the car object with this memory location. "
   ]
  },
  {
   "cell_type": "markdown",
   "id": "0bb7c7bf-6067-4c3a-84c3-70d34854dd6f",
   "metadata": {},
   "source": [
    "### Instance variable and Methods:"
   ]
  },
  {
   "cell_type": "code",
   "execution_count": 4,
   "id": "6e01eac5-b6d8-4ffe-a7a0-bd47043ff1e3",
   "metadata": {},
   "outputs": [
    {
     "name": "stdout",
     "output_type": "stream",
     "text": [
      "Toyota engine started!\n",
      "BMW engine started!\n",
      "Toyota is now Blue\n"
     ]
    }
   ],
   "source": [
    "class Car:\n",
    "    def __init__(self, brand, color):\n",
    "        self.brand = brand      # Instance variable\n",
    "        self.color = color      # Instance variable\n",
    "\n",
    "    def start_engine(self):     # Instance method\n",
    "        print(f\"{self.brand} engine started!\")\n",
    "\n",
    "    def repaint(self, new_color):  # Instance method\n",
    "        self.color = new_color\n",
    "        print(f\"{self.brand} is now {self.color}\")\n",
    "\n",
    "# Create objects\n",
    "car1 = Car(\"Toyota\", \"Red\")\n",
    "car2 = Car(\"BMW\", \"Black\")\n",
    "\n",
    "# Call instance methods\n",
    "car1.start_engine()     # Toyota engine started!\n",
    "car2.start_engine()     # BMW engine started!\n",
    "\n",
    "car1.repaint(\"Blue\")    # Toyota is now Blue\n"
   ]
  },
  {
   "cell_type": "code",
   "execution_count": 5,
   "id": "6cbee082-e5f3-4b66-86c7-dd4e06152344",
   "metadata": {},
   "outputs": [
    {
     "name": "stdout",
     "output_type": "stream",
     "text": [
      "<__main__.Dog object at 0x0000024AD4FB7620>\n",
      "shera\n",
      "5\n"
     ]
    }
   ],
   "source": [
    "class Dog:\n",
    "    def __init__(self,name,age):\n",
    "        self.name=name\n",
    "        self.age=age\n",
    "\n",
    "# create object.\n",
    "dog1 = Dog('shera',5)\n",
    "print(dog1)\n",
    "print(dog1.name)\n",
    "print(dog1.age)"
   ]
  },
  {
   "cell_type": "code",
   "execution_count": 7,
   "id": "cd4fbc99-a5c7-4535-94f9-7c063dd1a2cb",
   "metadata": {},
   "outputs": [
    {
     "name": "stdout",
     "output_type": "stream",
     "text": [
      "<__main__.Dog object at 0x0000024AD5155810>\n",
      "lucy\n",
      "4\n"
     ]
    }
   ],
   "source": [
    "dog2 = Dog('lucy',4)\n",
    "print(dog2)\n",
    "print(dog2.name)\n",
    "print(dog2.age)"
   ]
  },
  {
   "cell_type": "markdown",
   "id": "91c23f70-1ce2-41e5-9d1e-ab2978553625",
   "metadata": {},
   "source": [
    "#### Create a class with instance methods:"
   ]
  },
  {
   "cell_type": "code",
   "execution_count": 8,
   "id": "33abf9e1-662f-4b25-a56e-e6d20a08b58d",
   "metadata": {},
   "outputs": [],
   "source": [
    "class Dog:\n",
    "    def __init__(self,name,age):\n",
    "        self.name= name\n",
    "        self.age = age\n",
    "\n",
    "    def bark(self):\n",
    "        print(f'{self.name} barks like \"bho bho\"')"
   ]
  },
  {
   "cell_type": "code",
   "execution_count": 11,
   "id": "dff6d346-39e8-44f0-a8ed-044a1e503daf",
   "metadata": {},
   "outputs": [
    {
     "name": "stdout",
     "output_type": "stream",
     "text": [
      "bibtya\n",
      "bibtya barks like \"bho bho\"\n",
      "None\n"
     ]
    }
   ],
   "source": [
    "dog = Dog('bibtya',5)\n",
    "print(dog.name)\n",
    "print(dog.bark())"
   ]
  },
  {
   "cell_type": "markdown",
   "id": "c4b373a0-e627-434e-98a3-4095e940645d",
   "metadata": {},
   "source": [
    "#### Modelling a Bank account:\n",
    "Define a class for the bank account"
   ]
  },
  {
   "cell_type": "code",
   "execution_count": 15,
   "id": "03b223e3-decd-4523-9c7c-175c7e469b59",
   "metadata": {},
   "outputs": [],
   "source": [
    "class BankAccount:\n",
    "    def __init__(self,owner,balance=0):\n",
    "        self.owner = owner\n",
    "        self.balance = balance\n",
    "\n",
    "    def deposit(self,amount):\n",
    "        self.balance = self.balance +amount\n",
    "        print(f'{amount} credited and new balance is {self.balance}')\n",
    "\n",
    "    def withdraw(self,amount):\n",
    "        if amount >self.balance:\n",
    "            print(f'You have Insufficient fund to withdraw')\n",
    "        else:\n",
    "            self.balance = self.balance-amount\n",
    "            print(f'{amount} withdrawn and new balance is {self.balance}')\n",
    "    def get_balance(self):\n",
    "        return f'Balance: {self.balance}'"
   ]
  },
  {
   "cell_type": "code",
   "execution_count": 18,
   "id": "08900c41-3332-4f78-a228-29b6bd5577c6",
   "metadata": {},
   "outputs": [
    {
     "name": "stdout",
     "output_type": "stream",
     "text": [
      "Balance: 5000\n",
      "3000 credited and new balance is 8000\n",
      "Credited: None\n",
      "-------------------------------------------\n",
      "2000 withdrawn and new balance is 6000\n",
      "None\n"
     ]
    }
   ],
   "source": [
    "account = BankAccount('Ganesh',5000)\n",
    "print(account.get_balance())\n",
    "print(f'Credited: {account.deposit(3000)}')\n",
    "print('-------------------------------------------')\n",
    "print(account.withdraw(2000))"
   ]
  },
  {
   "cell_type": "code",
   "execution_count": 19,
   "id": "28af7ad0-f404-47dd-9d93-f5224378f0b5",
   "metadata": {},
   "outputs": [
    {
     "data": {
      "text/plain": [
       "'Balance: 6000'"
      ]
     },
     "execution_count": 19,
     "metadata": {},
     "output_type": "execute_result"
    }
   ],
   "source": [
    "account.get_balance()"
   ]
  },
  {
   "cell_type": "code",
   "execution_count": 20,
   "id": "d89feb9f-5085-4b4c-a1a9-9802effcf121",
   "metadata": {},
   "outputs": [
    {
     "name": "stdout",
     "output_type": "stream",
     "text": [
      "200 credited and new balance is 6200\n"
     ]
    }
   ],
   "source": [
    "account.deposit(200)"
   ]
  },
  {
   "cell_type": "code",
   "execution_count": 21,
   "id": "b4c8d2e2-8f28-46e8-a2d9-2e78cfda2f61",
   "metadata": {},
   "outputs": [
    {
     "name": "stdout",
     "output_type": "stream",
     "text": [
      "500 withdrawn and new balance is 5700\n"
     ]
    }
   ],
   "source": [
    "account.withdraw(500)"
   ]
  },
  {
   "cell_type": "code",
   "execution_count": null,
   "id": "448734a9-4870-4a28-9a36-a3ab502dad4f",
   "metadata": {},
   "outputs": [],
   "source": []
  }
 ],
 "metadata": {
  "kernelspec": {
   "display_name": "Python 3 (ipykernel)",
   "language": "python",
   "name": "python3"
  },
  "language_info": {
   "codemirror_mode": {
    "name": "ipython",
    "version": 3
   },
   "file_extension": ".py",
   "mimetype": "text/x-python",
   "name": "python",
   "nbconvert_exporter": "python",
   "pygments_lexer": "ipython3",
   "version": "3.13.5"
  }
 },
 "nbformat": 4,
 "nbformat_minor": 5
}
