{
 "cells": [
  {
   "cell_type": "markdown",
   "id": "cbe8fc26-7fa9-4bd9-9255-9fe9475d76c3",
   "metadata": {},
   "source": [
    "### Inheritance:"
   ]
  },
  {
   "cell_type": "markdown",
   "id": "17481b9e-e061-4f76-92dc-18e07e70ac27",
   "metadata": {},
   "source": [
    "Inheritance ia a fundamental concept of oops that allows a class to inherit attributes and methods from another class.  \n",
    "This lesson contains **single and multiple Inheritance.**"
   ]
  },
  {
   "cell_type": "markdown",
   "id": "de0a3edd-aa7b-41e7-9923-f9eea0db1373",
   "metadata": {},
   "source": [
    "Inheritance Type:  \n",
    "      1. Single Inheritance  \n",
    "    2. Multiple Inheritance"
   ]
  },
  {
   "cell_type": "markdown",
   "id": "e93abddc-4204-410e-9875-3d103d471a13",
   "metadata": {},
   "source": [
    "### 1. Single Inheritance: Only one child class Inheriting parent class"
   ]
  },
  {
   "cell_type": "markdown",
   "id": "38f3ef26-7599-48ee-b7f2-60d0973bf5a0",
   "metadata": {},
   "source": [
    "#### Parent class\n"
   ]
  },
  {
   "cell_type": "code",
   "execution_count": 1,
   "id": "78215301-cf5a-4891-83f7-cc75195edec1",
   "metadata": {},
   "outputs": [],
   "source": [
    "class Car:\n",
    "    def __init__(self,doors,windows,enginetype):\n",
    "        self.doors = doors\n",
    "        self.windows = windows\n",
    "        self.enginetype = enginetype\n",
    "\n",
    "    def drive(self):\n",
    "        print(f'The person drives a {self.enginetype} car')\n",
    "\n",
    "    def show_details(self):\n",
    "        print(f\"Doors: {self.doors}, Windows: {self.windows}, Engine: {self.enginetype}\")"
   ]
  },
  {
   "cell_type": "code",
   "execution_count": 2,
   "id": "39269a5d-68f7-40c6-9972-e8ae00e3067b",
   "metadata": {},
   "outputs": [
    {
     "name": "stdout",
     "output_type": "stream",
     "text": [
      "The person drives a petrol car\n"
     ]
    }
   ],
   "source": [
    "car1 = Car(4,5,'petrol')\n",
    "car1.drive()"
   ]
  },
  {
   "cell_type": "code",
   "execution_count": 3,
   "id": "f17ad07c-e22b-4f70-88be-44809a080cda",
   "metadata": {},
   "outputs": [
    {
     "name": "stdout",
     "output_type": "stream",
     "text": [
      "The person drives a Diesel car\n"
     ]
    }
   ],
   "source": [
    "car2 = Car(4,2,'Diesel')\n",
    "car2.drive()"
   ]
  },
  {
   "cell_type": "markdown",
   "id": "14aacbb6-72ae-429f-bca1-855a81300006",
   "metadata": {},
   "source": [
    "#### Child class"
   ]
  },
  {
   "cell_type": "code",
   "execution_count": 4,
   "id": "2d5749da-25b8-4b45-bf2e-12148548aa41",
   "metadata": {},
   "outputs": [],
   "source": [
    "class Tesla(Car):\n",
    "    def __init__(self,doors,windows,enginetype,is_selfdriving):\n",
    "        super().__init__(doors,windows,enginetype)\n",
    "        self.is_selfdriving = is_selfdriving\n",
    "\n",
    "    def selfdriving(self):\n",
    "        print(f'Tesla supports selfdriving: {self.is_selfdriving}')"
   ]
  },
  {
   "cell_type": "code",
   "execution_count": 5,
   "id": "a7cccb70-b063-4397-a96d-d711b281e429",
   "metadata": {},
   "outputs": [
    {
     "name": "stdout",
     "output_type": "stream",
     "text": [
      "Doors: 3, Windows: 4, Engine: electric\n",
      "Tesla supports selfdriving: True\n"
     ]
    }
   ],
   "source": [
    "tesla = Tesla(3,4,'electric',True)\n",
    "tesla.show_details()  #From Car class\n",
    "tesla.selfdriving()    #from Tesla class"
   ]
  },
  {
   "cell_type": "markdown",
   "id": "f155f643-e93e-42f2-a280-b61e01a978dc",
   "metadata": {},
   "source": [
    "### 2. Multiple Inheritance: When a class inherits from more than one base class"
   ]
  },
  {
   "cell_type": "markdown",
   "id": "12a031d9-46ec-4cb8-aea5-25b0ac8e68b4",
   "metadata": {},
   "source": [
    "#### Base class 1"
   ]
  },
  {
   "cell_type": "code",
   "execution_count": 6,
   "id": "f7609ed7-c97e-4328-ad4f-6973364157bb",
   "metadata": {},
   "outputs": [],
   "source": [
    "class Animal:\n",
    "    def __init__(self,name):\n",
    "        self.name = name\n",
    "    def speak(self):\n",
    "        print('Subclass must implment like this')"
   ]
  },
  {
   "cell_type": "markdown",
   "id": "e2c5ee1f-f715-4f1c-8163-a93483ab2ef6",
   "metadata": {},
   "source": [
    "#### Base class 2"
   ]
  },
  {
   "cell_type": "code",
   "execution_count": 7,
   "id": "bf44f9d0-4a48-4c27-8e59-69aff0d2ee94",
   "metadata": {},
   "outputs": [],
   "source": [
    "class Pet:\n",
    "    def __init__(self,owner):\n",
    "        self.owner = owner"
   ]
  },
  {
   "cell_type": "markdown",
   "id": "d5dae72a-c530-45ce-acca-7974df171379",
   "metadata": {},
   "source": [
    "#### Derived class:"
   ]
  },
  {
   "cell_type": "code",
   "execution_count": 12,
   "id": "cbe76a10-615e-4573-8e17-4e4ceb62de66",
   "metadata": {},
   "outputs": [
    {
     "name": "stdout",
     "output_type": "stream",
     "text": [
      "Shera says Bho Bho\n",
      "Owner is: Ganesh\n"
     ]
    }
   ],
   "source": [
    "class Dog(Animal,Pet):\n",
    "    def __init__(self,name,owner):\n",
    "        Animal.__init__(self,name)\n",
    "        Pet.__init__(self,owner)\n",
    "\n",
    "    def speak(self):\n",
    "        return f'{self.name} says Bho Bho'\n",
    "\n",
    "dog = Dog('Shera','Ganesh')\n",
    "print(dog.speak())\n",
    "print(f'Owner is: {dog.owner}')"
   ]
  },
  {
   "cell_type": "code",
   "execution_count": null,
   "id": "3a8953d9-cd97-46ca-86da-f1e0991061f1",
   "metadata": {},
   "outputs": [],
   "source": []
  }
 ],
 "metadata": {
  "kernelspec": {
   "display_name": "Python 3 (ipykernel)",
   "language": "python",
   "name": "python3"
  },
  "language_info": {
   "codemirror_mode": {
    "name": "ipython",
    "version": 3
   },
   "file_extension": ".py",
   "mimetype": "text/x-python",
   "name": "python",
   "nbconvert_exporter": "python",
   "pygments_lexer": "ipython3",
   "version": "3.13.5"
  }
 },
 "nbformat": 4,
 "nbformat_minor": 5
}
