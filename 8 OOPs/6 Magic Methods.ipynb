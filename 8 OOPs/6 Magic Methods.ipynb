{
 "cells": [
  {
   "cell_type": "markdown",
   "id": "d4777202-4304-4100-be01-bb412c753af5",
   "metadata": {},
   "source": [
    "## Magic Methods:--"
   ]
  },
  {
   "cell_type": "markdown",
   "id": "271a22ca-647d-47f1-80c0-67425df090c5",
   "metadata": {},
   "source": [
    "Ganesh, **Magic methods** in Python (also called dunder methods because they have double underscores before and after the name) are special methods that let you define how objects of your class behave in certain situations.\n",
    "\n",
    "They are “magic” because Python automatically calls them for you, instead of you calling them directly."
   ]
  },
  {
   "cell_type": "markdown",
   "id": "e9b89ff2-5c9d-4b49-8fe9-100f340b39ee",
   "metadata": {},
   "source": [
    "Magic methods are pre-defined methods in python that can override to change the behaviour of you object.   \n",
    "Some common methods are as follows:-  \n"
   ]
  },
  {
   "cell_type": "code",
   "execution_count": 1,
   "id": "8107df5a-5117-4b9e-ad54-1c00e2a142d5",
   "metadata": {},
   "outputs": [
    {
     "data": {
      "text/plain": [
       "'\\n__init__ : initialise new instance of your class.  \\n__str__ : returns string representation of your class.  \\n__repr__ : returns an official string representation of an object.  \\n__len__ : returns the length of your object.  \\n__getitem__ : gets item from the container.  \\n__setitem__ : sets item in a container\\n'"
      ]
     },
     "execution_count": 1,
     "metadata": {},
     "output_type": "execute_result"
    }
   ],
   "source": [
    "'''\n",
    "__init__ : initialise new instance of your class.  \n",
    "__str__ : returns string representation of your class.  \n",
    "__repr__ : returns an official string representation of an object.  \n",
    "__len__ : returns the length of your object.  \n",
    "__getitem__ : gets item from the container.  \n",
    "__setitem__ : sets item in a container\n",
    "'''"
   ]
  },
  {
   "cell_type": "code",
   "execution_count": 3,
   "id": "79951a8d-0ee2-458c-9633-8a98169055ef",
   "metadata": {},
   "outputs": [
    {
     "data": {
      "text/plain": [
       "['__class__',\n",
       " '__delattr__',\n",
       " '__dict__',\n",
       " '__dir__',\n",
       " '__doc__',\n",
       " '__eq__',\n",
       " '__firstlineno__',\n",
       " '__format__',\n",
       " '__ge__',\n",
       " '__getattribute__',\n",
       " '__getstate__',\n",
       " '__gt__',\n",
       " '__hash__',\n",
       " '__init__',\n",
       " '__init_subclass__',\n",
       " '__le__',\n",
       " '__lt__',\n",
       " '__module__',\n",
       " '__ne__',\n",
       " '__new__',\n",
       " '__reduce__',\n",
       " '__reduce_ex__',\n",
       " '__repr__',\n",
       " '__setattr__',\n",
       " '__sizeof__',\n",
       " '__static_attributes__',\n",
       " '__str__',\n",
       " '__subclasshook__',\n",
       " '__weakref__']"
      ]
     },
     "execution_count": 3,
     "metadata": {},
     "output_type": "execute_result"
    }
   ],
   "source": [
    "class Person:\n",
    "    pass\n",
    "\n",
    "person = Person()\n",
    "dir(person)      #below are the magic methods for this class."
   ]
  },
  {
   "cell_type": "code",
   "execution_count": 5,
   "id": "fc44a1ba-1b85-44a1-b636-41c000521268",
   "metadata": {},
   "outputs": [
    {
     "name": "stdout",
     "output_type": "stream",
     "text": [
      "<__main__.Person object at 0x0000021D46460AD0>\n"
     ]
    }
   ],
   "source": [
    "#some basic methods\n",
    "class Person:\n",
    "    def __init__(self,name,age):\n",
    "        self.name = name\n",
    "        self.age = age\n",
    "\n",
    "person = Person('ganesh',33)\n",
    "print(person)"
   ]
  },
  {
   "cell_type": "code",
   "execution_count": 11,
   "id": "d60c4c03-da86-4ec5-ba0c-9bafdbaf1168",
   "metadata": {},
   "outputs": [
    {
     "name": "stdout",
     "output_type": "stream",
     "text": [
      "Ganesh is 33 years old!\n",
      "Person: Ganesh, Age: 33\n"
     ]
    }
   ],
   "source": [
    "class Person:\n",
    "    def __init__(self,name,age):\n",
    "        self.name = name\n",
    "        self.age = age\n",
    "    \n",
    "    def __str__(self):\n",
    "        return f'{self.name} is {self.age} years old!'\n",
    "\n",
    "    def __repr__(self):\n",
    "        return f'Person: {self.name}, Age: {self.age}'\n",
    "\n",
    "person = Person('Ganesh',33)\n",
    "print(person)\n",
    "print(repr(person))"
   ]
  },
  {
   "cell_type": "code",
   "execution_count": null,
   "id": "97946f5d-86f3-4712-b571-ce4855d8c9ab",
   "metadata": {},
   "outputs": [],
   "source": []
  }
 ],
 "metadata": {
  "kernelspec": {
   "display_name": "Python 3 (ipykernel)",
   "language": "python",
   "name": "python3"
  },
  "language_info": {
   "codemirror_mode": {
    "name": "ipython",
    "version": 3
   },
   "file_extension": ".py",
   "mimetype": "text/x-python",
   "name": "python",
   "nbconvert_exporter": "python",
   "pygments_lexer": "ipython3",
   "version": "3.13.5"
  }
 },
 "nbformat": 4,
 "nbformat_minor": 5
}
