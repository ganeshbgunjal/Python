{
 "cells": [
  {
   "cell_type": "markdown",
   "id": "d4777202-4304-4100-be01-bb412c753af5",
   "metadata": {},
   "source": [
    "## Magic Methods:--"
   ]
  },
  {
   "cell_type": "markdown",
   "id": "271a22ca-647d-47f1-80c0-67425df090c5",
   "metadata": {},
   "source": [
    "Ganesh, **Magic methods** in Python (also called dunder methods because they have double underscores before and after the name) are special methods that let you define how objects of your class behave in certain situations.\n",
    "\n",
    "They are “magic” because Python automatically calls them for you, instead of you calling them directly."
   ]
  },
  {
   "cell_type": "code",
   "execution_count": null,
   "id": "21dccf43-d425-4bfd-ad60-daf0ec8cc202",
   "metadata": {},
   "outputs": [],
   "source": []
  }
 ],
 "metadata": {
  "kernelspec": {
   "display_name": "Python 3 (ipykernel)",
   "language": "python",
   "name": "python3"
  },
  "language_info": {
   "codemirror_mode": {
    "name": "ipython",
    "version": 3
   },
   "file_extension": ".py",
   "mimetype": "text/x-python",
   "name": "python",
   "nbconvert_exporter": "python",
   "pygments_lexer": "ipython3",
   "version": "3.13.5"
  }
 },
 "nbformat": 4,
 "nbformat_minor": 5
}
