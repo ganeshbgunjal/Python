{
 "cells": [
  {
   "cell_type": "markdown",
   "id": "d46ea11c-c5a1-4a67-95d6-34caaa0eaeb6",
   "metadata": {},
   "source": [
    "### Abstraction::--\n",
    "Its a concept of hiding the complex implementation details and showing only necessory features of the object. This helps in reducing programming complexity and efforts. "
   ]
  },
  {
   "cell_type": "code",
   "execution_count": 2,
   "id": "30befb66-bd8e-42c1-9c0b-4dd78f81ea42",
   "metadata": {},
   "outputs": [
    {
     "name": "stdout",
     "output_type": "stream",
     "text": [
      "Car engine started\n",
      "The vehicle is used for driving\n"
     ]
    }
   ],
   "source": [
    "# Abstract base class:\n",
    "from abc import ABC,abstractmethod\n",
    "\n",
    "class Vehicle(ABC):\n",
    "    def drive(self):\n",
    "        print('The vehicle is used for driving')\n",
    "\n",
    "    @abstractmethod\n",
    "    def start_engine(self):\n",
    "        pass\n",
    "        \n",
    "class Car(Vehicle):\n",
    "    def start_engine(self):\n",
    "        print('Car engine started')\n",
    "\n",
    "def operate_vehicle(vehicle):\n",
    "    vehicle.start_engine()\n",
    "    vehicle.drive()\n",
    "\n",
    "\n",
    "car = Car()\n",
    "operate_vehicle(car)"
   ]
  },
  {
   "cell_type": "code",
   "execution_count": null,
   "id": "40e8607d-53c2-4daf-9282-4c51c88a6380",
   "metadata": {},
   "outputs": [],
   "source": []
  }
 ],
 "metadata": {
  "kernelspec": {
   "display_name": "Python 3 (ipykernel)",
   "language": "python",
   "name": "python3"
  },
  "language_info": {
   "codemirror_mode": {
    "name": "ipython",
    "version": 3
   },
   "file_extension": ".py",
   "mimetype": "text/x-python",
   "name": "python",
   "nbconvert_exporter": "python",
   "pygments_lexer": "ipython3",
   "version": "3.13.5"
  }
 },
 "nbformat": 4,
 "nbformat_minor": 5
}
