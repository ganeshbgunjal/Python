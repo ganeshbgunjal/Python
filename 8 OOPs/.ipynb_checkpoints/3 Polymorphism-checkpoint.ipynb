{
 "cells": [
  {
   "cell_type": "markdown",
   "id": "9748bb4e-d673-49e2-bd6d-b42f27100e79",
   "metadata": {},
   "source": [
    "### Polymorphism:--"
   ]
  },
  {
   "cell_type": "markdown",
   "id": "78615858-eba7-499f-b286-1627cdfb2e2f",
   "metadata": {},
   "source": [
    "#### Meaning of Polymorphism:--\n",
    "The word poly means many and morph means forms.\n",
    "#### In Python OOP, it means:\n",
    "\n",
    "The same method name can be used for different types of objects, but each object can behave differently.  \n",
    "Polymorphism can be achieved thr method overriding and interfaces."
   ]
  },
  {
   "cell_type": "markdown",
   "id": "0285b18d-9450-444a-bb15-b584edbe0110",
   "metadata": {},
   "source": [
    "#### Method Overriding:- \n",
    "It allows a child class to provide a specific implementation of a method that is already defined in its parent class"
   ]
  },
  {
   "cell_type": "code",
   "execution_count": 5,
   "id": "93ce5461-78ce-4d1f-8faa-9398356be280",
   "metadata": {},
   "outputs": [],
   "source": [
    "#Base class:\n",
    "class Animal:\n",
    "    def speak(self):\n",
    "        return \"Sound of the animal\"\n",
    "\n",
    "#Derived class:\n",
    "class Dog(Animal):\n",
    "    def speak(self):\n",
    "        return \"Woof!\"\n",
    "\n",
    "class Cat(Animal):\n",
    "    def speak(self):\n",
    "        return 'Meow!'\n",
    "\n",
    "#function that demonstrate polymorphism\n",
    "def animal_speak(animal):\n",
    "    print(animal.speak())"
   ]
  },
  {
   "cell_type": "code",
   "execution_count": 6,
   "id": "525228af-49b9-4bbd-8686-c9e896c8fc9d",
   "metadata": {},
   "outputs": [
    {
     "name": "stdout",
     "output_type": "stream",
     "text": [
      "Dog: Woof!\n",
      "Cat: Meow!\n",
      "Woof!\n"
     ]
    }
   ],
   "source": [
    "dog = Dog()\n",
    "cat = Cat()\n",
    "print(f'Dog: {dog.speak()}')\n",
    "print(f'Cat: {cat.speak()}')\n",
    "animal_speak(dog)\n"
   ]
  },
  {
   "cell_type": "markdown",
   "id": "0359323b-603d-475b-8f13-03eef8d887e9",
   "metadata": {},
   "source": [
    "#### So here method speak() is overriden in child class."
   ]
  },
  {
   "cell_type": "markdown",
   "id": "a04939ee-951b-4622-a09f-173d84614293",
   "metadata": {},
   "source": [
    "#### Polymorphism with methods and functions:"
   ]
  },
  {
   "cell_type": "code",
   "execution_count": 7,
   "id": "e5fffff5-77de-41f0-90b3-b518f2bc6616",
   "metadata": {},
   "outputs": [],
   "source": [
    "class Shape:\n",
    "    def area(self):\n",
    "        return f'Area of the Figure'\n",
    "\n",
    "# Derived class1:\n",
    "class Rectangle(Shape):\n",
    "    def __init__(self,width,height):\n",
    "        self.width = width\n",
    "        self.height = height\n",
    "\n",
    "    def area(self):\n",
    "        return self.width * self.height\n",
    "\n",
    "# Derived class2:\n",
    "class Circle(Shape):\n",
    "    def __init__(self,radius):\n",
    "        self.radius = radius\n",
    "\n",
    "    def area(self):\n",
    "        return 3.14 * self.radius * self.radius\n",
    "\n",
    "#function that demonstrate the polymorphism\n",
    "def print_area(Shape):\n",
    "    print(f'The area is: {Shape.area()}')"
   ]
  },
  {
   "cell_type": "code",
   "execution_count": 8,
   "id": "7f217eea-9231-47c8-94cb-7c08055a381e",
   "metadata": {},
   "outputs": [
    {
     "name": "stdout",
     "output_type": "stream",
     "text": [
      "The area is: 20\n",
      "None\n",
      "The area is: 78.5\n",
      "None\n"
     ]
    }
   ],
   "source": [
    "rectangle = Rectangle(4,5)\n",
    "circle = Circle(5)\n",
    "print(print_area(rectangle))\n",
    "print(print_area(circle))"
   ]
  },
  {
   "cell_type": "markdown",
   "id": "7bbccc08-b107-41ce-aacd-736d34d56b8b",
   "metadata": {},
   "source": [
    "#### Polymorphism with Abstract Base Classes(Intefaces):"
   ]
  },
  {
   "cell_type": "markdown",
   "id": "7f9cc8db-bb07-4fd9-b14a-252350aaeaab",
   "metadata": {},
   "source": [
    "Abstract base classes are used to define common methods for a group of related objects.  \n",
    "They can enforce that derived classes implement paticular methods, promoting consistancy across different implementations.                                   "
   ]
  },
  {
   "cell_type": "code",
   "execution_count": 11,
   "id": "85922284-a1f3-4e7d-b424-9c4918055461",
   "metadata": {},
   "outputs": [
    {
     "name": "stdout",
     "output_type": "stream",
     "text": [
      "Car engine started\n",
      "None\n",
      "Motorcycle engine started\n",
      "None\n"
     ]
    }
   ],
   "source": [
    "from abc import ABC,abstractmethod\n",
    "\n",
    "#define a abstract class \n",
    "class Vehicle(ABC):\n",
    "    @abstractmethod\n",
    "    def start_engine(self):\n",
    "        pass\n",
    "\n",
    "#Derived class 1\n",
    "class Car(Vehicle):\n",
    "    def start_engine(self):\n",
    "        return  \"Car engine started\"\n",
    "\n",
    "# Derived class 2:\n",
    "class Motorcycle(Vehicle):\n",
    "    def start_engine(self):\n",
    "        return \"Motorcycle engine started\"\n",
    "\n",
    "# Function that will demonstrate polymorphism:\n",
    "def start_vehicle(vehicle):\n",
    "    print(vehicle.start_engine())\n",
    "    \n",
    "\n",
    "# create objects for car and motorcycle:\n",
    "car = Car()\n",
    "motorcycle = Motorcycle()\n",
    "\n",
    "print(start_vehicle(car))\n",
    "print(start_vehicle(motorcycle))"
   ]
  },
  {
   "cell_type": "markdown",
   "id": "0584c0f7-a50d-4e08-b594-a321dbbb9417",
   "metadata": {},
   "source": [
    "#### Conclusion: \n",
    "Polymorphism is powerful feature in OOP that allows for flexibility and integration in the code design. It enable the single function to handle objects of diffeent classes, each with its own implementation of a method. By understanding and applying polymorphism, you can create more extensible and maintainable object oriented pograms."
   ]
  },
  {
   "cell_type": "code",
   "execution_count": null,
   "id": "4a673c3d-e8d5-425e-be04-1276ea97fc7a",
   "metadata": {},
   "outputs": [],
   "source": []
  }
 ],
 "metadata": {
  "kernelspec": {
   "display_name": "Python 3 (ipykernel)",
   "language": "python",
   "name": "python3"
  },
  "language_info": {
   "codemirror_mode": {
    "name": "ipython",
    "version": 3
   },
   "file_extension": ".py",
   "mimetype": "text/x-python",
   "name": "python",
   "nbconvert_exporter": "python",
   "pygments_lexer": "ipython3",
   "version": "3.13.5"
  }
 },
 "nbformat": 4,
 "nbformat_minor": 5
}
