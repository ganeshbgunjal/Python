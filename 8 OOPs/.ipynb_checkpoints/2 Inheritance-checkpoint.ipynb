{
 "cells": [
  {
   "cell_type": "markdown",
   "id": "cbe8fc26-7fa9-4bd9-9255-9fe9475d76c3",
   "metadata": {},
   "source": [
    "### Inheritance:"
   ]
  },
  {
   "cell_type": "markdown",
   "id": "17481b9e-e061-4f76-92dc-18e07e70ac27",
   "metadata": {},
   "source": [
    "Inheritance ia a fundamental concept of oops that allows a class to inherit attributes and methods from another class.  \n",
    "This lesson contains **single and multiple Inheritance.**"
   ]
  },
  {
   "cell_type": "markdown",
   "id": "38f3ef26-7599-48ee-b7f2-60d0973bf5a0",
   "metadata": {},
   "source": [
    "#### Parent class\n"
   ]
  },
  {
   "cell_type": "code",
   "execution_count": 1,
   "id": "78215301-cf5a-4891-83f7-cc75195edec1",
   "metadata": {},
   "outputs": [],
   "source": [
    "class Car:\n",
    "    def __init__(self,doors,windows,enginetype):\n",
    "        self.doors = doors\n",
    "        self.windows = windows\n",
    "        self.enginetype = enginetype\n",
    "\n",
    "    def drive(self):\n",
    "        print(f'The person drives a {self.enginetype} car')"
   ]
  },
  {
   "cell_type": "code",
   "execution_count": 2,
   "id": "39269a5d-68f7-40c6-9972-e8ae00e3067b",
   "metadata": {},
   "outputs": [
    {
     "name": "stdout",
     "output_type": "stream",
     "text": [
      "The person drives a petrol car\n"
     ]
    }
   ],
   "source": [
    "car1 = Car(4,5,'petrol')\n",
    "car1.drive()"
   ]
  },
  {
   "cell_type": "code",
   "execution_count": 3,
   "id": "f17ad07c-e22b-4f70-88be-44809a080cda",
   "metadata": {},
   "outputs": [
    {
     "name": "stdout",
     "output_type": "stream",
     "text": [
      "The person drives a Diesel car\n"
     ]
    }
   ],
   "source": [
    "car2 = Car(4,2,'Diesel')\n",
    "car2.drive()"
   ]
  },
  {
   "cell_type": "markdown",
   "id": "14aacbb6-72ae-429f-bca1-855a81300006",
   "metadata": {},
   "source": [
    "#### Child class"
   ]
  },
  {
   "cell_type": "code",
   "execution_count": 11,
   "id": "2d5749da-25b8-4b45-bf2e-12148548aa41",
   "metadata": {},
   "outputs": [],
   "source": [
    "class Tesla(Car):\n",
    "    def __init__(self,doors,windows,enginetype,is_selfdriving):\n",
    "        super().__init__(doors,windows,enginetype)\n",
    "        self.is_selfdriving = is_selfdriving\n",
    "\n",
    "    def selfdriving(self):\n",
    "        print(f'Tesla supports selfdriving: {self.is_selfdriving}')"
   ]
  },
  {
   "cell_type": "code",
   "execution_count": 12,
   "id": "a7cccb70-b063-4397-a96d-d711b281e429",
   "metadata": {},
   "outputs": [
    {
     "name": "stdout",
     "output_type": "stream",
     "text": [
      "Tesla supports selfdriving: True\n"
     ]
    }
   ],
   "source": [
    "tesla = Tesla(3,4,'electric',True)\n",
    "tesla.selfdriving()"
   ]
  },
  {
   "cell_type": "code",
   "execution_count": null,
   "id": "0ce42938-2605-428b-9cc6-babd6f04bd09",
   "metadata": {},
   "outputs": [],
   "source": []
  }
 ],
 "metadata": {
  "kernelspec": {
   "display_name": "Python 3 (ipykernel)",
   "language": "python",
   "name": "python3"
  },
  "language_info": {
   "codemirror_mode": {
    "name": "ipython",
    "version": 3
   },
   "file_extension": ".py",
   "mimetype": "text/x-python",
   "name": "python",
   "nbconvert_exporter": "python",
   "pygments_lexer": "ipython3",
   "version": "3.13.5"
  }
 },
 "nbformat": 4,
 "nbformat_minor": 5
}
