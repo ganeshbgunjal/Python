{
 "cells": [
  {
   "cell_type": "markdown",
   "id": "afab311a-cad9-46fa-9760-771ef8f4e1a4",
   "metadata": {},
   "source": [
    "## Operator Overloading:--"
   ]
  },
  {
   "cell_type": "markdown",
   "id": "ef970c2e-df10-496e-852d-d3a6ee915d87",
   "metadata": {},
   "source": [
    "#### Common operator overloading magic methods:---"
   ]
  },
  {
   "cell_type": "code",
   "execution_count": 1,
   "id": "3bb035e2-71de-445d-baa1-53fb28255e46",
   "metadata": {},
   "outputs": [
    {
     "data": {
      "text/plain": [
       "'\\n__add__(self,other) : adds two objects using + operator\\n__sub__(self,other) : substracts two objects using the - operator\\n__mul__(self,other) : multiplies two objects using * operator\\n__truediv__(self,other) : divides two objects using / operator\\n__eq__(self,other) : checks two objects are equal using the == operator\\n__lt__(self,other) : check two objects are less than using < operator\\n__gt__(self,other) : check two objects are greater than using > operator\\n'"
      ]
     },
     "execution_count": 1,
     "metadata": {},
     "output_type": "execute_result"
    }
   ],
   "source": [
    "'''\n",
    "__add__(self,other) : adds two objects using + operator\n",
    "__sub__(self,other) : substracts two objects using the - operator\n",
    "__mul__(self,other) : multiplies two objects using * operator\n",
    "__truediv__(self,other) : divides two objects using / operator\n",
    "__eq__(self,other) : checks two objects are equal using the == operator\n",
    "__lt__(self,other) : check two objects are less than using < operator\n",
    "__gt__(self,other) : check two objects are greater than using > operator\n",
    "'''"
   ]
  },
  {
   "cell_type": "code",
   "execution_count": 3,
   "id": "e32cd87f-0b85-4c73-b864-a6bb39f376e3",
   "metadata": {},
   "outputs": [
    {
     "name": "stdout",
     "output_type": "stream",
     "text": [
      "Vector(7, 9)\n",
      "Vector(-1, -1)\n",
      "Vector(12, 20)\n",
      "Vector(False, False)\n"
     ]
    }
   ],
   "source": [
    "class Vector:\n",
    "     def __init__(self,x,y):\n",
    "        self.x = x\n",
    "        self.y = y\n",
    "\n",
    "     def __add__(self,other):\n",
    "        return Vector(self.x + other.x,self.y + other.y)\n",
    "\n",
    "     def __sub__(self,other):\n",
    "        return Vector(self.x - other.x,self.y - other.y)\n",
    "\n",
    "     def __mul__(self,other):\n",
    "        return Vector(self.x * other.x,self.y * other.y)\n",
    "\n",
    "     def __eq__(self,other):\n",
    "        return Vector(self.x == other.x,self.y == other.y)\n",
    "\n",
    "     def __repr__(self):\n",
    "        return f'Vector({self.x}, {self.y})'\n",
    "\n",
    "\n",
    "#create objects of the vector\n",
    "\n",
    "v1 = Vector(3,4)\n",
    "v2 = Vector(4,5)\n",
    "\n",
    "print(v1+v2)\n",
    "print(v1-v2)\n",
    "print(v1*v2)\n",
    "print(v1==v2)         "
   ]
  },
  {
   "cell_type": "code",
   "execution_count": null,
   "id": "19e6691f-a23d-463c-b5f9-c88cf5f5d927",
   "metadata": {},
   "outputs": [],
   "source": []
  }
 ],
 "metadata": {
  "kernelspec": {
   "display_name": "Python 3 (ipykernel)",
   "language": "python",
   "name": "python3"
  },
  "language_info": {
   "codemirror_mode": {
    "name": "ipython",
    "version": 3
   },
   "file_extension": ".py",
   "mimetype": "text/x-python",
   "name": "python",
   "nbconvert_exporter": "python",
   "pygments_lexer": "ipython3",
   "version": "3.13.5"
  }
 },
 "nbformat": 4,
 "nbformat_minor": 5
}
