{
 "cells": [
  {
   "cell_type": "markdown",
   "id": "9748bb4e-d673-49e2-bd6d-b42f27100e79",
   "metadata": {},
   "source": [
    "### Polymorphism:--"
   ]
  },
  {
   "cell_type": "markdown",
   "id": "78615858-eba7-499f-b286-1627cdfb2e2f",
   "metadata": {},
   "source": [
    "#### Meaning of Polymorphism:--\n",
    "The word poly means many and morph means forms.\n",
    "#### In Python OOP, it means:\n",
    "\n",
    "The same method name can be used for different types of objects, but each object can behave differently."
   ]
  },
  {
   "cell_type": "code",
   "execution_count": null,
   "id": "6bbae6db-2967-4613-b995-3f8f920ec817",
   "metadata": {},
   "outputs": [],
   "source": []
  }
 ],
 "metadata": {
  "kernelspec": {
   "display_name": "Python 3 (ipykernel)",
   "language": "python",
   "name": "python3"
  },
  "language_info": {
   "codemirror_mode": {
    "name": "ipython",
    "version": 3
   },
   "file_extension": ".py",
   "mimetype": "text/x-python",
   "name": "python",
   "nbconvert_exporter": "python",
   "pygments_lexer": "ipython3",
   "version": "3.13.5"
  }
 },
 "nbformat": 4,
 "nbformat_minor": 5
}
