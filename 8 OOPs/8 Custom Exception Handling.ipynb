{
 "cells": [
  {
   "cell_type": "markdown",
   "id": "bb95d636-9d54-4482-8a08-085dcb04b49f",
   "metadata": {},
   "source": [
    "### Custom Exception Handling(Raise and Throw an Exception):--"
   ]
  },
  {
   "cell_type": "markdown",
   "id": "8401f30e-8c6e-42c5-84cb-733c08eb910d",
   "metadata": {},
   "source": [
    "In Python, we use raise to throw (raise) exceptions.\n",
    "There is no throw keyword like in Java or C++, but raise serves the same purpose."
   ]
  },
  {
   "cell_type": "code",
   "execution_count": 1,
   "id": "f2ed3503-809d-437c-bf35-e17cb4490b8b",
   "metadata": {},
   "outputs": [],
   "source": [
    "class Error(Exception):\n",
    "    pass\n",
    "\n",
    "class dobException(Error):\n",
    "    pass"
   ]
  },
  {
   "cell_type": "code",
   "execution_count": 5,
   "id": "603ba007-7f63-4e8b-bf52-ba3aa8125e9c",
   "metadata": {},
   "outputs": [
    {
     "name": "stdin",
     "output_type": "stream",
     "text": [
      "Enter year:  1995\n"
     ]
    },
    {
     "name": "stdout",
     "output_type": "stream",
     "text": [
      "Your age is 30 and You are eligible for filling the exam form\n"
     ]
    }
   ],
   "source": [
    "year = int(input('Enter year: '))\n",
    "age = 2025 - year\n",
    "\n",
    "try:\n",
    "    if age <=30 and age >=20:\n",
    "        print(f'Your age is {age} and You are eligible for filling the exam form')\n",
    "    else:\n",
    "        raise dobException\n",
    "except dobException:\n",
    "    print(f'Your age is {age} and your age must be within 20 to 30  years')"
   ]
  },
  {
   "cell_type": "code",
   "execution_count": null,
   "id": "3090384e-14d7-4146-8754-57fa9764034d",
   "metadata": {},
   "outputs": [],
   "source": []
  }
 ],
 "metadata": {
  "kernelspec": {
   "display_name": "Python 3 (ipykernel)",
   "language": "python",
   "name": "python3"
  },
  "language_info": {
   "codemirror_mode": {
    "name": "ipython",
    "version": 3
   },
   "file_extension": ".py",
   "mimetype": "text/x-python",
   "name": "python",
   "nbconvert_exporter": "python",
   "pygments_lexer": "ipython3",
   "version": "3.13.5"
  }
 },
 "nbformat": 4,
 "nbformat_minor": 5
}
