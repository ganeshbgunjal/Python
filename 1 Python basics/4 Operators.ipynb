{
 "cells": [
  {
   "cell_type": "markdown",
   "id": "72f5953d-7c93-4bc0-9588-2ea2ecbd3df4",
   "metadata": {},
   "source": [
    "## Operators:"
   ]
  },
  {
   "cell_type": "markdown",
   "id": "0cf100d9-fad1-483b-994f-9aa92390a27a",
   "metadata": {},
   "source": [
    "### Some important Operators:--"
   ]
  },
  {
   "cell_type": "markdown",
   "id": "77d05f7c-7c48-4549-931f-bfb971bc8d9f",
   "metadata": {},
   "source": [
    "1. Arithmatic Operators:- \n",
    "    1. Addition\n",
    "    2. Substraction\n",
    "    3. Multiplcation\n",
    "    4. Division\n",
    "    5. Floor Division\n",
    "    6. Modulus\n",
    "    7. Exponentiation\n",
    "       \n",
    "2. Comparison Operators:--\n",
    "    1. Equal to\n",
    "    2. Not equal to\n",
    "    3. less than\n",
    "    4. greater than\n",
    "    5. greater than or equal to\n",
    "    6. less than or equal to\n",
    "   \n",
    "3. Logical Operators:--\n",
    "    1. AND\n",
    "    2. OR\n",
    "    3. NOT"
   ]
  },
  {
   "cell_type": "markdown",
   "id": "35b1e191-860d-4a2c-9a4e-7266294345c2",
   "metadata": {},
   "source": [
    "### Arithmatic Operations:--"
   ]
  },
  {
   "cell_type": "code",
   "execution_count": 3,
   "id": "f1556aa4-1f19-4b9f-94e0-a090c96b7492",
   "metadata": {},
   "outputs": [
    {
     "name": "stdin",
     "output_type": "stream",
     "text": [
      "Enter num1:  22\n",
      "Enter num2:  9\n"
     ]
    },
    {
     "name": "stdout",
     "output_type": "stream",
     "text": [
      "Addition: 31\n",
      "Substraction: 13\n",
      "Multiplication: 198\n",
      "Division: 2.4444444444444446\n",
      "Modulus: 4\n",
      "Floor Division: 2\n",
      "Exponentiation: 1207269217792\n"
     ]
    }
   ],
   "source": [
    "num1 = int(input('Enter num1: '))\n",
    "num2= int(input('Enter num2: '))\n",
    "\n",
    "addition = num1+num2\n",
    "substraction = num1-num2\n",
    "multiplication = num1*num2\n",
    "division = num1/num2\n",
    "modulus = num1%num2\n",
    "floorDivision = num1//num2\n",
    "exponentiation = num1**num2\n",
    "\n",
    "print(f'Addition: {addition}')\n",
    "print(f'Substraction: {substraction}')\n",
    "print(f'Multiplication: {multiplication}')\n",
    "print(f'Division: {division}')\n",
    "print(f'Modulus: {modulus}')    # 22 ÷ 9 = 2 with a remainder of 4\n",
    "print(f'Floor Division: {floorDivision}')  \n",
    "print(f'Exponentiation: {exponentiation}')\n",
    "\n",
    "# Floor division is a type of division that discards the decimal part and gives you only the whole number (integer) part of the result.\n",
    "# Symbol is   //\n",
    "\n",
    "#  Floor division rounds down to the nearest smaller integer, so:\n",
    "\n",
    "#      -7 / 2 = -3.5\n",
    "\n",
    "#        -7 // 2 = -4"
   ]
  },
  {
   "cell_type": "markdown",
   "id": "e847bace-290e-4496-8682-39e59eccc7a4",
   "metadata": {},
   "source": [
    "### Comparison Operators:"
   ]
  },
  {
   "cell_type": "code",
   "execution_count": 5,
   "id": "fd7b7e7b-eb79-4e3c-a4cd-ab84e9043db7",
   "metadata": {},
   "outputs": [
    {
     "name": "stdout",
     "output_type": "stream",
     "text": [
      "Equal to: False\n",
      "Not equal to True\n",
      "Greater than: True\n",
      "Less than: False\n",
      "Less than equal to: False\n",
      "greater than: True\n"
     ]
    }
   ],
   "source": [
    "a = 10\n",
    "b = 8\n",
    "print(f'Equal to: {a==b}')\n",
    "print(f'Not equal to {a!=b}')\n",
    "print(f'Greater than: {a>b}')\n",
    "print(f'Less than: {a<b}')\n",
    "print(f'Less than equal to: {a<=b}')\n",
    "print(f'greater than: {a>=b}')\n"
   ]
  },
  {
   "cell_type": "markdown",
   "id": "e69628c0-a9fd-4891-825b-737c70fa8423",
   "metadata": {},
   "source": [
    "### Logical Operators: \n",
    "Logical operators are used to combine or compare Boolean values (True / False)."
   ]
  },
  {
   "cell_type": "markdown",
   "id": "8e54e92d-50f1-4b4a-b82a-117100389547",
   "metadata": {},
   "source": [
    "#### 1. AND\n",
    "Both conditions must be true"
   ]
  },
  {
   "cell_type": "code",
   "execution_count": 6,
   "id": "fdd6a577-219d-423f-bd6e-062573400490",
   "metadata": {},
   "outputs": [
    {
     "name": "stdout",
     "output_type": "stream",
     "text": [
      "True\n"
     ]
    }
   ],
   "source": [
    "x = True\n",
    "y = True\n",
    "\n",
    "print(x and y)"
   ]
  },
  {
   "cell_type": "code",
   "execution_count": 7,
   "id": "829ea1f6-8116-4242-a9cd-cef37580f8c4",
   "metadata": {},
   "outputs": [
    {
     "name": "stdout",
     "output_type": "stream",
     "text": [
      "False\n"
     ]
    }
   ],
   "source": [
    "x = True\n",
    "y = False\n",
    "\n",
    "print(x and y)"
   ]
  },
  {
   "cell_type": "markdown",
   "id": "c3bec6de-185f-4a01-8aa1-3907e968701b",
   "metadata": {},
   "source": [
    "#### 2. OR\n",
    "one of the both condition is true"
   ]
  },
  {
   "cell_type": "code",
   "execution_count": 10,
   "id": "f991b487-b6c6-49eb-ae8d-08a50eb00bff",
   "metadata": {},
   "outputs": [
    {
     "name": "stdout",
     "output_type": "stream",
     "text": [
      "True\n"
     ]
    }
   ],
   "source": [
    "x = True\n",
    "y = False\n",
    "\n",
    "\n",
    "print(x or y)"
   ]
  },
  {
   "cell_type": "markdown",
   "id": "ed08ba7f-781b-43f2-833f-0aabb968a23c",
   "metadata": {},
   "source": [
    "#### 3. NOT\n",
    "Not means Negation"
   ]
  },
  {
   "cell_type": "code",
   "execution_count": 13,
   "id": "86038fa8-ceb5-493b-b9d1-f4d0ee7222f1",
   "metadata": {},
   "outputs": [
    {
     "name": "stdout",
     "output_type": "stream",
     "text": [
      "False\n"
     ]
    }
   ],
   "source": [
    "x = True\n",
    "print(not(x))"
   ]
  },
  {
   "cell_type": "markdown",
   "id": "495b8540-343a-45f5-aef5-9c6fa693219a",
   "metadata": {},
   "source": [
    "#### Practical use case for logical operators:"
   ]
  },
  {
   "cell_type": "code",
   "execution_count": 14,
   "id": "50a11230-94d8-4b0a-a45b-4c12dea35238",
   "metadata": {},
   "outputs": [
    {
     "name": "stdout",
     "output_type": "stream",
     "text": [
      "Grant Access\n"
     ]
    }
   ],
   "source": [
    "age = 25\n",
    "has_id = True\n",
    "\n",
    "if age >= 18 and has_id:\n",
    "    print('Grant Access')"
   ]
  },
  {
   "cell_type": "markdown",
   "id": "09674253-2e3b-4feb-8cb6-316c292c7c9f",
   "metadata": {},
   "source": [
    "## Simple Calculator:"
   ]
  },
  {
   "cell_type": "code",
   "execution_count": 16,
   "id": "63786dea-4ad4-4483-ae3c-fe6435a3668f",
   "metadata": {},
   "outputs": [
    {
     "name": "stdin",
     "output_type": "stream",
     "text": [
      "Enter num1:  12\n",
      "Enter num2:  5\n"
     ]
    },
    {
     "name": "stdout",
     "output_type": "stream",
     "text": [
      "Addition: 17\n",
      "Substraction: 7\n",
      "Multiplication: 60\n",
      "Division: 2.4\n",
      "Floor Division: 2\n",
      "Modulus: 2\n",
      "Exponentiation: 248832\n"
     ]
    }
   ],
   "source": [
    "num1 = int(input('Enter num1: '))\n",
    "num2 = int(input('Enter num2: '))\n",
    "\n",
    "addition = num1 + num2\n",
    "substraction = num1 - num2\n",
    "multiplication = num1 * num2\n",
    "division = num1 / num2\n",
    "floor_division = num1 // num2\n",
    "modulus = num1 % num2\n",
    "exponentiation = num1 ** num2\n",
    "\n",
    "print(f'Addition: {addition}')\n",
    "print(f'Substraction: {substraction}')\n",
    "print(f'Multiplication: {multiplication}')\n",
    "print(f'Division: {division}')\n",
    "print(f'Floor Division: {floor_division}')\n",
    "print(f'Modulus: {modulus}')\n",
    "print(f'Exponentiation: {exponentiation}')"
   ]
  },
  {
   "cell_type": "code",
   "execution_count": null,
   "id": "d8713803-2913-460f-9164-c91562c2df11",
   "metadata": {},
   "outputs": [],
   "source": []
  }
 ],
 "metadata": {
  "kernelspec": {
   "display_name": "Python 3 (ipykernel)",
   "language": "python",
   "name": "python3"
  },
  "language_info": {
   "codemirror_mode": {
    "name": "ipython",
    "version": 3
   },
   "file_extension": ".py",
   "mimetype": "text/x-python",
   "name": "python",
   "nbconvert_exporter": "python",
   "pygments_lexer": "ipython3",
   "version": "3.13.5"
  }
 },
 "nbformat": 4,
 "nbformat_minor": 5
}
