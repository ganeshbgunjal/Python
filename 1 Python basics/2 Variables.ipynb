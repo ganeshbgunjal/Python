{
 "cells": [
  {
   "cell_type": "markdown",
   "id": "06435076-0b6d-447a-9cb5-fde9ab078e19",
   "metadata": {},
   "source": [
    "## Variable:--"
   ]
  },
  {
   "cell_type": "markdown",
   "id": "f0f0036b-08ce-4ba1-bc51-1e8320b23611",
   "metadata": {},
   "source": [
    "A variable in Python is like a container or label used to store data — such as numbers, text, or other objects..  \n",
    "In python variables are created when we assigns value. It happens automatically."
   ]
  },
  {
   "cell_type": "code",
   "execution_count": 1,
   "id": "d7f79d51-03e0-468b-a6ae-82b5366fedab",
   "metadata": {},
   "outputs": [
    {
     "name": "stdout",
     "output_type": "stream",
     "text": [
      "Name: Ganesh, Surname: Gunjal\n"
     ]
    }
   ],
   "source": [
    "name= 'Ganesh'\n",
    "surname = 'Gunjal'\n",
    "print(f'Name: {name}, Surname: {surname}')"
   ]
  },
  {
   "cell_type": "markdown",
   "id": "5fa9c38e-652f-48ac-8eaa-3bcd5170614f",
   "metadata": {},
   "source": [
    "### Declaing and variables: "
   ]
  },
  {
   "cell_type": "code",
   "execution_count": 2,
   "id": "0b06a7e3-7732-4dd8-b188-44f186a37168",
   "metadata": {},
   "outputs": [
    {
     "name": "stdout",
     "output_type": "stream",
     "text": [
      "Name: Ganesh, Weight: 70, Height: 5.8\n"
     ]
    }
   ],
   "source": [
    "weight = 70\n",
    "height = 5.8\n",
    "name = 'Ganesh'\n",
    "print(f'Name: {name}, Weight: {weight}, Height: {height}')"
   ]
  },
  {
   "cell_type": "markdown",
   "id": "b35c3d63-5509-40b5-b7cc-739aadf872a1",
   "metadata": {},
   "source": [
    "### Naming Conventions:\n",
    "1. Variable name should be descriptive.\n",
    "2. it must start with letter or underscore. It can contain letters, numbers, and underscore.\n",
    "3. variable names are case sensitive. "
   ]
  },
  {
   "cell_type": "code",
   "execution_count": 3,
   "id": "fd3f6ddd-9390-4b09-bacd-f8c6556cb5de",
   "metadata": {},
   "outputs": [
    {
     "name": "stdout",
     "output_type": "stream",
     "text": [
      "Ganesh\n",
      "Gunjal\n",
      "Ganaa\n"
     ]
    }
   ],
   "source": [
    "first_name = 'Ganesh'\n",
    "last_name = 'Gunjal'\n",
    "_name = 'Ganaa'\n",
    "\n",
    "#printing the names:\n",
    "print(first_name)\n",
    "print(last_name)\n",
    "print(_name)"
   ]
  },
  {
   "cell_type": "markdown",
   "id": "0a5efa3c-3e7a-497a-a824-e5a90c2227d6",
   "metadata": {},
   "source": [
    "### Invalid Variable name: "
   ]
  },
  {
   "cell_type": "code",
   "execution_count": 4,
   "id": "a4c1d5d0-87b2-44e6-9302-42634b10bd90",
   "metadata": {},
   "outputs": [
    {
     "ename": "SyntaxError",
     "evalue": "invalid decimal literal (2666542611.py, line 1)",
     "output_type": "error",
     "traceback": [
      "\u001b[1;36m  Cell \u001b[1;32mIn[4], line 1\u001b[1;36m\u001b[0m\n\u001b[1;33m    2name = 'Ganesh'\u001b[0m\n\u001b[1;37m    ^\u001b[0m\n\u001b[1;31mSyntaxError\u001b[0m\u001b[1;31m:\u001b[0m invalid decimal literal\n"
     ]
    }
   ],
   "source": [
    "2name = 'Ganesh'"
   ]
  },
  {
   "cell_type": "code",
   "execution_count": 5,
   "id": "99aa871f-e40b-4d40-9c7f-3652e3ac3cbf",
   "metadata": {},
   "outputs": [
    {
     "ename": "SyntaxError",
     "evalue": "cannot assign to expression here. Maybe you meant '==' instead of '='? (431167621.py, line 1)",
     "output_type": "error",
     "traceback": [
      "\u001b[1;36m  Cell \u001b[1;32mIn[5], line 1\u001b[1;36m\u001b[0m\n\u001b[1;33m    first-name = 'Ganesh'\u001b[0m\n\u001b[1;37m    ^\u001b[0m\n\u001b[1;31mSyntaxError\u001b[0m\u001b[1;31m:\u001b[0m cannot assign to expression here. Maybe you meant '==' instead of '='?\n"
     ]
    }
   ],
   "source": [
    "first-name = 'Ganesh'"
   ]
  },
  {
   "cell_type": "markdown",
   "id": "e0962dde-08a2-4b78-979a-82eca4bc2922",
   "metadata": {},
   "source": [
    "### Case Sensitivity:- "
   ]
  },
  {
   "cell_type": "code",
   "execution_count": 7,
   "id": "5f977cbd-d41a-4a2c-b803-46851abf2d3e",
   "metadata": {},
   "outputs": [
    {
     "data": {
      "text/plain": [
       "False"
      ]
     },
     "execution_count": 7,
     "metadata": {},
     "output_type": "execute_result"
    }
   ],
   "source": [
    "name = 'Ganesh'\n",
    "Name = 'Gunjal'\n",
    "\n",
    "name==Name"
   ]
  },
  {
   "cell_type": "markdown",
   "id": "4b73442b-2042-49f8-8e7e-01ce5fef212d",
   "metadata": {},
   "source": [
    "### Understanding the Vaiable types:\n",
    "Python is an dynamically typed. type of the variable is determined at the run time."
   ]
  },
  {
   "cell_type": "code",
   "execution_count": 8,
   "id": "7bb396b1-f0d6-4e32-ad6d-9d30d8af40c9",
   "metadata": {},
   "outputs": [
    {
     "name": "stdout",
     "output_type": "stream",
     "text": [
      "<class 'int'>\n",
      "<class 'float'>\n",
      "<class 'str'>\n",
      "<class 'bool'>\n"
     ]
    }
   ],
   "source": [
    "age = 33\n",
    "height = 5.9\n",
    "name = \"Ganesh\"\n",
    "is_student = True\n",
    "\n",
    "print(type(age))\n",
    "print(type(height))\n",
    "print(type(name))\n",
    "print(type(is_student))"
   ]
  },
  {
   "cell_type": "markdown",
   "id": "216eeae7-e427-439e-a0dc-c3a91ef21740",
   "metadata": {},
   "source": [
    "### Type checking and Conversions: \n"
   ]
  },
  {
   "cell_type": "code",
   "execution_count": 12,
   "id": "10dc7bd7-89d4-4f58-88ef-a5c746d8b856",
   "metadata": {},
   "outputs": [
    {
     "name": "stdout",
     "output_type": "stream",
     "text": [
      "<class 'float'>\n",
      "After Conversion\n",
      "<class 'int'>\n"
     ]
    }
   ],
   "source": [
    "print(type(height))\n",
    "print('After Conversion')\n",
    "print(type(int(height)))"
   ]
  },
  {
   "cell_type": "markdown",
   "id": "87ddf8e8-3410-47f5-8255-c51da0652172",
   "metadata": {},
   "source": [
    "### Dynamic Typing: \n",
    "Python allows the variable to change as the program is executed. "
   ]
  },
  {
   "cell_type": "code",
   "execution_count": 14,
   "id": "1cf73a56-985c-44c9-a410-6cd16ba34d5a",
   "metadata": {},
   "outputs": [
    {
     "name": "stdout",
     "output_type": "stream",
     "text": [
      "10 <class 'int'>\n",
      "hello <class 'str'>\n",
      "4.1 <class 'float'>\n"
     ]
    }
   ],
   "source": [
    "var = 10\n",
    "print(var, type(var))\n",
    "\n",
    "var = 'hello'\n",
    "print(var,type(var))\n",
    "\n",
    "var = 4.1\n",
    "print(var,type(var))"
   ]
  },
  {
   "cell_type": "markdown",
   "id": "8198d84a-2842-42dd-ae37-8bd151d7195f",
   "metadata": {},
   "source": [
    "## Simple Calculator:-"
   ]
  },
  {
   "cell_type": "code",
   "execution_count": 16,
   "id": "879256e1-e47c-4f65-b725-97af5cda65be",
   "metadata": {},
   "outputs": [
    {
     "name": "stdin",
     "output_type": "stream",
     "text": [
      "Enter number 1:  12\n",
      "Enter number 2:  12\n"
     ]
    },
    {
     "name": "stdout",
     "output_type": "stream",
     "text": [
      "Sum: 24\n",
      "Substraction: 0\n",
      "Multiplcation: 144\n",
      "Division: 1.0\n"
     ]
    }
   ],
   "source": [
    "num1 = int(input('Enter number 1: '))\n",
    "num2 = int(input('Enter number 2: '))\n",
    "\n",
    "sum = num1 + num2\n",
    "substraction = num1 - num2\n",
    "multiplication = num1 * num2\n",
    "division = num1 / num2\n",
    "\n",
    "print(f'Sum: {sum}')\n",
    "print(f'Substraction: {substraction}')\n",
    "print(f'Multiplcation: {multiplication}')\n",
    "print(f'Division: {division}')\n",
    "\n"
   ]
  },
  {
   "cell_type": "code",
   "execution_count": null,
   "id": "aa1b2921-918c-444a-a90c-2105ba8558fd",
   "metadata": {},
   "outputs": [],
   "source": []
  }
 ],
 "metadata": {
  "kernelspec": {
   "display_name": "Python 3 (ipykernel)",
   "language": "python",
   "name": "python3"
  },
  "language_info": {
   "codemirror_mode": {
    "name": "ipython",
    "version": 3
   },
   "file_extension": ".py",
   "mimetype": "text/x-python",
   "name": "python",
   "nbconvert_exporter": "python",
   "pygments_lexer": "ipython3",
   "version": "3.13.5"
  }
 },
 "nbformat": 4,
 "nbformat_minor": 5
}
