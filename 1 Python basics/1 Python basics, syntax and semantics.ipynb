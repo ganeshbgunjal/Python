{
 "cells": [
  {
   "cell_type": "markdown",
   "id": "de3db7fb-6ddf-4b42-a572-31882bdc21b6",
   "metadata": {},
   "source": [
    "## Python Basics, Syntax and Semantics:--"
   ]
  },
  {
   "cell_type": "markdown",
   "id": "d8e94a9f-577f-4403-93c0-3cd99e13f6f6",
   "metadata": {},
   "source": [
    "**syntax** refers to the rules and structure of how code must be written in a particular programming language."
   ]
  },
  {
   "cell_type": "markdown",
   "id": "df8e275d-a6b0-4f1b-9e8a-3e3013b7e91a",
   "metadata": {},
   "source": [
    "**semantics** is about what the code means — or what it does when it runs."
   ]
  },
  {
   "cell_type": "code",
   "execution_count": 1,
   "id": "9b9c23f3-0a6f-4f2d-82a5-dc18a9715f73",
   "metadata": {},
   "outputs": [
    {
     "name": "stdout",
     "output_type": "stream",
     "text": [
      "Data Scientist\n"
     ]
    }
   ],
   "source": [
    "print('Data Scientist')   #its called as syntax. print statement must be written like this"
   ]
  },
  {
   "cell_type": "markdown",
   "id": "59e07b66-875e-46e1-a548-54faf80356d4",
   "metadata": {},
   "source": [
    "### Single line comment:"
   ]
  },
  {
   "cell_type": "code",
   "execution_count": 2,
   "id": "d938a3a2-cb39-4e62-845b-09a6f35b14e5",
   "metadata": {},
   "outputs": [],
   "source": [
    "# this is single line comment."
   ]
  },
  {
   "cell_type": "markdown",
   "id": "6e93b769-34b3-419a-9f5a-71f180241898",
   "metadata": {},
   "source": [
    "### multi-line comment:"
   ]
  },
  {
   "cell_type": "code",
   "execution_count": 3,
   "id": "1742f34c-bcc1-4fe5-b75c-1e1913bbab1b",
   "metadata": {},
   "outputs": [
    {
     "data": {
      "text/plain": [
       "'this is multi-line comment.\\n    it include multiple line. \\n    it will not give any error. \\n    like this.\\n'"
      ]
     },
     "execution_count": 3,
     "metadata": {},
     "output_type": "execute_result"
    }
   ],
   "source": [
    "'''this is multi-line comment.\n",
    "    it include multiple line. \n",
    "    it will not give any error. \n",
    "    like this.\n",
    "'''"
   ]
  },
  {
   "cell_type": "markdown",
   "id": "1927659c-a39e-4511-a8c2-70c0c3ff661f",
   "metadata": {},
   "source": [
    "### Case sensitivity:--"
   ]
  },
  {
   "cell_type": "markdown",
   "id": "a9e1e23d-8e66-4912-b354-24496147e944",
   "metadata": {},
   "source": [
    "Python is a case sensitive language.   \n",
    "print and PRINT is not same python.   \n",
    "**if** and **IF** is same in SQL. but not in python."
   ]
  },
  {
   "cell_type": "code",
   "execution_count": 4,
   "id": "5b09981c-5fdb-4524-87b8-e33fb84a8d89",
   "metadata": {},
   "outputs": [
    {
     "name": "stdout",
     "output_type": "stream",
     "text": [
      "Ganesh\n",
      "Gunjal\n"
     ]
    }
   ],
   "source": [
    "name = 'Ganesh'\n",
    "Name = 'Gunjal'    \n",
    "\n",
    "print(name)\n",
    "print(Name)\n",
    "\n",
    "#this shows that name and NAME is not same."
   ]
  },
  {
   "cell_type": "markdown",
   "id": "1220df74-d6ff-4f1f-9a55-e95de45c860a",
   "metadata": {},
   "source": [
    "### Indentation:--"
   ]
  },
  {
   "cell_type": "markdown",
   "id": "4573699d-7024-4069-99d5-f98a751a5736",
   "metadata": {},
   "source": [
    "Indentation in Python refers to the spaces or tabs used at the beginning of a line to define the structure of your code — especially blocks like loops, functions, conditionals, etc."
   ]
  },
  {
   "cell_type": "code",
   "execution_count": 7,
   "id": "1cf6c704-4460-4125-be44-c568327765a2",
   "metadata": {},
   "outputs": [
    {
     "name": "stdout",
     "output_type": "stream",
     "text": [
      "yes\n"
     ]
    }
   ],
   "source": [
    "age = 23\n",
    "if age >= 23:\n",
    "    print('yes')    #here is indentation. generally four spaces are used or one tab space is used."
   ]
  },
  {
   "cell_type": "markdown",
   "id": "1fb6ea37-81a8-4878-b6df-c8c2234e0254",
   "metadata": {},
   "source": [
    "## Line Continuation:\n",
    "while giving backslash, dont use spaces after backslash, else it will give error."
   ]
  },
  {
   "cell_type": "code",
   "execution_count": 15,
   "id": "55a2f094-2963-4f21-a7f9-6c4e6088592b",
   "metadata": {},
   "outputs": [
    {
     "name": "stdout",
     "output_type": "stream",
     "text": [
      "37\n",
      "38\n"
     ]
    }
   ],
   "source": [
    "total = 1+2+3+5+9+\\\n",
    "5+8+4\n",
    "print(total)\n",
    "\n",
    "total1 = (1+2+3+6+5+\n",
    "          4+9+8)\n",
    "print(total1)   #This is also best one"
   ]
  },
  {
   "cell_type": "markdown",
   "id": "7f3c3665-f87c-481e-94a6-e8ec7aa0f1ce",
   "metadata": {},
   "source": [
    "### Multiple statements on a single line:--"
   ]
  },
  {
   "cell_type": "code",
   "execution_count": 16,
   "id": "dac164ca-505a-4767-9e03-122893e9d3f6",
   "metadata": {},
   "outputs": [
    {
     "name": "stdout",
     "output_type": "stream",
     "text": [
      "10 20 30\n"
     ]
    }
   ],
   "source": [
    "x=10; y=20; z=30\n",
    "print(x,y,z)"
   ]
  },
  {
   "cell_type": "markdown",
   "id": "5a86bb84-7ba5-43f2-b769-b294277bb247",
   "metadata": {},
   "source": [
    "## Understanding the semantics:--"
   ]
  },
  {
   "cell_type": "markdown",
   "id": "b7dc4ea2-c88e-4341-8b86-20500e84cf09",
   "metadata": {},
   "source": [
    "### Variable assignment:"
   ]
  },
  {
   "cell_type": "code",
   "execution_count": 23,
   "id": "89ce04fd-db3a-4c54-80c1-e36260519955",
   "metadata": {},
   "outputs": [
    {
     "name": "stdout",
     "output_type": "stream",
     "text": [
      "33\n",
      "Ganesh\n",
      "<class 'int'>\n",
      "<class 'str'>\n"
     ]
    }
   ],
   "source": [
    "age=33\n",
    "print(age)   #age is a intege value. its detected at the runtime by the compiler.\n",
    "name= 'Ganesh'\n",
    "print(name)   #name is a string type.\n",
    "\n",
    "print(type(age))\n",
    "print(type(name))"
   ]
  },
  {
   "cell_type": "markdown",
   "id": "26d4067e-126e-4298-82d4-c0969de222d2",
   "metadata": {},
   "source": [
    "### Time inference:--"
   ]
  },
  {
   "cell_type": "markdown",
   "id": "6826c74f-5ee2-4f20-99be-43495a3a8e62",
   "metadata": {},
   "source": [
    "The programming language automatically guesses the type of a variable based on the value assigned to it — without needing you to explicitly tell it.  \n",
    "Python is dynamically typed, which means:  \n",
    "\n",
    "You don’t have to declare variable types manually  \n",
    "\n",
    "Python infers the type at runtime"
   ]
  },
  {
   "cell_type": "code",
   "execution_count": 24,
   "id": "02529c30-ce04-41ad-a1a4-fd28f4db0c42",
   "metadata": {},
   "outputs": [
    {
     "name": "stdout",
     "output_type": "stream",
     "text": [
      "<class 'int'>\n",
      "10\n"
     ]
    }
   ],
   "source": [
    "variable = 10\n",
    "print(type(variable))\n",
    "print(variable)"
   ]
  },
  {
   "cell_type": "code",
   "execution_count": 26,
   "id": "8e9e4ebe-5cfe-4f95-be3a-f5c0fa029fa6",
   "metadata": {},
   "outputs": [
    {
     "name": "stdout",
     "output_type": "stream",
     "text": [
      "Type: <class 'int'>\n",
      "10\n",
      "10\n",
      "Type: <class 'int'>\n"
     ]
    }
   ],
   "source": [
    "string = 10\n",
    "print(f'Type: {type(string)}')\n",
    "print(int(string))\n",
    "print(string)\n",
    "print(f'Type: {type(string)}')"
   ]
  },
  {
   "cell_type": "markdown",
   "id": "01bd9b0c-15cc-4425-9749-048449f512ca",
   "metadata": {},
   "source": [
    "### Type Casting:--"
   ]
  },
  {
   "cell_type": "markdown",
   "id": "65b8ad7f-bd4c-4111-a34d-7d2969983a13",
   "metadata": {},
   "source": [
    "**Type casting** means converting one data type into another, such as turning a string into an integer, a float into a string, etc."
   ]
  },
  {
   "cell_type": "code",
   "execution_count": 28,
   "id": "e79d1af4-d3db-4140-b3ac-977a8f6aecea",
   "metadata": {},
   "outputs": [
    {
     "name": "stdout",
     "output_type": "stream",
     "text": [
      "Type: <class 'int'>\n",
      "10\n",
      "10\n",
      "Type: <class 'int'>\n"
     ]
    }
   ],
   "source": [
    "string = 10\n",
    "print(f'Type: {type(string)}')\n",
    "print(int(string))\n",
    "print(string)\n",
    "print(f'Type: {type(string)}')"
   ]
  },
  {
   "cell_type": "markdown",
   "id": "a0b2344e-5bd3-4d53-88df-172632ff68e9",
   "metadata": {},
   "source": [
    "### Code explanation with Indentation:--"
   ]
  },
  {
   "cell_type": "code",
   "execution_count": 27,
   "id": "367a741e-5676-4693-bb98-4c6304385aa3",
   "metadata": {},
   "outputs": [
    {
     "name": "stdout",
     "output_type": "stream",
     "text": [
      "Correct Indentation\n",
      "This will print\n",
      "outside the If block\n"
     ]
    }
   ],
   "source": [
    "if True:\n",
    "    print('Correct Indentation')\n",
    "    if False:\n",
    "        print('This will not print, as statemet is true. this will not check this condition of false.')\n",
    "    print('This will print')\n",
    "print('outside the If block')"
   ]
  },
  {
   "cell_type": "code",
   "execution_count": null,
   "id": "c8b7f342-d8b6-49fe-bdda-3289c95522b6",
   "metadata": {},
   "outputs": [],
   "source": []
  }
 ],
 "metadata": {
  "kernelspec": {
   "display_name": "Python 3 (ipykernel)",
   "language": "python",
   "name": "python3"
  },
  "language_info": {
   "codemirror_mode": {
    "name": "ipython",
    "version": 3
   },
   "file_extension": ".py",
   "mimetype": "text/x-python",
   "name": "python",
   "nbconvert_exporter": "python",
   "pygments_lexer": "ipython3",
   "version": "3.13.5"
  }
 },
 "nbformat": 4,
 "nbformat_minor": 5
}
