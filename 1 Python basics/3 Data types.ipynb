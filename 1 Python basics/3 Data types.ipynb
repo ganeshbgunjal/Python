{
 "cells": [
  {
   "cell_type": "markdown",
   "id": "22bb6988-fdb6-4276-bb2f-a07b050fa2a2",
   "metadata": {},
   "source": [
    "### Data types: \n",
    "Data types define the kind of value a variable holds.. \n",
    "the values that the data takes, and the amoutn of the memory needed to store the data. "
   ]
  },
  {
   "cell_type": "markdown",
   "id": "0df20be6-bfc8-49cf-9fcd-e7c411b3df5f",
   "metadata": {},
   "source": [
    "### Importance of the data types:\n",
    "1. Data types ensures that the data is store in an efficient way.\n",
    "2. They help in perfoming correct operations on data.\n",
    "3. Proper use of data types can prevent bugs and errors in the program."
   ]
  },
  {
   "cell_type": "markdown",
   "id": "cea884ca-ea5c-418a-a27d-3b6d9610d51f",
   "metadata": {},
   "source": [
    "### Integer examples:"
   ]
  },
  {
   "cell_type": "code",
   "execution_count": 1,
   "id": "0ac522cd-8289-4345-a400-6cbc79453129",
   "metadata": {},
   "outputs": [
    {
     "name": "stdout",
     "output_type": "stream",
     "text": [
      "23\n",
      "30\n",
      "100\n"
     ]
    }
   ],
   "source": [
    "age = 23\n",
    "states = 30\n",
    "city_lights = 100\n",
    "\n",
    "print(age)\n",
    "print(states)\n",
    "print(city_lights)"
   ]
  },
  {
   "cell_type": "markdown",
   "id": "59a5eb00-194d-472e-bbc8-b9d59b0e1a3d",
   "metadata": {},
   "source": [
    "### Floating point data types:"
   ]
  },
  {
   "cell_type": "code",
   "execution_count": 2,
   "id": "64068f3c-87eb-484b-b90b-2f77c297770d",
   "metadata": {},
   "outputs": [
    {
     "name": "stdout",
     "output_type": "stream",
     "text": [
      "5.6\n",
      "66.5\n"
     ]
    }
   ],
   "source": [
    "height = 5.6\n",
    "weight = 66.5\n",
    "print(height)\n",
    "print(weight)"
   ]
  },
  {
   "cell_type": "markdown",
   "id": "bd606544-8491-4d34-a993-fa9e420e134b",
   "metadata": {},
   "source": [
    "### String Datatypes:"
   ]
  },
  {
   "cell_type": "code",
   "execution_count": 3,
   "id": "e4fbb19a-a5d1-422e-a3ee-44344de5e96a",
   "metadata": {},
   "outputs": [
    {
     "name": "stdout",
     "output_type": "stream",
     "text": [
      "Ganesh Gunjal\n"
     ]
    }
   ],
   "source": [
    "name = 'Ganesh'\n",
    "surname = 'Gunjal'\n",
    "print(name,surname)"
   ]
  },
  {
   "cell_type": "markdown",
   "id": "24298889-334b-4f0e-8cf4-bbdfc953fa43",
   "metadata": {},
   "source": [
    "### Boolean Data types:--"
   ]
  },
  {
   "cell_type": "code",
   "execution_count": 5,
   "id": "b37aff8b-1b61-488b-b667-1ebbc6a257c5",
   "metadata": {},
   "outputs": [
    {
     "name": "stdout",
     "output_type": "stream",
     "text": [
      "True\n",
      "<class 'bool'>\n"
     ]
    }
   ],
   "source": [
    "isTrue = True\n",
    "print(isTrue)\n",
    "print(type(isTrue))\n"
   ]
  },
  {
   "cell_type": "code",
   "execution_count": 6,
   "id": "11f8a579-bc16-4c3e-a964-2c6fbe16b896",
   "metadata": {},
   "outputs": [
    {
     "ename": "TypeError",
     "evalue": "can only concatenate str (not \"int\") to str",
     "output_type": "error",
     "traceback": [
      "\u001b[1;31m---------------------------------------------------------------------------\u001b[0m",
      "\u001b[1;31mTypeError\u001b[0m                                 Traceback (most recent call last)",
      "Cell \u001b[1;32mIn[6], line 1\u001b[0m\n\u001b[1;32m----> 1\u001b[0m result \u001b[38;5;241m=\u001b[39m \u001b[38;5;124m'\u001b[39m\u001b[38;5;124mHelloo\u001b[39m\u001b[38;5;124m'\u001b[39m \u001b[38;5;241m+\u001b[39m \u001b[38;5;241m5\u001b[39m\n\u001b[0;32m      2\u001b[0m \u001b[38;5;28mprint\u001b[39m(result)\n",
      "\u001b[1;31mTypeError\u001b[0m: can only concatenate str (not \"int\") to str"
     ]
    }
   ],
   "source": [
    "result = 'Helloo' + 5\n",
    "print(result)"
   ]
  },
  {
   "cell_type": "code",
   "execution_count": 7,
   "id": "462b3364-17a1-481c-8e43-49e1a29aae40",
   "metadata": {},
   "outputs": [
    {
     "name": "stdout",
     "output_type": "stream",
     "text": [
      "Hello5\n"
     ]
    }
   ],
   "source": [
    "result = 'Hello' + str(5)\n",
    "print(result)"
   ]
  },
  {
   "cell_type": "code",
   "execution_count": null,
   "id": "4a21743b-6a3b-4144-8d2a-bd323d2ef0eb",
   "metadata": {},
   "outputs": [],
   "source": []
  }
 ],
 "metadata": {
  "kernelspec": {
   "display_name": "Python 3 (ipykernel)",
   "language": "python",
   "name": "python3"
  },
  "language_info": {
   "codemirror_mode": {
    "name": "ipython",
    "version": 3
   },
   "file_extension": ".py",
   "mimetype": "text/x-python",
   "name": "python",
   "nbconvert_exporter": "python",
   "pygments_lexer": "ipython3",
   "version": "3.13.5"
  }
 },
 "nbformat": 4,
 "nbformat_minor": 5
}
